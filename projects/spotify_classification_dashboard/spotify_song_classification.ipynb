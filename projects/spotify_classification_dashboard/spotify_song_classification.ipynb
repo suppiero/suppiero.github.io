{
 "cells": [
  {
   "attachments": {},
   "cell_type": "markdown",
   "metadata": {},
   "source": [
    "<h1><center>Spotify Classification Dashboard and Model Analysis</center></h1>\n",
    "<h3><center>By Piero Trujillo</center></h3>"
   ]
  },
  {
   "attachments": {},
   "cell_type": "markdown",
   "metadata": {},
   "source": [
    "## Introduction\n",
    "\n",
    "In this project, my friend Nirvit and I shared our 2023 Spotify Wrapped playlists so we could visualize comparisons between our music tastes and then create a model to try and predict whose playlist a song belongs to. Finally, I have compiled the results of each model into an interactive dashboard using [Panel](https://panel.holoviz.org/). \n",
    "\n",
    "This blog post will have the following sections:\n",
    "\n",
    "* Setup and Preprocessing\n",
    "\n",
    "* Exploratory Data Analysis for Feature Selection\n",
    "\n",
    "* Prepping Data For Machine Learning Models\n",
    "\n",
    "* Creating Machine Learning Models\n",
    "\n",
    "* Panel Dashboard\n",
    "\n",
    "* Final thoughts \n",
    "\n",
    "Now, let’s dive into the exciting world of music data analysis!\n",
    "\n",
    "### Understanding our Spotify Dataset\n",
    "\n",
    "**Track Metadata**\n",
    "| column | description |\n",
    "| --- | --- |\n",
    "| Song | Song title |\n",
    "| Artist | Song artist |\n",
    "| Genre | Song genre category |\n",
    "\n",
    "**Audio Numerical Quantitive Data**\n",
    "| column | description |\n",
    "| --- | --- |\n",
    "| Loud | How loud a song is (db) |\n",
    "| Time Seconds | Duration of the song in seconds |\n",
    "| BPM | Average song tempo / how fast a song is |\n",
    "\n",
    "**Audio Qualitative Data**\n",
    "| column | description |\n",
    "| --- | --- |\n",
    "| Energy | How energetic the song is |\n",
    "| Dance | How easy the song is to dance to |\n",
    "| Happy | How positive the mood of the song is |\n",
    "| Acoustic | How acoustic sounding the song is |\n",
    "| Speech | How much of a song is spoken word |\n",
    "| Popularity |  How popular a song is (at time of data collection) |\n",
    "| Live | How likely the song is a live recording (higher value = live recording) |\n",
    "| Instrumental | Measures if the song is more music and less vocals |\n",
    "\n",
    "\n",
    "**Audio Categorical Data**\n",
    "| column | description |\n",
    "| --- | --- |\n",
    "| Key | The most repeated key in the song |\n",
    "| Time Signature | Numerical representation of rhythmic structure in song |\n",
    "| Camelot | Musical key of a song for harmonic mixing |\n",
    "| Playlist Owner | Who's playlist the song belongs to |\n",
    "\n",
    "\n",
    "[**Gather Your Own Spotify Dataset**](https://www.chosic.com/spotify-playlist-analyzer/?plid=37i9dQZF1Fa1IIVtEpGUcU)\n"
   ]
  },
  {
   "attachments": {},
   "cell_type": "markdown",
   "metadata": {},
   "source": [
    "## Setup and Preprocessing"
   ]
  },
  {
   "cell_type": "code",
   "execution_count": 1,
   "metadata": {},
   "outputs": [],
   "source": [
    "import pandas as pd\n",
    "import seaborn as sns\n",
    "import matplotlib.pyplot as plt\n",
    "import numpy as np\n",
    "\n",
    "# Read in csv file to create tabular dataframe \n",
    "piero_top_songs = pd.read_csv(\"/Users/piero/Downloads/Spotify_Project/Piero_Top_Songs_2023.csv\") \n",
    "nirvit_top_songs = pd.read_csv(\"/Users/piero/Downloads/Spotify_Project/Nirvit_Top_Songs_2023.csv\") \n",
    "\n",
    "# Add a truth column to classify whether a song is from Piero's or Nirvit's playlist\n",
    "piero_top_songs['Playlist Owner'] = 'Piero'\n",
    "nirvit_top_songs['Playlist Owner'] = 'Nirvit'\n",
    "\n",
    "# Convert time to seconds\n",
    "piero_top_songs['Time Seconds'] = pd.to_timedelta('00:' + piero_top_songs['Time']).dt.total_seconds().astype(int)\n",
    "nirvit_top_songs['Time Seconds'] = pd.to_timedelta('00:' + nirvit_top_songs['Time']).dt.total_seconds().astype(int)\n",
    "\n",
    "# Remove unnecessary columns\n",
    "piero_top_songs = piero_top_songs.drop(columns=['Song Preview', 'Spotify Track Img', 'Album Label', 'Spotify Track Id', 'Added At', 'Spotify Track Id', '#', 'Album', 'Album Date', 'Time'])\n",
    "nirvit_top_songs = nirvit_top_songs.drop(columns=['Song Preview', 'Spotify Track Img', 'Album Label', 'Spotify Track Id', 'Added At', 'Spotify Track Id', '#', 'Album', 'Album Date', 'Time'])\n",
    "\n",
    "# Join playlists into one dataframe\n",
    "all_songs = pd.concat([piero_top_songs, nirvit_top_songs])\n",
    "\n",
    "# Convert all object columns to type string\n",
    "object_columns = all_songs.select_dtypes(include=['object']).columns # First, create list of object columns to convert\n",
    "all_songs[object_columns] = all_songs[object_columns].astype('string')\n",
    "\n",
    "#print(all_songs.dtypes) # Check that column types have been converted to string"
   ]
  },
  {
   "cell_type": "code",
   "execution_count": 2,
   "metadata": {},
   "outputs": [],
   "source": [
    "# Check for null values\n",
    "all_songs.isnull().sum().sum() # 9 NaN values in 'Genres' and 'Parent Genres' columns\n",
    "\n",
    "# Create dataframe of songs containing NaN values in either 'Genres' or 'Parent Genres'\n",
    "nan_rows = all_songs[(all_songs['Genres'].isnull()) | (all_songs['Parent Genres'].isnull())]\n",
    "\n",
    "# Fill NaNs in 'Parent Genres' column with 'Unknown' since I cannot find them on Spotify or Google\n",
    "all_songs[['Genres']] = all_songs[['Genres']].fillna('Unknown')\n",
    "\n",
    "# Populate NaN values in 'Genres' column with genres found on Spotify or Google for specified song and artist\n",
    "all_songs.loc[(all_songs['Song'] == 'Mumbo Sugar') & (all_songs['Artist'] == 'Arc De Soleil'), ['Parent Genres']] = ['R&B, Soul']\n",
    "\n",
    "all_songs.loc[(all_songs['Song'] == 'Give It Back') & (all_songs['Artist'] == 'Gaelle'), ['Parent Genres']] = ['Dance, Electronic']\n",
    "\n",
    "all_songs.loc[(all_songs['Song'] == '愛してる') & (all_songs['Artist'] == \"callin'\"), ['Parent Genres']] = ['Anime, J-Pop']\n",
    "\n",
    "all_songs.loc[(all_songs['Song'] == 'You Are Mine') & (all_songs['Artist'] == 'Jay Robinson'), ['Parent Genres']] = ['Classic Soul']\n",
    "\n",
    "all_songs.loc[(all_songs['Song'] == 'Thank You DubNation! (the page will never be long enough)') & (all_songs['Artist'] == 'herlovebeheadsdaisies'), ['Parent Genres']] = ['Screamo']\n",
    "\n",
    "# Convert categorical variables to factors - allow us to use non-numeric data in statistical modeling\n",
    "object_columns = all_songs.select_dtypes(include=['object']).columns # First, create list of object columns to convert\n",
    "all_songs[object_columns] = all_songs[object_columns].astype('category')"
   ]
  },
  {
   "cell_type": "code",
   "execution_count": 3,
   "metadata": {},
   "outputs": [
    {
     "data": {
      "text/html": [
       "<div>\n",
       "<style scoped>\n",
       "    .dataframe tbody tr th:only-of-type {\n",
       "        vertical-align: middle;\n",
       "    }\n",
       "\n",
       "    .dataframe tbody tr th {\n",
       "        vertical-align: top;\n",
       "    }\n",
       "\n",
       "    .dataframe thead th {\n",
       "        text-align: right;\n",
       "    }\n",
       "</style>\n",
       "<table border=\"1\" class=\"dataframe\">\n",
       "  <thead>\n",
       "    <tr style=\"text-align: right;\">\n",
       "      <th></th>\n",
       "      <th>Song</th>\n",
       "      <th>Artist</th>\n",
       "      <th>Popularity</th>\n",
       "      <th>BPM</th>\n",
       "      <th>Genres</th>\n",
       "      <th>Parent Genres</th>\n",
       "      <th>Dance</th>\n",
       "      <th>Energy</th>\n",
       "      <th>Acoustic</th>\n",
       "      <th>Instrumental</th>\n",
       "      <th>Happy</th>\n",
       "      <th>Speech</th>\n",
       "      <th>Live</th>\n",
       "      <th>Loud</th>\n",
       "      <th>Key</th>\n",
       "      <th>Time Signature</th>\n",
       "      <th>Camelot</th>\n",
       "      <th>Playlist Owner</th>\n",
       "      <th>Time Seconds</th>\n",
       "    </tr>\n",
       "  </thead>\n",
       "  <tbody>\n",
       "  </tbody>\n",
       "</table>\n",
       "</div>"
      ],
      "text/plain": [
       "Empty DataFrame\n",
       "Columns: [Song, Artist, Popularity, BPM, Genres, Parent Genres, Dance, Energy, Acoustic, Instrumental, Happy, Speech, Live, Loud, Key, Time Signature, Camelot, Playlist Owner, Time Seconds]\n",
       "Index: []"
      ]
     },
     "execution_count": 3,
     "metadata": {},
     "output_type": "execute_result"
    }
   ],
   "source": [
    "# Making sure there are no null values left in the dataset\n",
    "nan_rows = all_songs[(all_songs['Genres'].isnull()) | (all_songs['Parent Genres'].isnull())]\n",
    "nan_rows"
   ]
  },
  {
   "cell_type": "code",
   "execution_count": 4,
   "metadata": {},
   "outputs": [
    {
     "name": "stdout",
     "output_type": "stream",
     "text": [
      "Number of unique genres: 17\n"
     ]
    }
   ],
   "source": [
    "# Splitting 'Parent Genres' column since there are so many different genres\n",
    "first_instance = all_songs['Parent Genres'].str.split(',').str[0] # extract first genre element\n",
    "\n",
    "# Assign first instance to new 'Genre' column\n",
    "all_songs['Genre'] = first_instance\n",
    "\n",
    "unique_genres = all_songs['Genre'].unique()\n",
    "num_unique_genres = len(unique_genres)\n",
    "print(\"Number of unique genres:\", num_unique_genres)\n",
    "\n",
    "# Counting unique genres\n",
    "all_songs['Genre'].value_counts() # 17 (now) vs 56 (before)\n",
    "\n",
    "# Remove unnecessary columns\n",
    "all_songs = all_songs.drop(columns=['Parent Genres', 'Genres'])"
   ]
  },
  {
   "cell_type": "code",
   "execution_count": 5,
   "metadata": {},
   "outputs": [
    {
     "name": "stdout",
     "output_type": "stream",
     "text": [
      "Song              string\n",
      "Artist            string\n",
      "Popularity         int64\n",
      "BPM                int64\n",
      "Dance              int64\n",
      "Energy             int64\n",
      "Acoustic           int64\n",
      "Instrumental       int64\n",
      "Happy              int64\n",
      "Speech             int64\n",
      "Live               int64\n",
      "Loud               int64\n",
      "Key               string\n",
      "Time Signature     int64\n",
      "Camelot           string\n",
      "Playlist Owner    string\n",
      "Time Seconds       int64\n",
      "Genre             object\n",
      "dtype: object\n"
     ]
    }
   ],
   "source": [
    "print(all_songs.dtypes) # Check categorical column types have been converted to string"
   ]
  },
  {
   "attachments": {},
   "cell_type": "markdown",
   "metadata": {},
   "source": [
    "#### Final Dataset"
   ]
  },
  {
   "cell_type": "code",
   "execution_count": 6,
   "metadata": {},
   "outputs": [
    {
     "data": {
      "text/html": [
       "<div>\n",
       "<style scoped>\n",
       "    .dataframe tbody tr th:only-of-type {\n",
       "        vertical-align: middle;\n",
       "    }\n",
       "\n",
       "    .dataframe tbody tr th {\n",
       "        vertical-align: top;\n",
       "    }\n",
       "\n",
       "    .dataframe thead th {\n",
       "        text-align: right;\n",
       "    }\n",
       "</style>\n",
       "<table border=\"1\" class=\"dataframe\">\n",
       "  <thead>\n",
       "    <tr style=\"text-align: right;\">\n",
       "      <th></th>\n",
       "      <th>Song</th>\n",
       "      <th>Artist</th>\n",
       "      <th>Popularity</th>\n",
       "      <th>BPM</th>\n",
       "      <th>Dance</th>\n",
       "      <th>Energy</th>\n",
       "      <th>Acoustic</th>\n",
       "      <th>Instrumental</th>\n",
       "      <th>Happy</th>\n",
       "      <th>Speech</th>\n",
       "      <th>Live</th>\n",
       "      <th>Loud</th>\n",
       "      <th>Key</th>\n",
       "      <th>Time Signature</th>\n",
       "      <th>Camelot</th>\n",
       "      <th>Playlist Owner</th>\n",
       "      <th>Time Seconds</th>\n",
       "      <th>Genre</th>\n",
       "    </tr>\n",
       "  </thead>\n",
       "  <tbody>\n",
       "    <tr>\n",
       "      <th>0</th>\n",
       "      <td>CAN'T SAY</td>\n",
       "      <td>Travis Scott</td>\n",
       "      <td>80</td>\n",
       "      <td>148</td>\n",
       "      <td>70</td>\n",
       "      <td>71</td>\n",
       "      <td>20</td>\n",
       "      <td>0</td>\n",
       "      <td>71</td>\n",
       "      <td>0</td>\n",
       "      <td>10</td>\n",
       "      <td>-5</td>\n",
       "      <td>A#/B♭ Minor</td>\n",
       "      <td>4</td>\n",
       "      <td>3A</td>\n",
       "      <td>Piero</td>\n",
       "      <td>198</td>\n",
       "      <td>Hip Hop</td>\n",
       "    </tr>\n",
       "    <tr>\n",
       "      <th>1</th>\n",
       "      <td>New Gold (feat. Tame Impala and Bootie Brown)</td>\n",
       "      <td>Gorillaz,Tame Impala,Bootie Brown</td>\n",
       "      <td>71</td>\n",
       "      <td>108</td>\n",
       "      <td>70</td>\n",
       "      <td>92</td>\n",
       "      <td>4</td>\n",
       "      <td>5</td>\n",
       "      <td>55</td>\n",
       "      <td>0</td>\n",
       "      <td>10</td>\n",
       "      <td>-4</td>\n",
       "      <td>C♯/D♭ Minor</td>\n",
       "      <td>3</td>\n",
       "      <td>12A</td>\n",
       "      <td>Piero</td>\n",
       "      <td>215</td>\n",
       "      <td>Hip Hop</td>\n",
       "    </tr>\n",
       "    <tr>\n",
       "      <th>2</th>\n",
       "      <td>1AM FREESTYLE</td>\n",
       "      <td>Joji</td>\n",
       "      <td>68</td>\n",
       "      <td>126</td>\n",
       "      <td>62</td>\n",
       "      <td>54</td>\n",
       "      <td>75</td>\n",
       "      <td>0</td>\n",
       "      <td>12</td>\n",
       "      <td>0</td>\n",
       "      <td>10</td>\n",
       "      <td>-6</td>\n",
       "      <td>C Minor</td>\n",
       "      <td>4</td>\n",
       "      <td>5A</td>\n",
       "      <td>Piero</td>\n",
       "      <td>113</td>\n",
       "      <td>Pop</td>\n",
       "    </tr>\n",
       "    <tr>\n",
       "      <th>3</th>\n",
       "      <td>20 Min</td>\n",
       "      <td>Lil Uzi Vert</td>\n",
       "      <td>84</td>\n",
       "      <td>123</td>\n",
       "      <td>77</td>\n",
       "      <td>75</td>\n",
       "      <td>11</td>\n",
       "      <td>0</td>\n",
       "      <td>78</td>\n",
       "      <td>10</td>\n",
       "      <td>10</td>\n",
       "      <td>-4</td>\n",
       "      <td>G#/A♭ Minor</td>\n",
       "      <td>4</td>\n",
       "      <td>1A</td>\n",
       "      <td>Piero</td>\n",
       "      <td>220</td>\n",
       "      <td>Hip Hop</td>\n",
       "    </tr>\n",
       "    <tr>\n",
       "      <th>4</th>\n",
       "      <td>The Less I Know The Better</td>\n",
       "      <td>Tame Impala</td>\n",
       "      <td>88</td>\n",
       "      <td>117</td>\n",
       "      <td>64</td>\n",
       "      <td>74</td>\n",
       "      <td>1</td>\n",
       "      <td>1</td>\n",
       "      <td>79</td>\n",
       "      <td>0</td>\n",
       "      <td>10</td>\n",
       "      <td>-4</td>\n",
       "      <td>E Major</td>\n",
       "      <td>4</td>\n",
       "      <td>12B</td>\n",
       "      <td>Piero</td>\n",
       "      <td>216</td>\n",
       "      <td>Metal</td>\n",
       "    </tr>\n",
       "    <tr>\n",
       "      <th>...</th>\n",
       "      <td>...</td>\n",
       "      <td>...</td>\n",
       "      <td>...</td>\n",
       "      <td>...</td>\n",
       "      <td>...</td>\n",
       "      <td>...</td>\n",
       "      <td>...</td>\n",
       "      <td>...</td>\n",
       "      <td>...</td>\n",
       "      <td>...</td>\n",
       "      <td>...</td>\n",
       "      <td>...</td>\n",
       "      <td>...</td>\n",
       "      <td>...</td>\n",
       "      <td>...</td>\n",
       "      <td>...</td>\n",
       "      <td>...</td>\n",
       "      <td>...</td>\n",
       "    </tr>\n",
       "    <tr>\n",
       "      <th>95</th>\n",
       "      <td>FLASH CASANOVA</td>\n",
       "      <td>Yabujin</td>\n",
       "      <td>53</td>\n",
       "      <td>143</td>\n",
       "      <td>42</td>\n",
       "      <td>72</td>\n",
       "      <td>1</td>\n",
       "      <td>0</td>\n",
       "      <td>41</td>\n",
       "      <td>10</td>\n",
       "      <td>0</td>\n",
       "      <td>-10</td>\n",
       "      <td>C♯/D♭ Major</td>\n",
       "      <td>4</td>\n",
       "      <td>3B</td>\n",
       "      <td>Nirvit</td>\n",
       "      <td>163</td>\n",
       "      <td>Hip Hop</td>\n",
       "    </tr>\n",
       "    <tr>\n",
       "      <th>96</th>\n",
       "      <td>Sinceramente</td>\n",
       "      <td>Sérgio Sampaio</td>\n",
       "      <td>51</td>\n",
       "      <td>92</td>\n",
       "      <td>71</td>\n",
       "      <td>25</td>\n",
       "      <td>94</td>\n",
       "      <td>0</td>\n",
       "      <td>85</td>\n",
       "      <td>0</td>\n",
       "      <td>10</td>\n",
       "      <td>-11</td>\n",
       "      <td>E Minor</td>\n",
       "      <td>4</td>\n",
       "      <td>9A</td>\n",
       "      <td>Nirvit</td>\n",
       "      <td>78</td>\n",
       "      <td>Jazz</td>\n",
       "    </tr>\n",
       "    <tr>\n",
       "      <th>97</th>\n",
       "      <td>24 Hr Drive-Thru</td>\n",
       "      <td>Origami Angel</td>\n",
       "      <td>52</td>\n",
       "      <td>155</td>\n",
       "      <td>57</td>\n",
       "      <td>96</td>\n",
       "      <td>2</td>\n",
       "      <td>0</td>\n",
       "      <td>26</td>\n",
       "      <td>10</td>\n",
       "      <td>30</td>\n",
       "      <td>-4</td>\n",
       "      <td>G#/A♭ Major</td>\n",
       "      <td>4</td>\n",
       "      <td>4B</td>\n",
       "      <td>Nirvit</td>\n",
       "      <td>164</td>\n",
       "      <td>Rock</td>\n",
       "    </tr>\n",
       "    <tr>\n",
       "      <th>98</th>\n",
       "      <td>If I Ain't Got You</td>\n",
       "      <td>Alicia Keys</td>\n",
       "      <td>84</td>\n",
       "      <td>118</td>\n",
       "      <td>61</td>\n",
       "      <td>44</td>\n",
       "      <td>60</td>\n",
       "      <td>0</td>\n",
       "      <td>17</td>\n",
       "      <td>10</td>\n",
       "      <td>10</td>\n",
       "      <td>-9</td>\n",
       "      <td>G Major</td>\n",
       "      <td>3</td>\n",
       "      <td>9B</td>\n",
       "      <td>Nirvit</td>\n",
       "      <td>228</td>\n",
       "      <td>R&amp;B</td>\n",
       "    </tr>\n",
       "    <tr>\n",
       "      <th>99</th>\n",
       "      <td>Solitude</td>\n",
       "      <td>Lord Snow</td>\n",
       "      <td>20</td>\n",
       "      <td>85</td>\n",
       "      <td>16</td>\n",
       "      <td>99</td>\n",
       "      <td>0</td>\n",
       "      <td>9</td>\n",
       "      <td>9</td>\n",
       "      <td>30</td>\n",
       "      <td>40</td>\n",
       "      <td>-5</td>\n",
       "      <td>A Minor</td>\n",
       "      <td>4</td>\n",
       "      <td>8A</td>\n",
       "      <td>Nirvit</td>\n",
       "      <td>312</td>\n",
       "      <td>Metal</td>\n",
       "    </tr>\n",
       "  </tbody>\n",
       "</table>\n",
       "<p>200 rows × 18 columns</p>\n",
       "</div>"
      ],
      "text/plain": [
       "                                             Song  \\\n",
       "0                                       CAN'T SAY   \n",
       "1   New Gold (feat. Tame Impala and Bootie Brown)   \n",
       "2                                   1AM FREESTYLE   \n",
       "3                                          20 Min   \n",
       "4                      The Less I Know The Better   \n",
       "..                                            ...   \n",
       "95                                 FLASH CASANOVA   \n",
       "96                                   Sinceramente   \n",
       "97                               24 Hr Drive-Thru   \n",
       "98                             If I Ain't Got You   \n",
       "99                                       Solitude   \n",
       "\n",
       "                               Artist  Popularity  BPM  Dance  Energy  \\\n",
       "0                        Travis Scott          80  148     70      71   \n",
       "1   Gorillaz,Tame Impala,Bootie Brown          71  108     70      92   \n",
       "2                                Joji          68  126     62      54   \n",
       "3                        Lil Uzi Vert          84  123     77      75   \n",
       "4                         Tame Impala          88  117     64      74   \n",
       "..                                ...         ...  ...    ...     ...   \n",
       "95                            Yabujin          53  143     42      72   \n",
       "96                     Sérgio Sampaio          51   92     71      25   \n",
       "97                      Origami Angel          52  155     57      96   \n",
       "98                        Alicia Keys          84  118     61      44   \n",
       "99                          Lord Snow          20   85     16      99   \n",
       "\n",
       "    Acoustic  Instrumental  Happy  Speech  Live  Loud          Key  \\\n",
       "0         20             0     71       0    10    -5  A#/B♭ Minor   \n",
       "1          4             5     55       0    10    -4  C♯/D♭ Minor   \n",
       "2         75             0     12       0    10    -6      C Minor   \n",
       "3         11             0     78      10    10    -4  G#/A♭ Minor   \n",
       "4          1             1     79       0    10    -4      E Major   \n",
       "..       ...           ...    ...     ...   ...   ...          ...   \n",
       "95         1             0     41      10     0   -10  C♯/D♭ Major   \n",
       "96        94             0     85       0    10   -11      E Minor   \n",
       "97         2             0     26      10    30    -4  G#/A♭ Major   \n",
       "98        60             0     17      10    10    -9      G Major   \n",
       "99         0             9      9      30    40    -5      A Minor   \n",
       "\n",
       "    Time Signature Camelot Playlist Owner  Time Seconds    Genre  \n",
       "0                4      3A          Piero           198  Hip Hop  \n",
       "1                3     12A          Piero           215  Hip Hop  \n",
       "2                4      5A          Piero           113      Pop  \n",
       "3                4      1A          Piero           220  Hip Hop  \n",
       "4                4     12B          Piero           216    Metal  \n",
       "..             ...     ...            ...           ...      ...  \n",
       "95               4      3B         Nirvit           163  Hip Hop  \n",
       "96               4      9A         Nirvit            78     Jazz  \n",
       "97               4      4B         Nirvit           164     Rock  \n",
       "98               3      9B         Nirvit           228      R&B  \n",
       "99               4      8A         Nirvit           312    Metal  \n",
       "\n",
       "[200 rows x 18 columns]"
      ]
     },
     "execution_count": 6,
     "metadata": {},
     "output_type": "execute_result"
    }
   ],
   "source": [
    "# Save dataset as csv file\n",
    "#all_songs.to_csv('all_spotify_songs.csv')\n",
    "\n",
    "# Final dataset\n",
    "all_songs"
   ]
  },
  {
   "attachments": {},
   "cell_type": "markdown",
   "metadata": {},
   "source": [
    "## Exploratory Data Analysis for Feature Selection"
   ]
  },
  {
   "attachments": {},
   "cell_type": "markdown",
   "metadata": {},
   "source": [
    "### Correlation Heatmap"
   ]
  },
  {
   "cell_type": "code",
   "execution_count": 7,
   "metadata": {},
   "outputs": [
    {
     "name": "stderr",
     "output_type": "stream",
     "text": [
      "/var/folders/th/h7c9tz61505fhg7ds00qjhlm0000gn/T/ipykernel_1168/3196471437.py:5: FutureWarning: The default value of numeric_only in DataFrame.corr is deprecated. In a future version, it will default to False. Select only valid columns or specify the value of numeric_only to silence this warning.\n",
      "  correlation_matrix = data.corr()\n"
     ]
    },
    {
     "data": {
      "application/vnd.plotly.v1+json": {
       "config": {
        "plotlyServerURL": "https://plot.ly"
       },
       "data": [
        {
         "colorbar": {
          "title": {
           "text": "Correlation<br>Strength<br>"
          }
         },
         "colorscale": [
          [
           0,
           "rgb(247,252,245)"
          ],
          [
           0.125,
           "rgb(229,245,224)"
          ],
          [
           0.25,
           "rgb(199,233,192)"
          ],
          [
           0.375,
           "rgb(161,217,155)"
          ],
          [
           0.5,
           "rgb(116,196,118)"
          ],
          [
           0.625,
           "rgb(65,171,93)"
          ],
          [
           0.75,
           "rgb(35,139,69)"
          ],
          [
           0.875,
           "rgb(0,109,44)"
          ],
          [
           1,
           "rgb(0,68,27)"
          ]
         ],
         "type": "heatmap",
         "x": [
          "Popularity",
          "BPM",
          "Dance",
          "Energy",
          "Acoustic",
          "Instrumental",
          "Happy",
          "Speech",
          "Live",
          "Loud",
          "Time Signature",
          "Time Seconds"
         ],
         "y": [
          "Popularity",
          "BPM",
          "Dance",
          "Energy",
          "Acoustic",
          "Instrumental",
          "Happy",
          "Speech",
          "Live",
          "Loud",
          "Time Signature",
          "Time Seconds"
         ],
         "z": [
          [
           1,
           0.09684879252433745,
           0.4409409284823122,
           0.19587797150678402,
           -0.3093736675541626,
           -0.3625505190017559,
           0.13873535472432816,
           -0.038615072821155845,
           -0.06048988986265233,
           0.33917476877085867,
           0.08293060892599295,
           -0.08903289818108967
          ],
          [
           0.09684879252433745,
           1,
           -0.046403819912137226,
           0.17601099469288933,
           -0.1986316979326882,
           -0.07912094438894811,
           -0.045240512227209595,
           0.26404157780469417,
           0.03907375548511255,
           0.1152954932958167,
           -0.03989188017362255,
           0.006936614689473379
          ],
          [
           0.4409409284823122,
           -0.046403819912137226,
           1,
           -0.059583642328618444,
           -0.05098581923945456,
           -0.2162870737484552,
           0.4031746500833865,
           -0.15129066730642332,
           -0.20758594214315562,
           0.12500338015046175,
           0.11925214318681455,
           -0.124216479712456
          ],
          [
           0.19587797150678402,
           0.17601099469288933,
           -0.059583642328618444,
           1,
           -0.7322431800437555,
           -0.1773572970649099,
           0.22332603535721587,
           0.19641373512705296,
           0.15207192812515394,
           0.7998623069674243,
           0.10918478006494658,
           0.0797333218206161
          ],
          [
           -0.3093736675541626,
           -0.1986316979326882,
           -0.05098581923945456,
           -0.7322431800437555,
           1,
           0.16082009088852456,
           -0.053329094565156214,
           0.029090243272962973,
           -0.13684642648483697,
           -0.6718260603819098,
           -0.14205784969635227,
           -0.14786096766419998
          ],
          [
           -0.3625505190017559,
           -0.07912094438894811,
           -0.2162870737484552,
           -0.1773572970649099,
           0.16082009088852456,
           1,
           -0.21425780703451702,
           -0.08130552217492487,
           -0.02542651952048111,
           -0.42860399645367475,
           -0.2712471141978241,
           0.05275134784515985
          ],
          [
           0.13873535472432816,
           -0.045240512227209595,
           0.4031746500833865,
           0.22332603535721587,
           -0.053329094565156214,
           -0.21425780703451702,
           1,
           0.08974120876771215,
           -0.18028022227717694,
           0.20256332603080196,
           0.15985599503382109,
           -0.14765555682550605
          ],
          [
           -0.038615072821155845,
           0.26404157780469417,
           -0.15129066730642332,
           0.19641373512705296,
           0.029090243272962973,
           -0.08130552217492487,
           0.08974120876771215,
           1,
           0.11571088594800406,
           0.12263618118920504,
           0.012901515598852345,
           0.02987780444832832
          ],
          [
           -0.06048988986265233,
           0.03907375548511255,
           -0.20758594214315562,
           0.15207192812515394,
           -0.13684642648483697,
           -0.02542651952048111,
           -0.18028022227717694,
           0.11571088594800406,
           1,
           0.12154204391106997,
           0.04459800641490209,
           0.008044624675179048
          ],
          [
           0.33917476877085867,
           0.1152954932958167,
           0.12500338015046175,
           0.7998623069674243,
           -0.6718260603819098,
           -0.42860399645367475,
           0.20256332603080196,
           0.12263618118920504,
           0.12154204391106997,
           1,
           0.1828860312837881,
           0.11186430368873931
          ],
          [
           0.08293060892599295,
           -0.03989188017362255,
           0.11925214318681455,
           0.10918478006494658,
           -0.14205784969635227,
           -0.2712471141978241,
           0.15985599503382109,
           0.012901515598852345,
           0.04459800641490209,
           0.1828860312837881,
           1,
           -0.05555629269387657
          ],
          [
           -0.08903289818108967,
           0.006936614689473379,
           -0.124216479712456,
           0.0797333218206161,
           -0.14786096766419998,
           0.05275134784515985,
           -0.14765555682550605,
           0.02987780444832832,
           0.008044624675179048,
           0.11186430368873931,
           -0.05555629269387657,
           1
          ]
         ]
        }
       ],
       "layout": {
        "annotations": [
         {
          "font": {
           "color": "white"
          },
          "showarrow": false,
          "text": "1.0",
          "x": "Popularity",
          "y": "Popularity"
         },
         {
          "font": {
           "color": "white"
          },
          "showarrow": false,
          "text": "0.1",
          "x": "BPM",
          "y": "Popularity"
         },
         {
          "font": {
           "color": "white"
          },
          "showarrow": false,
          "text": "0.44",
          "x": "Dance",
          "y": "Popularity"
         },
         {
          "font": {
           "color": "white"
          },
          "showarrow": false,
          "text": "0.2",
          "x": "Energy",
          "y": "Popularity"
         },
         {
          "font": {
           "color": "white"
          },
          "showarrow": false,
          "text": "-0.31",
          "x": "Acoustic",
          "y": "Popularity"
         },
         {
          "font": {
           "color": "white"
          },
          "showarrow": false,
          "text": "-0.36",
          "x": "Instrumental",
          "y": "Popularity"
         },
         {
          "font": {
           "color": "white"
          },
          "showarrow": false,
          "text": "0.14",
          "x": "Happy",
          "y": "Popularity"
         },
         {
          "font": {
           "color": "white"
          },
          "showarrow": false,
          "text": "-0.04",
          "x": "Speech",
          "y": "Popularity"
         },
         {
          "font": {
           "color": "white"
          },
          "showarrow": false,
          "text": "-0.06",
          "x": "Live",
          "y": "Popularity"
         },
         {
          "font": {
           "color": "white"
          },
          "showarrow": false,
          "text": "0.34",
          "x": "Loud",
          "y": "Popularity"
         },
         {
          "font": {
           "color": "white"
          },
          "showarrow": false,
          "text": "0.08",
          "x": "Time Signature",
          "y": "Popularity"
         },
         {
          "font": {
           "color": "white"
          },
          "showarrow": false,
          "text": "-0.09",
          "x": "Time Seconds",
          "y": "Popularity"
         },
         {
          "font": {
           "color": "white"
          },
          "showarrow": false,
          "text": "0.1",
          "x": "Popularity",
          "y": "BPM"
         },
         {
          "font": {
           "color": "white"
          },
          "showarrow": false,
          "text": "1.0",
          "x": "BPM",
          "y": "BPM"
         },
         {
          "font": {
           "color": "white"
          },
          "showarrow": false,
          "text": "-0.05",
          "x": "Dance",
          "y": "BPM"
         },
         {
          "font": {
           "color": "white"
          },
          "showarrow": false,
          "text": "0.18",
          "x": "Energy",
          "y": "BPM"
         },
         {
          "font": {
           "color": "white"
          },
          "showarrow": false,
          "text": "-0.2",
          "x": "Acoustic",
          "y": "BPM"
         },
         {
          "font": {
           "color": "white"
          },
          "showarrow": false,
          "text": "-0.08",
          "x": "Instrumental",
          "y": "BPM"
         },
         {
          "font": {
           "color": "white"
          },
          "showarrow": false,
          "text": "-0.05",
          "x": "Happy",
          "y": "BPM"
         },
         {
          "font": {
           "color": "white"
          },
          "showarrow": false,
          "text": "0.26",
          "x": "Speech",
          "y": "BPM"
         },
         {
          "font": {
           "color": "white"
          },
          "showarrow": false,
          "text": "0.04",
          "x": "Live",
          "y": "BPM"
         },
         {
          "font": {
           "color": "white"
          },
          "showarrow": false,
          "text": "0.12",
          "x": "Loud",
          "y": "BPM"
         },
         {
          "font": {
           "color": "white"
          },
          "showarrow": false,
          "text": "-0.04",
          "x": "Time Signature",
          "y": "BPM"
         },
         {
          "font": {
           "color": "white"
          },
          "showarrow": false,
          "text": "0.01",
          "x": "Time Seconds",
          "y": "BPM"
         },
         {
          "font": {
           "color": "white"
          },
          "showarrow": false,
          "text": "0.44",
          "x": "Popularity",
          "y": "Dance"
         },
         {
          "font": {
           "color": "white"
          },
          "showarrow": false,
          "text": "-0.05",
          "x": "BPM",
          "y": "Dance"
         },
         {
          "font": {
           "color": "white"
          },
          "showarrow": false,
          "text": "1.0",
          "x": "Dance",
          "y": "Dance"
         },
         {
          "font": {
           "color": "white"
          },
          "showarrow": false,
          "text": "-0.06",
          "x": "Energy",
          "y": "Dance"
         },
         {
          "font": {
           "color": "white"
          },
          "showarrow": false,
          "text": "-0.05",
          "x": "Acoustic",
          "y": "Dance"
         },
         {
          "font": {
           "color": "white"
          },
          "showarrow": false,
          "text": "-0.22",
          "x": "Instrumental",
          "y": "Dance"
         },
         {
          "font": {
           "color": "white"
          },
          "showarrow": false,
          "text": "0.4",
          "x": "Happy",
          "y": "Dance"
         },
         {
          "font": {
           "color": "white"
          },
          "showarrow": false,
          "text": "-0.15",
          "x": "Speech",
          "y": "Dance"
         },
         {
          "font": {
           "color": "white"
          },
          "showarrow": false,
          "text": "-0.21",
          "x": "Live",
          "y": "Dance"
         },
         {
          "font": {
           "color": "white"
          },
          "showarrow": false,
          "text": "0.13",
          "x": "Loud",
          "y": "Dance"
         },
         {
          "font": {
           "color": "white"
          },
          "showarrow": false,
          "text": "0.12",
          "x": "Time Signature",
          "y": "Dance"
         },
         {
          "font": {
           "color": "white"
          },
          "showarrow": false,
          "text": "-0.12",
          "x": "Time Seconds",
          "y": "Dance"
         },
         {
          "font": {
           "color": "white"
          },
          "showarrow": false,
          "text": "0.2",
          "x": "Popularity",
          "y": "Energy"
         },
         {
          "font": {
           "color": "white"
          },
          "showarrow": false,
          "text": "0.18",
          "x": "BPM",
          "y": "Energy"
         },
         {
          "font": {
           "color": "white"
          },
          "showarrow": false,
          "text": "-0.06",
          "x": "Dance",
          "y": "Energy"
         },
         {
          "font": {
           "color": "white"
          },
          "showarrow": false,
          "text": "1.0",
          "x": "Energy",
          "y": "Energy"
         },
         {
          "font": {
           "color": "#7fc591"
          },
          "showarrow": false,
          "text": "-0.73",
          "x": "Acoustic",
          "y": "Energy"
         },
         {
          "font": {
           "color": "white"
          },
          "showarrow": false,
          "text": "-0.18",
          "x": "Instrumental",
          "y": "Energy"
         },
         {
          "font": {
           "color": "white"
          },
          "showarrow": false,
          "text": "0.22",
          "x": "Happy",
          "y": "Energy"
         },
         {
          "font": {
           "color": "white"
          },
          "showarrow": false,
          "text": "0.2",
          "x": "Speech",
          "y": "Energy"
         },
         {
          "font": {
           "color": "white"
          },
          "showarrow": false,
          "text": "0.15",
          "x": "Live",
          "y": "Energy"
         },
         {
          "font": {
           "color": "white"
          },
          "showarrow": false,
          "text": "0.8",
          "x": "Loud",
          "y": "Energy"
         },
         {
          "font": {
           "color": "white"
          },
          "showarrow": false,
          "text": "0.11",
          "x": "Time Signature",
          "y": "Energy"
         },
         {
          "font": {
           "color": "white"
          },
          "showarrow": false,
          "text": "0.08",
          "x": "Time Seconds",
          "y": "Energy"
         },
         {
          "font": {
           "color": "white"
          },
          "showarrow": false,
          "text": "-0.31",
          "x": "Popularity",
          "y": "Acoustic"
         },
         {
          "font": {
           "color": "white"
          },
          "showarrow": false,
          "text": "-0.2",
          "x": "BPM",
          "y": "Acoustic"
         },
         {
          "font": {
           "color": "white"
          },
          "showarrow": false,
          "text": "-0.05",
          "x": "Dance",
          "y": "Acoustic"
         },
         {
          "font": {
           "color": "#7fc591"
          },
          "showarrow": false,
          "text": "-0.73",
          "x": "Energy",
          "y": "Acoustic"
         },
         {
          "font": {
           "color": "white"
          },
          "showarrow": false,
          "text": "1.0",
          "x": "Acoustic",
          "y": "Acoustic"
         },
         {
          "font": {
           "color": "white"
          },
          "showarrow": false,
          "text": "0.16",
          "x": "Instrumental",
          "y": "Acoustic"
         },
         {
          "font": {
           "color": "white"
          },
          "showarrow": false,
          "text": "-0.05",
          "x": "Happy",
          "y": "Acoustic"
         },
         {
          "font": {
           "color": "white"
          },
          "showarrow": false,
          "text": "0.03",
          "x": "Speech",
          "y": "Acoustic"
         },
         {
          "font": {
           "color": "white"
          },
          "showarrow": false,
          "text": "-0.14",
          "x": "Live",
          "y": "Acoustic"
         },
         {
          "font": {
           "color": "#7fc591"
          },
          "showarrow": false,
          "text": "-0.67",
          "x": "Loud",
          "y": "Acoustic"
         },
         {
          "font": {
           "color": "white"
          },
          "showarrow": false,
          "text": "-0.14",
          "x": "Time Signature",
          "y": "Acoustic"
         },
         {
          "font": {
           "color": "white"
          },
          "showarrow": false,
          "text": "-0.15",
          "x": "Time Seconds",
          "y": "Acoustic"
         },
         {
          "font": {
           "color": "white"
          },
          "showarrow": false,
          "text": "-0.36",
          "x": "Popularity",
          "y": "Instrumental"
         },
         {
          "font": {
           "color": "white"
          },
          "showarrow": false,
          "text": "-0.08",
          "x": "BPM",
          "y": "Instrumental"
         },
         {
          "font": {
           "color": "white"
          },
          "showarrow": false,
          "text": "-0.22",
          "x": "Dance",
          "y": "Instrumental"
         },
         {
          "font": {
           "color": "white"
          },
          "showarrow": false,
          "text": "-0.18",
          "x": "Energy",
          "y": "Instrumental"
         },
         {
          "font": {
           "color": "white"
          },
          "showarrow": false,
          "text": "0.16",
          "x": "Acoustic",
          "y": "Instrumental"
         },
         {
          "font": {
           "color": "white"
          },
          "showarrow": false,
          "text": "1.0",
          "x": "Instrumental",
          "y": "Instrumental"
         },
         {
          "font": {
           "color": "white"
          },
          "showarrow": false,
          "text": "-0.21",
          "x": "Happy",
          "y": "Instrumental"
         },
         {
          "font": {
           "color": "white"
          },
          "showarrow": false,
          "text": "-0.08",
          "x": "Speech",
          "y": "Instrumental"
         },
         {
          "font": {
           "color": "white"
          },
          "showarrow": false,
          "text": "-0.03",
          "x": "Live",
          "y": "Instrumental"
         },
         {
          "font": {
           "color": "#7fc591"
          },
          "showarrow": false,
          "text": "-0.43",
          "x": "Loud",
          "y": "Instrumental"
         },
         {
          "font": {
           "color": "white"
          },
          "showarrow": false,
          "text": "-0.27",
          "x": "Time Signature",
          "y": "Instrumental"
         },
         {
          "font": {
           "color": "white"
          },
          "showarrow": false,
          "text": "0.05",
          "x": "Time Seconds",
          "y": "Instrumental"
         },
         {
          "font": {
           "color": "white"
          },
          "showarrow": false,
          "text": "0.14",
          "x": "Popularity",
          "y": "Happy"
         },
         {
          "font": {
           "color": "white"
          },
          "showarrow": false,
          "text": "-0.05",
          "x": "BPM",
          "y": "Happy"
         },
         {
          "font": {
           "color": "white"
          },
          "showarrow": false,
          "text": "0.4",
          "x": "Dance",
          "y": "Happy"
         },
         {
          "font": {
           "color": "white"
          },
          "showarrow": false,
          "text": "0.22",
          "x": "Energy",
          "y": "Happy"
         },
         {
          "font": {
           "color": "white"
          },
          "showarrow": false,
          "text": "-0.05",
          "x": "Acoustic",
          "y": "Happy"
         },
         {
          "font": {
           "color": "white"
          },
          "showarrow": false,
          "text": "-0.21",
          "x": "Instrumental",
          "y": "Happy"
         },
         {
          "font": {
           "color": "white"
          },
          "showarrow": false,
          "text": "1.0",
          "x": "Happy",
          "y": "Happy"
         },
         {
          "font": {
           "color": "white"
          },
          "showarrow": false,
          "text": "0.09",
          "x": "Speech",
          "y": "Happy"
         },
         {
          "font": {
           "color": "white"
          },
          "showarrow": false,
          "text": "-0.18",
          "x": "Live",
          "y": "Happy"
         },
         {
          "font": {
           "color": "white"
          },
          "showarrow": false,
          "text": "0.2",
          "x": "Loud",
          "y": "Happy"
         },
         {
          "font": {
           "color": "white"
          },
          "showarrow": false,
          "text": "0.16",
          "x": "Time Signature",
          "y": "Happy"
         },
         {
          "font": {
           "color": "white"
          },
          "showarrow": false,
          "text": "-0.15",
          "x": "Time Seconds",
          "y": "Happy"
         },
         {
          "font": {
           "color": "white"
          },
          "showarrow": false,
          "text": "-0.04",
          "x": "Popularity",
          "y": "Speech"
         },
         {
          "font": {
           "color": "white"
          },
          "showarrow": false,
          "text": "0.26",
          "x": "BPM",
          "y": "Speech"
         },
         {
          "font": {
           "color": "white"
          },
          "showarrow": false,
          "text": "-0.15",
          "x": "Dance",
          "y": "Speech"
         },
         {
          "font": {
           "color": "white"
          },
          "showarrow": false,
          "text": "0.2",
          "x": "Energy",
          "y": "Speech"
         },
         {
          "font": {
           "color": "white"
          },
          "showarrow": false,
          "text": "0.03",
          "x": "Acoustic",
          "y": "Speech"
         },
         {
          "font": {
           "color": "white"
          },
          "showarrow": false,
          "text": "-0.08",
          "x": "Instrumental",
          "y": "Speech"
         },
         {
          "font": {
           "color": "white"
          },
          "showarrow": false,
          "text": "0.09",
          "x": "Happy",
          "y": "Speech"
         },
         {
          "font": {
           "color": "white"
          },
          "showarrow": false,
          "text": "1.0",
          "x": "Speech",
          "y": "Speech"
         },
         {
          "font": {
           "color": "white"
          },
          "showarrow": false,
          "text": "0.12",
          "x": "Live",
          "y": "Speech"
         },
         {
          "font": {
           "color": "white"
          },
          "showarrow": false,
          "text": "0.12",
          "x": "Loud",
          "y": "Speech"
         },
         {
          "font": {
           "color": "white"
          },
          "showarrow": false,
          "text": "0.01",
          "x": "Time Signature",
          "y": "Speech"
         },
         {
          "font": {
           "color": "white"
          },
          "showarrow": false,
          "text": "0.03",
          "x": "Time Seconds",
          "y": "Speech"
         },
         {
          "font": {
           "color": "white"
          },
          "showarrow": false,
          "text": "-0.06",
          "x": "Popularity",
          "y": "Live"
         },
         {
          "font": {
           "color": "white"
          },
          "showarrow": false,
          "text": "0.04",
          "x": "BPM",
          "y": "Live"
         },
         {
          "font": {
           "color": "white"
          },
          "showarrow": false,
          "text": "-0.21",
          "x": "Dance",
          "y": "Live"
         },
         {
          "font": {
           "color": "white"
          },
          "showarrow": false,
          "text": "0.15",
          "x": "Energy",
          "y": "Live"
         },
         {
          "font": {
           "color": "white"
          },
          "showarrow": false,
          "text": "-0.14",
          "x": "Acoustic",
          "y": "Live"
         },
         {
          "font": {
           "color": "white"
          },
          "showarrow": false,
          "text": "-0.03",
          "x": "Instrumental",
          "y": "Live"
         },
         {
          "font": {
           "color": "white"
          },
          "showarrow": false,
          "text": "-0.18",
          "x": "Happy",
          "y": "Live"
         },
         {
          "font": {
           "color": "white"
          },
          "showarrow": false,
          "text": "0.12",
          "x": "Speech",
          "y": "Live"
         },
         {
          "font": {
           "color": "white"
          },
          "showarrow": false,
          "text": "1.0",
          "x": "Live",
          "y": "Live"
         },
         {
          "font": {
           "color": "white"
          },
          "showarrow": false,
          "text": "0.12",
          "x": "Loud",
          "y": "Live"
         },
         {
          "font": {
           "color": "white"
          },
          "showarrow": false,
          "text": "0.04",
          "x": "Time Signature",
          "y": "Live"
         },
         {
          "font": {
           "color": "white"
          },
          "showarrow": false,
          "text": "0.01",
          "x": "Time Seconds",
          "y": "Live"
         },
         {
          "font": {
           "color": "white"
          },
          "showarrow": false,
          "text": "0.34",
          "x": "Popularity",
          "y": "Loud"
         },
         {
          "font": {
           "color": "white"
          },
          "showarrow": false,
          "text": "0.12",
          "x": "BPM",
          "y": "Loud"
         },
         {
          "font": {
           "color": "white"
          },
          "showarrow": false,
          "text": "0.13",
          "x": "Dance",
          "y": "Loud"
         },
         {
          "font": {
           "color": "white"
          },
          "showarrow": false,
          "text": "0.8",
          "x": "Energy",
          "y": "Loud"
         },
         {
          "font": {
           "color": "#7fc591"
          },
          "showarrow": false,
          "text": "-0.67",
          "x": "Acoustic",
          "y": "Loud"
         },
         {
          "font": {
           "color": "#7fc591"
          },
          "showarrow": false,
          "text": "-0.43",
          "x": "Instrumental",
          "y": "Loud"
         },
         {
          "font": {
           "color": "white"
          },
          "showarrow": false,
          "text": "0.2",
          "x": "Happy",
          "y": "Loud"
         },
         {
          "font": {
           "color": "white"
          },
          "showarrow": false,
          "text": "0.12",
          "x": "Speech",
          "y": "Loud"
         },
         {
          "font": {
           "color": "white"
          },
          "showarrow": false,
          "text": "0.12",
          "x": "Live",
          "y": "Loud"
         },
         {
          "font": {
           "color": "white"
          },
          "showarrow": false,
          "text": "1.0",
          "x": "Loud",
          "y": "Loud"
         },
         {
          "font": {
           "color": "white"
          },
          "showarrow": false,
          "text": "0.18",
          "x": "Time Signature",
          "y": "Loud"
         },
         {
          "font": {
           "color": "white"
          },
          "showarrow": false,
          "text": "0.11",
          "x": "Time Seconds",
          "y": "Loud"
         },
         {
          "font": {
           "color": "white"
          },
          "showarrow": false,
          "text": "0.08",
          "x": "Popularity",
          "y": "Time Signature"
         },
         {
          "font": {
           "color": "white"
          },
          "showarrow": false,
          "text": "-0.04",
          "x": "BPM",
          "y": "Time Signature"
         },
         {
          "font": {
           "color": "white"
          },
          "showarrow": false,
          "text": "0.12",
          "x": "Dance",
          "y": "Time Signature"
         },
         {
          "font": {
           "color": "white"
          },
          "showarrow": false,
          "text": "0.11",
          "x": "Energy",
          "y": "Time Signature"
         },
         {
          "font": {
           "color": "white"
          },
          "showarrow": false,
          "text": "-0.14",
          "x": "Acoustic",
          "y": "Time Signature"
         },
         {
          "font": {
           "color": "white"
          },
          "showarrow": false,
          "text": "-0.27",
          "x": "Instrumental",
          "y": "Time Signature"
         },
         {
          "font": {
           "color": "white"
          },
          "showarrow": false,
          "text": "0.16",
          "x": "Happy",
          "y": "Time Signature"
         },
         {
          "font": {
           "color": "white"
          },
          "showarrow": false,
          "text": "0.01",
          "x": "Speech",
          "y": "Time Signature"
         },
         {
          "font": {
           "color": "white"
          },
          "showarrow": false,
          "text": "0.04",
          "x": "Live",
          "y": "Time Signature"
         },
         {
          "font": {
           "color": "white"
          },
          "showarrow": false,
          "text": "0.18",
          "x": "Loud",
          "y": "Time Signature"
         },
         {
          "font": {
           "color": "white"
          },
          "showarrow": false,
          "text": "1.0",
          "x": "Time Signature",
          "y": "Time Signature"
         },
         {
          "font": {
           "color": "white"
          },
          "showarrow": false,
          "text": "-0.06",
          "x": "Time Seconds",
          "y": "Time Signature"
         },
         {
          "font": {
           "color": "white"
          },
          "showarrow": false,
          "text": "-0.09",
          "x": "Popularity",
          "y": "Time Seconds"
         },
         {
          "font": {
           "color": "white"
          },
          "showarrow": false,
          "text": "0.01",
          "x": "BPM",
          "y": "Time Seconds"
         },
         {
          "font": {
           "color": "white"
          },
          "showarrow": false,
          "text": "-0.12",
          "x": "Dance",
          "y": "Time Seconds"
         },
         {
          "font": {
           "color": "white"
          },
          "showarrow": false,
          "text": "0.08",
          "x": "Energy",
          "y": "Time Seconds"
         },
         {
          "font": {
           "color": "white"
          },
          "showarrow": false,
          "text": "-0.15",
          "x": "Acoustic",
          "y": "Time Seconds"
         },
         {
          "font": {
           "color": "white"
          },
          "showarrow": false,
          "text": "0.05",
          "x": "Instrumental",
          "y": "Time Seconds"
         },
         {
          "font": {
           "color": "white"
          },
          "showarrow": false,
          "text": "-0.15",
          "x": "Happy",
          "y": "Time Seconds"
         },
         {
          "font": {
           "color": "white"
          },
          "showarrow": false,
          "text": "0.03",
          "x": "Speech",
          "y": "Time Seconds"
         },
         {
          "font": {
           "color": "white"
          },
          "showarrow": false,
          "text": "0.01",
          "x": "Live",
          "y": "Time Seconds"
         },
         {
          "font": {
           "color": "white"
          },
          "showarrow": false,
          "text": "0.11",
          "x": "Loud",
          "y": "Time Seconds"
         },
         {
          "font": {
           "color": "white"
          },
          "showarrow": false,
          "text": "-0.06",
          "x": "Time Signature",
          "y": "Time Seconds"
         },
         {
          "font": {
           "color": "white"
          },
          "showarrow": false,
          "text": "1.0",
          "x": "Time Seconds",
          "y": "Time Seconds"
         }
        ],
        "height": 500,
        "hoverlabel": {
         "bgcolor": "#008000"
        },
        "template": {
         "data": {
          "bar": [
           {
            "error_x": {
             "color": "#f2f5fa"
            },
            "error_y": {
             "color": "#f2f5fa"
            },
            "marker": {
             "line": {
              "color": "rgb(17,17,17)",
              "width": 0.5
             },
             "pattern": {
              "fillmode": "overlay",
              "size": 10,
              "solidity": 0.2
             }
            },
            "type": "bar"
           }
          ],
          "barpolar": [
           {
            "marker": {
             "line": {
              "color": "rgb(17,17,17)",
              "width": 0.5
             },
             "pattern": {
              "fillmode": "overlay",
              "size": 10,
              "solidity": 0.2
             }
            },
            "type": "barpolar"
           }
          ],
          "carpet": [
           {
            "aaxis": {
             "endlinecolor": "#A2B1C6",
             "gridcolor": "#506784",
             "linecolor": "#506784",
             "minorgridcolor": "#506784",
             "startlinecolor": "#A2B1C6"
            },
            "baxis": {
             "endlinecolor": "#A2B1C6",
             "gridcolor": "#506784",
             "linecolor": "#506784",
             "minorgridcolor": "#506784",
             "startlinecolor": "#A2B1C6"
            },
            "type": "carpet"
           }
          ],
          "choropleth": [
           {
            "colorbar": {
             "outlinewidth": 0,
             "ticks": ""
            },
            "type": "choropleth"
           }
          ],
          "contour": [
           {
            "colorbar": {
             "outlinewidth": 0,
             "ticks": ""
            },
            "colorscale": [
             [
              0,
              "#0d0887"
             ],
             [
              0.1111111111111111,
              "#46039f"
             ],
             [
              0.2222222222222222,
              "#7201a8"
             ],
             [
              0.3333333333333333,
              "#9c179e"
             ],
             [
              0.4444444444444444,
              "#bd3786"
             ],
             [
              0.5555555555555556,
              "#d8576b"
             ],
             [
              0.6666666666666666,
              "#ed7953"
             ],
             [
              0.7777777777777778,
              "#fb9f3a"
             ],
             [
              0.8888888888888888,
              "#fdca26"
             ],
             [
              1,
              "#f0f921"
             ]
            ],
            "type": "contour"
           }
          ],
          "contourcarpet": [
           {
            "colorbar": {
             "outlinewidth": 0,
             "ticks": ""
            },
            "type": "contourcarpet"
           }
          ],
          "heatmap": [
           {
            "colorbar": {
             "outlinewidth": 0,
             "ticks": ""
            },
            "colorscale": [
             [
              0,
              "#0d0887"
             ],
             [
              0.1111111111111111,
              "#46039f"
             ],
             [
              0.2222222222222222,
              "#7201a8"
             ],
             [
              0.3333333333333333,
              "#9c179e"
             ],
             [
              0.4444444444444444,
              "#bd3786"
             ],
             [
              0.5555555555555556,
              "#d8576b"
             ],
             [
              0.6666666666666666,
              "#ed7953"
             ],
             [
              0.7777777777777778,
              "#fb9f3a"
             ],
             [
              0.8888888888888888,
              "#fdca26"
             ],
             [
              1,
              "#f0f921"
             ]
            ],
            "type": "heatmap"
           }
          ],
          "heatmapgl": [
           {
            "colorbar": {
             "outlinewidth": 0,
             "ticks": ""
            },
            "colorscale": [
             [
              0,
              "#0d0887"
             ],
             [
              0.1111111111111111,
              "#46039f"
             ],
             [
              0.2222222222222222,
              "#7201a8"
             ],
             [
              0.3333333333333333,
              "#9c179e"
             ],
             [
              0.4444444444444444,
              "#bd3786"
             ],
             [
              0.5555555555555556,
              "#d8576b"
             ],
             [
              0.6666666666666666,
              "#ed7953"
             ],
             [
              0.7777777777777778,
              "#fb9f3a"
             ],
             [
              0.8888888888888888,
              "#fdca26"
             ],
             [
              1,
              "#f0f921"
             ]
            ],
            "type": "heatmapgl"
           }
          ],
          "histogram": [
           {
            "marker": {
             "pattern": {
              "fillmode": "overlay",
              "size": 10,
              "solidity": 0.2
             }
            },
            "type": "histogram"
           }
          ],
          "histogram2d": [
           {
            "colorbar": {
             "outlinewidth": 0,
             "ticks": ""
            },
            "colorscale": [
             [
              0,
              "#0d0887"
             ],
             [
              0.1111111111111111,
              "#46039f"
             ],
             [
              0.2222222222222222,
              "#7201a8"
             ],
             [
              0.3333333333333333,
              "#9c179e"
             ],
             [
              0.4444444444444444,
              "#bd3786"
             ],
             [
              0.5555555555555556,
              "#d8576b"
             ],
             [
              0.6666666666666666,
              "#ed7953"
             ],
             [
              0.7777777777777778,
              "#fb9f3a"
             ],
             [
              0.8888888888888888,
              "#fdca26"
             ],
             [
              1,
              "#f0f921"
             ]
            ],
            "type": "histogram2d"
           }
          ],
          "histogram2dcontour": [
           {
            "colorbar": {
             "outlinewidth": 0,
             "ticks": ""
            },
            "colorscale": [
             [
              0,
              "#0d0887"
             ],
             [
              0.1111111111111111,
              "#46039f"
             ],
             [
              0.2222222222222222,
              "#7201a8"
             ],
             [
              0.3333333333333333,
              "#9c179e"
             ],
             [
              0.4444444444444444,
              "#bd3786"
             ],
             [
              0.5555555555555556,
              "#d8576b"
             ],
             [
              0.6666666666666666,
              "#ed7953"
             ],
             [
              0.7777777777777778,
              "#fb9f3a"
             ],
             [
              0.8888888888888888,
              "#fdca26"
             ],
             [
              1,
              "#f0f921"
             ]
            ],
            "type": "histogram2dcontour"
           }
          ],
          "mesh3d": [
           {
            "colorbar": {
             "outlinewidth": 0,
             "ticks": ""
            },
            "type": "mesh3d"
           }
          ],
          "parcoords": [
           {
            "line": {
             "colorbar": {
              "outlinewidth": 0,
              "ticks": ""
             }
            },
            "type": "parcoords"
           }
          ],
          "pie": [
           {
            "automargin": true,
            "type": "pie"
           }
          ],
          "scatter": [
           {
            "marker": {
             "line": {
              "color": "#283442"
             }
            },
            "type": "scatter"
           }
          ],
          "scatter3d": [
           {
            "line": {
             "colorbar": {
              "outlinewidth": 0,
              "ticks": ""
             }
            },
            "marker": {
             "colorbar": {
              "outlinewidth": 0,
              "ticks": ""
             }
            },
            "type": "scatter3d"
           }
          ],
          "scattercarpet": [
           {
            "marker": {
             "colorbar": {
              "outlinewidth": 0,
              "ticks": ""
             }
            },
            "type": "scattercarpet"
           }
          ],
          "scattergeo": [
           {
            "marker": {
             "colorbar": {
              "outlinewidth": 0,
              "ticks": ""
             }
            },
            "type": "scattergeo"
           }
          ],
          "scattergl": [
           {
            "marker": {
             "line": {
              "color": "#283442"
             }
            },
            "type": "scattergl"
           }
          ],
          "scattermapbox": [
           {
            "marker": {
             "colorbar": {
              "outlinewidth": 0,
              "ticks": ""
             }
            },
            "type": "scattermapbox"
           }
          ],
          "scatterpolar": [
           {
            "marker": {
             "colorbar": {
              "outlinewidth": 0,
              "ticks": ""
             }
            },
            "type": "scatterpolar"
           }
          ],
          "scatterpolargl": [
           {
            "marker": {
             "colorbar": {
              "outlinewidth": 0,
              "ticks": ""
             }
            },
            "type": "scatterpolargl"
           }
          ],
          "scatterternary": [
           {
            "marker": {
             "colorbar": {
              "outlinewidth": 0,
              "ticks": ""
             }
            },
            "type": "scatterternary"
           }
          ],
          "surface": [
           {
            "colorbar": {
             "outlinewidth": 0,
             "ticks": ""
            },
            "colorscale": [
             [
              0,
              "#0d0887"
             ],
             [
              0.1111111111111111,
              "#46039f"
             ],
             [
              0.2222222222222222,
              "#7201a8"
             ],
             [
              0.3333333333333333,
              "#9c179e"
             ],
             [
              0.4444444444444444,
              "#bd3786"
             ],
             [
              0.5555555555555556,
              "#d8576b"
             ],
             [
              0.6666666666666666,
              "#ed7953"
             ],
             [
              0.7777777777777778,
              "#fb9f3a"
             ],
             [
              0.8888888888888888,
              "#fdca26"
             ],
             [
              1,
              "#f0f921"
             ]
            ],
            "type": "surface"
           }
          ],
          "table": [
           {
            "cells": {
             "fill": {
              "color": "#506784"
             },
             "line": {
              "color": "rgb(17,17,17)"
             }
            },
            "header": {
             "fill": {
              "color": "#2a3f5f"
             },
             "line": {
              "color": "rgb(17,17,17)"
             }
            },
            "type": "table"
           }
          ]
         },
         "layout": {
          "annotationdefaults": {
           "arrowcolor": "#f2f5fa",
           "arrowhead": 0,
           "arrowwidth": 1
          },
          "autotypenumbers": "strict",
          "coloraxis": {
           "colorbar": {
            "outlinewidth": 0,
            "ticks": ""
           }
          },
          "colorscale": {
           "diverging": [
            [
             0,
             "#8e0152"
            ],
            [
             0.1,
             "#c51b7d"
            ],
            [
             0.2,
             "#de77ae"
            ],
            [
             0.3,
             "#f1b6da"
            ],
            [
             0.4,
             "#fde0ef"
            ],
            [
             0.5,
             "#f7f7f7"
            ],
            [
             0.6,
             "#e6f5d0"
            ],
            [
             0.7,
             "#b8e186"
            ],
            [
             0.8,
             "#7fbc41"
            ],
            [
             0.9,
             "#4d9221"
            ],
            [
             1,
             "#276419"
            ]
           ],
           "sequential": [
            [
             0,
             "#0d0887"
            ],
            [
             0.1111111111111111,
             "#46039f"
            ],
            [
             0.2222222222222222,
             "#7201a8"
            ],
            [
             0.3333333333333333,
             "#9c179e"
            ],
            [
             0.4444444444444444,
             "#bd3786"
            ],
            [
             0.5555555555555556,
             "#d8576b"
            ],
            [
             0.6666666666666666,
             "#ed7953"
            ],
            [
             0.7777777777777778,
             "#fb9f3a"
            ],
            [
             0.8888888888888888,
             "#fdca26"
            ],
            [
             1,
             "#f0f921"
            ]
           ],
           "sequentialminus": [
            [
             0,
             "#0d0887"
            ],
            [
             0.1111111111111111,
             "#46039f"
            ],
            [
             0.2222222222222222,
             "#7201a8"
            ],
            [
             0.3333333333333333,
             "#9c179e"
            ],
            [
             0.4444444444444444,
             "#bd3786"
            ],
            [
             0.5555555555555556,
             "#d8576b"
            ],
            [
             0.6666666666666666,
             "#ed7953"
            ],
            [
             0.7777777777777778,
             "#fb9f3a"
            ],
            [
             0.8888888888888888,
             "#fdca26"
            ],
            [
             1,
             "#f0f921"
            ]
           ]
          },
          "colorway": [
           "#636efa",
           "#EF553B",
           "#00cc96",
           "#ab63fa",
           "#FFA15A",
           "#19d3f3",
           "#FF6692",
           "#B6E880",
           "#FF97FF",
           "#FECB52"
          ],
          "font": {
           "color": "#f2f5fa"
          },
          "geo": {
           "bgcolor": "rgb(17,17,17)",
           "lakecolor": "rgb(17,17,17)",
           "landcolor": "rgb(17,17,17)",
           "showlakes": true,
           "showland": true,
           "subunitcolor": "#506784"
          },
          "hoverlabel": {
           "align": "left"
          },
          "hovermode": "closest",
          "mapbox": {
           "style": "dark"
          },
          "paper_bgcolor": "rgb(17,17,17)",
          "plot_bgcolor": "rgb(17,17,17)",
          "polar": {
           "angularaxis": {
            "gridcolor": "#506784",
            "linecolor": "#506784",
            "ticks": ""
           },
           "bgcolor": "rgb(17,17,17)",
           "radialaxis": {
            "gridcolor": "#506784",
            "linecolor": "#506784",
            "ticks": ""
           }
          },
          "scene": {
           "xaxis": {
            "backgroundcolor": "rgb(17,17,17)",
            "gridcolor": "#506784",
            "gridwidth": 2,
            "linecolor": "#506784",
            "showbackground": true,
            "ticks": "",
            "zerolinecolor": "#C8D4E3"
           },
           "yaxis": {
            "backgroundcolor": "rgb(17,17,17)",
            "gridcolor": "#506784",
            "gridwidth": 2,
            "linecolor": "#506784",
            "showbackground": true,
            "ticks": "",
            "zerolinecolor": "#C8D4E3"
           },
           "zaxis": {
            "backgroundcolor": "rgb(17,17,17)",
            "gridcolor": "#506784",
            "gridwidth": 2,
            "linecolor": "#506784",
            "showbackground": true,
            "ticks": "",
            "zerolinecolor": "#C8D4E3"
           }
          },
          "shapedefaults": {
           "line": {
            "color": "#f2f5fa"
           }
          },
          "sliderdefaults": {
           "bgcolor": "#C8D4E3",
           "bordercolor": "rgb(17,17,17)",
           "borderwidth": 1,
           "tickwidth": 0
          },
          "ternary": {
           "aaxis": {
            "gridcolor": "#506784",
            "linecolor": "#506784",
            "ticks": ""
           },
           "baxis": {
            "gridcolor": "#506784",
            "linecolor": "#506784",
            "ticks": ""
           },
           "bgcolor": "rgb(17,17,17)",
           "caxis": {
            "gridcolor": "#506784",
            "linecolor": "#506784",
            "ticks": ""
           }
          },
          "title": {
           "x": 0.05
          },
          "updatemenudefaults": {
           "bgcolor": "#506784",
           "borderwidth": 0
          },
          "xaxis": {
           "automargin": true,
           "gridcolor": "#283442",
           "linecolor": "#506784",
           "ticks": "",
           "title": {
            "standoff": 15
           },
           "zerolinecolor": "#283442",
           "zerolinewidth": 2
          },
          "yaxis": {
           "automargin": true,
           "gridcolor": "#283442",
           "linecolor": "#506784",
           "ticks": "",
           "title": {
            "standoff": 15
           },
           "zerolinecolor": "#283442",
           "zerolinewidth": 2
          }
         }
        },
        "title": {
         "text": "<b>Correlation Heatmap</b>",
         "x": 0.5,
         "y": 0.85
        },
        "width": 700,
        "xaxis": {
         "title": {
          "text": "<b>Features</b>"
         }
        },
        "yaxis": {
         "title": {
          "text": "<b>Features</b>"
         }
        }
       }
      }
     },
     "metadata": {},
     "output_type": "display_data"
    }
   ],
   "source": [
    "import plotly.graph_objects as go\n",
    "\n",
    "def corr_plot(data):\n",
    "    # Calculate the correlation matrix\n",
    "    correlation_matrix = data.corr()\n",
    "\n",
    "    # Create heatmap using Plotly  \n",
    "    annotations = []\n",
    "    for i, row in enumerate(correlation_matrix.values):\n",
    "        for j, value in enumerate(row):\n",
    "            font_color = 'white' if value > -0.4 else '#7fc591'  # Set font color based on z value\n",
    "            annotations.append(dict(x=correlation_matrix.columns[j], y=correlation_matrix.index[i],\n",
    "                                text=str(round(value, 2)),\n",
    "                                showarrow=False, font=dict(color=font_color)))\n",
    "\n",
    "    # Create heatmap using Plotly\n",
    "    fig = go.Figure(data=go.Heatmap(\n",
    "                    z=correlation_matrix.values,\n",
    "                    x=correlation_matrix.columns,\n",
    "                    y=correlation_matrix.index,\n",
    "                    colorscale='Greens',  # Choose your preferred colorscale\n",
    "                    colorbar=dict(title='Correlation<br>Strength<br>')\n",
    "    ))\n",
    "\n",
    "\n",
    "\n",
    "    fig.update_layout(\n",
    "        title=dict(text ='<b>Correlation Heatmap</b>', x=0.5, y=0.85),\n",
    "        xaxis=dict(title='<b>Features</b>'),\n",
    "        yaxis=dict(title='<b>Features</b>'),\n",
    "        annotations=annotations,\n",
    "        template=\"plotly_dark\",\n",
    "        height=500,\n",
    "        width=700,\n",
    "        hoverlabel=dict(\n",
    "            bgcolor=\"#008000\")\n",
    "    )\n",
    "\n",
    "    return fig\n",
    "\n",
    "corr_plot(all_songs)"
   ]
  },
  {
   "attachments": {},
   "cell_type": "markdown",
   "metadata": {},
   "source": [
    "A correlation heatmap visualizes how well different variables interact with each other.  By illustrating the strength and direction of these relationships, correlation heatmaps help identify patterns, trends, and dependencies within the data. Therefore, we are most interested in the features with very dark or very light tiles.\n",
    "\n",
    "A few main takeaways:\n",
    "* **Loud:** Strong positive correlation with Energy suggests that louder songs tend to have higher energy levels.\n",
    "\n",
    "* **Accoustic:** Strong negative correlation with Energy and Loudness implies that acoustic songs tend to have lower energy and loudness levels.\n",
    "\n",
    "* **Energy:** Strong positive correlation with Loudness indicates that energetically intense songs tend to be louder.\n",
    "\n",
    "* **Instrumental:** Moderate negative correlation with Danceability and Popularity suggests that instrumental songs are less danceable and less popular.\n",
    "\n",
    "* **Dance:** It has a moderate positive correlation with Popularity, Energy, and Happiness, suggesting that more danceable songs tend to be more popular, energetic, and happier.\n",
    "\n",
    "* **Popularity:** It shows weak positive correlations with attributes like Dance, Energy, Happy, and Loudness, indicating that more popular songs tend to have higher danceability, energy, happiness, and loudness."
   ]
  },
  {
   "attachments": {},
   "cell_type": "markdown",
   "metadata": {},
   "source": [
    "### Interactive Scatterplot Comparing Similarity Between Music Tastes"
   ]
  },
  {
   "cell_type": "code",
   "execution_count": 8,
   "metadata": {},
   "outputs": [
    {
     "data": {
      "application/vnd.plotly.v1+json": {
       "config": {
        "plotlyServerURL": "https://plot.ly"
       },
       "data": [
        {
         "marker": {
          "color": "#ff00ff",
          "line": {
           "color": "#2a8ccb",
           "width": 2
          },
          "size": 10,
          "symbol": "diamond"
         },
         "mode": "markers",
         "name": "Nirvit",
         "opacity": 0.75,
         "text": [
          "Song: It Never Entered My Mind, Artist: Miles Davis Quintet, Energy: 22, Happiness: 12",
          "Song: Give It Back, Artist: Gaelle, Energy: 57, Happiness: 55",
          "Song: O Mundo É Um Moinho, Artist: Cartola, Energy: 30, Happiness: 50",
          "Song: Diddy Bop, Artist: Noname,Raury,Cam O'bi, Energy: 50, Happiness: 66",
          "Song: Reckless & Sweet, Artist: Amaarae, Energy: 55, Happiness: 35",
          "Song: None but the Rain, Artist: Townes Van Zandt, Energy: 12, Happiness: 26",
          "Song: forcing, Artist: mage tears, Energy: 3, Happiness: 22",
          "Song: Ashes from Your Burning Wood, Artist: Orion Rigel Dommisse, Energy: 12, Happiness: 29",
          "Song: 愛してる, Artist: callin', Energy: 31, Happiness: 31",
          "Song: Ditto, Artist: NewJeans, Energy: 64, Happiness: 18",
          "Song: Waiting Around to Die, Artist: Townes Van Zandt, Energy: 23, Happiness: 66",
          "Song: Doritos & Fritos, Artist: 100 gecs, Energy: 98, Happiness: 92",
          "Song: Selfish Sleep, Artist: Lord Snow, Energy: 100, Happiness: 9",
          "Song: All I Need, Artist: Noname,Xavier Omär, Energy: 36, Happiness: 50",
          "Song: TQM, Artist: Fuerza Regida, Energy: 86, Happiness: 96",
          "Song: いかれたNeet, Artist: Shinsei Kamattechan, Energy: 89, Happiness: 38",
          "Song: You Can't Blame Me, Artist: Johnson, Hawkins, Tatum & Durr, Energy: 72, Happiness: 74",
          "Song: Forever, Artist: Noname,Ravyn Lenae,Joseph Chilliams, Energy: 66, Happiness: 91",
          "Song: OMG, Artist: NewJeans, Energy: 77, Happiness: 74",
          "Song: You Are Mine, Artist: Jay Robinson, Energy: 39, Happiness: 34",
          "Song: Do I Ever Cross Your Mind, Artist: Chet Atkins, Energy: 27, Happiness: 82",
          "Song: Freedom Interlude, Artist: Noname, Energy: 72, Happiness: 76",
          "Song: Columbine, Artist: Townes Van Zandt, Energy: 19, Happiness: 62",
          "Song: きみのうた, Artist: Rei Yasuda, Energy: 68, Happiness: 29",
          "Song: Cookie, Artist: NewJeans, Energy: 64, Happiness: 66",
          "Song: Yesterday, Artist: Noname, Energy: 54, Happiness: 47",
          "Song: Kiss the Ladder, Artist: Fleshwater, Energy: 99, Happiness: 25",
          "Song: Espinha de Bacalhau, Artist: Paulo Moura, Energy: 70, Happiness: 79",
          "Song: Skating In Central Park, Artist: Bill Evans,Jim Hall, Energy: 3, Happiness: 15",
          "Song: Casket Pretty, Artist: Noname, Energy: 49, Happiness: 50",
          "Song: My Shadow, Artist: Jay Reatard, Energy: 94, Happiness: 32",
          "Song: Tell Me, Artist: Groove Theory, Energy: 36, Happiness: 89",
          "Song: Be Your Girl, Artist: Teedra Moses, Energy: 72, Happiness: 63",
          "Song: Sunny Duet, Artist: Noname,theMIND, Energy: 46, Happiness: 90",
          "Song: Suite bergamasque, L. 75: III. Clair de lune, Artist: Claude Debussy,Philippe Entremont, Energy: 6, Happiness: 4",
          "Song: Thank You DubNation! (the page will never be long enough), Artist: herlovebeheadsdaisies, Energy: 60, Happiness: 29",
          "Song: i'm going to fail my class, Artist: mage tears, Energy: 8, Happiness: 28",
          "Song: Shadow Man, Artist: Noname,Smino,Phoelix,Saba, Energy: 45, Happiness: 45",
          "Song: Bb, Artist: Lord Snow, Energy: 38, Happiness: 54",
          "Song: Uncover, Artist: LOOΠΔ / ODD EYE CIRCLE, Energy: 76, Happiness: 42",
          "Song: The Mystery, Artist: Idaho, Energy: 14, Happiness: 15",
          "Song: Reality Check, Artist: Noname,Eryn Allen Kane,Akenya, Energy: 52, Happiness: 66",
          "Song: Minha, Artist: Cartola, Energy: 60, Happiness: 95",
          "Song: (Quicksilver Daydreams Of) Maria, Artist: Townes Van Zandt, Energy: 17, Happiness: 44",
          "Song: 지문 Fingerprint, Artist: Ahn Dayoung, Energy: 52, Happiness: 31",
          "Song: Bye Bye Baby, Artist: Noname, Energy: 38, Happiness: 52",
          "Song: The Orange Cliffs, Artist: Idaho, Energy: 35, Happiness: 4",
          "Song: Wish I Didn't Miss You, Artist: Angie Stone, Energy: 76, Happiness: 84",
          "Song: Alone Together - Mono, Artist: Chet Baker, Energy: 4, Happiness: 20",
          "Song: You And Me, Artist: Penny & The Quarters, Energy: 18, Happiness: 26",
          "Song: Aconteceu, Artist: Cartola, Energy: 66, Happiness: 98",
          "Song: homeswitcher, Artist: Jane Remover,kmoe, Energy: 97, Happiness: 32",
          "Song: Fare Thee Well, Miss Carousel, Artist: Townes Van Zandt, Energy: 41, Happiness: 57",
          "Song: So Much Water, Artist: Tacoma Radar, Energy: 24, Happiness: 35",
          "Song: Cordas De Aço, Artist: Cartola, Energy: 39, Happiness: 77",
          "Song: XI, Artist: Youth Novel, Energy: 56, Happiness: 21",
          "Song: Colorado Girl, Artist: Townes Van Zandt, Energy: 8, Happiness: 52",
          "Song: Fallen, Artist: Mýa, Energy: 61, Happiness: 43",
          "Song: Corra E Olhe O Céu, Artist: Cartola, Energy: 59, Happiness: 86",
          "Song: Knees, Artist: Controlled Bleeding, Energy: 92, Happiness: 3",
          "Song: Don't Take It Too Bad, Artist: Townes Van Zandt, Energy: 13, Happiness: 50",
          "Song: Dally (feat. GRAY), Artist: HYOLYN,GRAY, Energy: 82, Happiness: 89",
          "Song: As Rosas Não Falam, Artist: Cartola, Energy: 45, Happiness: 81",
          "Song: Attention, Artist: NewJeans, Energy: 65, Happiness: 70",
          "Song: Tons e Semitons, Artist: Paulinho Nogueira, Energy: 19, Happiness: 16",
          "Song: Girl Front, Artist: LOOΠΔ / ODD EYE CIRCLE, Energy: 80, Happiness: 69",
          "Song: Tive Sim, Artist: Cartola, Energy: 71, Happiness: 96",
          "Song: I'll Be Here in the Morning, Artist: Townes Van Zandt, Energy: 17, Happiness: 64",
          "Song: Yellowmarillo // Booker Dewitt, Artist: Lord Snow, Energy: 97, Happiness: 26",
          "Song: Wasted Eyes, Artist: Amaarae, Energy: 61, Happiness: 54",
          "Song: Disfarça E Chora, Artist: Cartola, Energy: 44, Happiness: 96",
          "Song: town, Artist: mage tears, Energy: 1, Happiness: 7",
          "Song: The Landing, Artist: Duster, Energy: 31, Happiness: 21",
          "Song: Addict, Artist: Tei Shi, Energy: 38, Happiness: 42",
          "Song: O Sol Nascerá (A Sorrir), Artist: Cartola, Energy: 79, Happiness: 93",
          "Song: Erosion of Everything, Artist: Eyelet, Energy: 98, Happiness: 11",
          "Song: Love Hurts (with The Fallen Angels) - Live, Artist: Gram Parsons,The Fallen Angels, Energy: 24, Happiness: 23",
          "Song: Goin' Home, Artist: Dinosaur Jr., Energy: 70, Happiness: 50",
          "Song: Officially Missing You, Artist: Tamia, Energy: 41, Happiness: 23",
          "Song: ナツノハナ, Artist: JUJU, Energy: 59, Happiness: 19",
          "Song: 黄昏のBAY CITY, Artist: Junko Yagami, Energy: 84, Happiness: 84",
          "Song: 猫になりたい, Artist: Tsuji Ayano, Energy: 22, Happiness: 43",
          "Song: Bachianinha No. 1, Artist: Paulinho Nogueira, Energy: 38, Happiness: 56",
          "Song: Hype Boy, Artist: NewJeans, Energy: 94, Happiness: 78",
          "Song: Lungs, Artist: Townes Van Zandt, Energy: 30, Happiness: 57",
          "Song: No More Like That, Artist: Eiafuawn, Energy: 43, Happiness: 87",
          "Song: pretty satan, Artist: mage tears, Energy: 1, Happiness: 19",
          "Song: Try Not to Destroy Everything You Love, Artist: An Autumn for Crippled Children, Energy: 65, Happiness: 24",
          "Song: drive ME crazy!, Artist: Lil Yachty, Energy: 81, Happiness: 48",
          "Song: Self-Destruct, Artist: Origami Angel, Energy: 94, Happiness: 39",
          "Song: No One Else But You, Artist: The Eptones,Jox, Energy: 67, Happiness: 48",
          "Song: The Background Static of Perpetual Discontent, Artist: Lord Snow, Energy: 100, Happiness: 3",
          "Song: See you again - 電影 “聲之形” 主題曲, Artist: Leah Dou, Energy: 24, Happiness: 4",
          "Song: Noah Fence, Artist: Origami Angel, Energy: 96, Happiness: 50",
          "Song: Twin, Artist: Ouri, Energy: 23, Happiness: 40",
          "Song: FLASH CASANOVA, Artist: Yabujin, Energy: 72, Happiness: 41",
          "Song: Sinceramente, Artist: Sérgio Sampaio, Energy: 25, Happiness: 85",
          "Song: 24 Hr Drive-Thru, Artist: Origami Angel, Energy: 96, Happiness: 26",
          "Song: If I Ain't Got You, Artist: Alicia Keys, Energy: 44, Happiness: 17",
          "Song: Solitude, Artist: Lord Snow, Energy: 99, Happiness: 9"
         ],
         "type": "scatter",
         "x": [
          12,
          55,
          50,
          66,
          35,
          26,
          22,
          29,
          31,
          18,
          66,
          92,
          9,
          50,
          96,
          38,
          74,
          91,
          74,
          34,
          82,
          76,
          62,
          29,
          66,
          47,
          25,
          79,
          15,
          50,
          32,
          89,
          63,
          90,
          4,
          29,
          28,
          45,
          54,
          42,
          15,
          66,
          95,
          44,
          31,
          52,
          4,
          84,
          20,
          26,
          98,
          32,
          57,
          35,
          77,
          21,
          52,
          43,
          86,
          3,
          50,
          89,
          81,
          70,
          16,
          69,
          96,
          64,
          26,
          54,
          96,
          7,
          21,
          42,
          93,
          11,
          23,
          50,
          23,
          19,
          84,
          43,
          56,
          78,
          57,
          87,
          19,
          24,
          48,
          39,
          48,
          3,
          4,
          50,
          40,
          41,
          85,
          26,
          17,
          9
         ],
         "y": [
          22,
          57,
          30,
          50,
          55,
          12,
          3,
          12,
          31,
          64,
          23,
          98,
          100,
          36,
          86,
          89,
          72,
          66,
          77,
          39,
          27,
          72,
          19,
          68,
          64,
          54,
          99,
          70,
          3,
          49,
          94,
          36,
          72,
          46,
          6,
          60,
          8,
          45,
          38,
          76,
          14,
          52,
          60,
          17,
          52,
          38,
          35,
          76,
          4,
          18,
          66,
          97,
          41,
          24,
          39,
          56,
          8,
          61,
          59,
          92,
          13,
          82,
          45,
          65,
          19,
          80,
          71,
          17,
          97,
          61,
          44,
          1,
          31,
          38,
          79,
          98,
          24,
          70,
          41,
          59,
          84,
          22,
          38,
          94,
          30,
          43,
          1,
          65,
          81,
          94,
          67,
          100,
          24,
          96,
          23,
          72,
          25,
          96,
          44,
          99
         ]
        },
        {
         "marker": {
          "color": "#1ED760",
          "line": {
           "color": "#2a8ccb",
           "width": 2
          },
          "size": 10,
          "symbol": "circle"
         },
         "mode": "markers",
         "name": "Piero",
         "opacity": 0.75,
         "text": [
          "Song: CAN'T SAY, Artist: Travis Scott, Energy: 71, Happiness: 71",
          "Song: New Gold (feat. Tame Impala and Bootie Brown), Artist: Gorillaz,Tame Impala,Bootie Brown, Energy: 92, Happiness: 55",
          "Song: 1AM FREESTYLE, Artist: Joji, Energy: 54, Happiness: 12",
          "Song: 20 Min, Artist: Lil Uzi Vert, Energy: 75, Happiness: 78",
          "Song: The Less I Know The Better, Artist: Tame Impala, Energy: 74, Happiness: 79",
          "Song: HIGHEST IN THE ROOM, Artist: Travis Scott, Energy: 43, Happiness: 6",
          "Song: Jesus Freak Lighter, Artist: Blood Orange, Energy: 92, Happiness: 14",
          "Song: The Way Life Goes (feat. Oh Wonder), Artist: Lil Uzi Vert,Oh Wonder, Energy: 76, Happiness: 70",
          "Song: Lost In Yesterday, Artist: Tame Impala, Energy: 84, Happiness: 75",
          "Song: Crew (feat. Brent Faiyaz & Shy Glizzy), Artist: GoldLink,Brent Faiyaz,Shy Glizzy, Energy: 61, Happiness: 45",
          "Song: Tormenta (feat. Bad Bunny), Artist: Gorillaz,Bad Bunny, Energy: 77, Happiness: 30",
          "Song: Rebuke, Artist: KAYTRAMINÉ,Aminé,KAYTRANADA, Energy: 56, Happiness: 56",
          "Song: 90210 (feat. Kacy Hill), Artist: Travis Scott,Kacy Hill, Energy: 53, Happiness: 31",
          "Song: You're Not Good Enough, Artist: Blood Orange, Energy: 80, Happiness: 57",
          "Song: Cracker Island (feat. Thundercat), Artist: Gorillaz,Thundercat, Energy: 91, Happiness: 64",
          "Song: REEL IT IN, Artist: Aminé, Energy: 34, Happiness: 42",
          "Song: I KNOW ?, Artist: Travis Scott, Energy: 62, Happiness: 82",
          "Song: The Bay, Artist: Metronomy, Energy: 47, Happiness: 89",
          "Song: Hell N Back, Artist: Bakar, Energy: 68, Happiness: 73",
          "Song: Around the World, Artist: Red Hot Chili Peppers, Energy: 96, Happiness: 77",
          "Song: The Tired Influencer, Artist: Gorillaz, Energy: 82, Happiness: 65",
          "Song: Impossible, Artist: Travis Scott, Energy: 46, Happiness: 28",
          "Song: Out Of Your League, Artist: Blood Orange,Steve Lacy, Energy: 47, Happiness: 68",
          "Song: Hold My Head, Artist: Kenny Beats, Energy: 79, Happiness: 55",
          "Song: Oil (feat. Stevie Nicks), Artist: Gorillaz,Stevie Nicks, Energy: 94, Happiness: 35",
          "Song: YUKON (INTERLUDE), Artist: Joji, Energy: 71, Happiness: 7",
          "Song: Orlando, Artist: Blood Orange, Energy: 53, Happiness: 65",
          "Song: Doin' it Right (feat. Panda Bear), Artist: Daft Punk,Panda Bear, Energy: 45, Happiness: 19",
          "Song: Phone Numbers, Artist: Dominic Fike,Kenny Beats, Energy: 54, Happiness: 78",
          "Song: Breathe, Artist: 88rising,Joji,Don Krez, Energy: 52, Happiness: 8",
          "Song: Int'l Players Anthem (I Choose You), Artist: UGK,Outkast, Energy: 68, Happiness: 85",
          "Song: Feelin' Lovely, Artist: Devonté Hynes,Connan Mockasin, Energy: 76, Happiness: 70",
          "Song: Black Summer, Artist: Red Hot Chili Peppers, Energy: 68, Happiness: 35",
          "Song: pick up the phone, Artist: Young Thug,Travis Scott, Energy: 72, Happiness: 46",
          "Song: The Look, Artist: Metronomy, Energy: 54, Happiness: 50",
          "Song: Silent Running (feat. Adeleye Omotayo), Artist: Gorillaz,Adeleye Omotayo, Energy: 90, Happiness: 78",
          "Song: LVL, Artist: A$AP Rocky, Energy: 43, Happiness: 10",
          "Song: lose, Artist: Travis Scott, Energy: 56, Happiness: 28",
          "Song: It Is Not Meant To Be, Artist: Tame Impala, Energy: 90, Happiness: 46",
          "Song: Skinny Ape, Artist: Gorillaz, Energy: 87, Happiness: 58",
          "Song: Leather Jacket, Artist: HYUKOH, Energy: 88, Happiness: 74",
          "Song: Undertow, Artist: Dan Auerbach, Energy: 73, Happiness: 70",
          "Song: The High Road, Artist: Broken Bells, Energy: 64, Happiness: 60",
          "Song: Tarantula, Artist: Gorillaz, Energy: 91, Happiness: 79",
          "Song: Something You Know, Artist: Blood Orange, Energy: 41, Happiness: 26",
          "Song: Techno Show, Artist: Peach Pit, Energy: 72, Happiness: 90",
          "Song: Antidote, Artist: Travis Scott, Energy: 53, Happiness: 13",
          "Song: So Strange (feat. Cuco), Artist: Polyphia,Cuco, Energy: 89, Happiness: 48",
          "Song: Brown Skin Lady, Artist: Black Star, Energy: 55, Happiness: 83",
          "Song: GLBTM (Studio Outtakes), Artist: Daft Punk, Energy: 56, Happiness: 35",
          "Song: Nightcrawler (feat. Swae Lee & Chief Keef), Artist: Travis Scott,Swae Lee,Chief Keef, Energy: 73, Happiness: 18",
          "Song: Charcoal Baby, Artist: Blood Orange, Energy: 46, Happiness: 51",
          "Song: Gotta Get Away, Artist: The Black Keys, Energy: 84, Happiness: 72",
          "Song: Still, Artist: Kenny Beats, Energy: 70, Happiness: 84",
          "Song: Mayonaise - 2011 Remaster, Artist: The Smashing Pumpkins, Energy: 53, Happiness: 9",
          "Song: Daughter - Remastered, Artist: Pearl Jam, Energy: 70, Happiness: 73",
          "Song: Funny Thing, Artist: Thundercat, Energy: 89, Happiness: 65",
          "Song: It Ain't Over, Artist: The Black Keys, Energy: 56, Happiness: 51",
          "Song: Feeling Like The End, Artist: Joji, Energy: 67, Happiness: 63",
          "Song: FE!N (feat. Playboi Carti), Artist: Travis Scott,Playboi Carti, Energy: 88, Happiness: 20",
          "Song: Saint, Artist: Blood Orange, Energy: 63, Happiness: 7",
          "Song: Amber, Artist: 311, Energy: 70, Happiness: 74",
          "Song: Everything Goes My Way, Artist: Metronomy, Energy: 56, Happiness: 54",
          "Song: Take What You Want (feat. Ozzy Osbourne & Travis Scott), Artist: Post Malone,Ozzy Osbourne,Travis Scott, Energy: 80, Happiness: 27",
          "Song: Bound, Artist: Wet,Blood Orange, Energy: 52, Happiness: 27",
          "Song: Am I Dreaming (Metro Boomin & A$AP Rocky, Roisee), Artist: Metro Boomin,A$AP Rocky,Roisee, Energy: 53, Happiness: 13",
          "Song: Lay My Claim, Artist: Rebelution, Energy: 62, Happiness: 85",
          "Song: K-POP, Artist: Travis Scott,Bad Bunny,The Weeknd, Energy: 62, Happiness: 54",
          "Song: Someday, Artist: The Strokes, Energy: 52, Happiness: 68",
          "Song: Calling (Spider-Man: Across the Spider-Verse) (Metro Boomin & Swae Lee, NAV, feat. A Boogie Wit da Hoodie), Artist: Metro Boomin,Swae Lee,NAV,A Boogie Wit da Hoodie, Energy: 54, Happiness: 22",
          "Song: Pretty Lady, Artist: Rebelution, Energy: 62, Happiness: 69",
          "Song: 5% TINT, Artist: Travis Scott, Energy: 48, Happiness: 6",
          "Song: I Just Threw Out The Love Of My Dreams, Artist: Weezer, Energy: 97, Happiness: 28",
          "Song: Pasture Child, Artist: Dominic Fike, Energy: 67, Happiness: 45",
          "Song: Follow God, Artist: Kanye West, Energy: 90, Happiness: 43",
          "Song: Love Galore (feat. Travis Scott), Artist: SZA,Travis Scott, Energy: 59, Happiness: 41",
          "Song: Supersoaker, Artist: Kings of Leon, Energy: 87, Happiness: 71",
          "Song: Hot Air Balloon, Artist: Don Diablo,AR/CO, Energy: 71, Happiness: 57",
          "Song: Life Goes On, Artist: Lil Baby,Gunna,Lil Uzi Vert, Energy: 54, Happiness: 39",
          "Song: ASTROTHUNDER, Artist: Travis Scott, Energy: 46, Happiness: 29",
          "Song: Had Enough (feat. Quavo & Offset), Artist: Don Toliver,Offset,Quavo, Energy: 79, Happiness: 67",
          "Song: Father Stretch My Hands Pt. 1, Artist: Kanye West, Energy: 57, Happiness: 44",
          "Song: Baby Queen, Artist: Gorillaz, Energy: 86, Happiness: 46",
          "Song: Pornography, Artist: Travis Scott, Energy: 65, Happiness: 34",
          "Song: Stay, Artist: Post Malone, Energy: 48, Happiness: 35",
          "Song: Giorgio by Moroder, Artist: Daft Punk, Energy: 68, Happiness: 41",
          "Song: Hummingbird (Metro Boomin & James Blake), Artist: Metro Boomin,James Blake, Energy: 60, Happiness: 26",
          "Song: SICKO MODE, Artist: Travis Scott, Energy: 73, Happiness: 45",
          "Song: Yellow Ledbetter, Artist: Pearl Jam, Energy: 35, Happiness: 29",
          "Song: Fragments of Time (feat. Todd Edwards), Artist: Daft Punk,Todd Edwards, Energy: 51, Happiness: 96",
          "Song: Mumbo Sugar, Artist: Arc De Soleil, Energy: 60, Happiness: 97",
          "Song: Fair Trade (with Travis Scott), Artist: Drake,Travis Scott, Energy: 47, Happiness: 29",
          "Song: Ain't No Rest For The Wicked - Original Version, Artist: Cage The Elephant, Energy: 91, Happiness: 92",
          "Song: Outta Control, Artist: Rebelution, Energy: 63, Happiness: 66",
          "Song: All The Way Live (Spider-Man: Across the Spider-Verse) (Metro Boomin & Future, Lil Uzi Vert), Artist: Metro Boomin,Future,Lil Uzi Vert, Energy: 55, Happiness: 28",
          "Song: way back, Artist: Travis Scott, Energy: 55, Happiness: 17",
          "Song: Peace and Love, Artist: Red Hot Chili Peppers, Energy: 68, Happiness: 87",
          "Song: More Than Ever, Artist: Rebelution, Energy: 64, Happiness: 81",
          "Song: Pulp of Youth, Artist: The Growlers, Energy: 72, Happiness: 79",
          "Song: NC-17, Artist: Travis Scott, Energy: 76, Happiness: 6"
         ],
         "type": "scatter",
         "x": [
          71,
          55,
          12,
          78,
          79,
          6,
          14,
          70,
          75,
          45,
          30,
          56,
          31,
          57,
          64,
          42,
          82,
          89,
          73,
          77,
          65,
          28,
          68,
          55,
          35,
          7,
          65,
          19,
          78,
          8,
          85,
          70,
          35,
          46,
          50,
          78,
          10,
          28,
          46,
          58,
          74,
          70,
          60,
          79,
          26,
          90,
          13,
          48,
          83,
          35,
          18,
          51,
          72,
          84,
          9,
          73,
          65,
          51,
          63,
          20,
          7,
          74,
          54,
          27,
          27,
          13,
          85,
          54,
          68,
          22,
          69,
          6,
          28,
          45,
          43,
          41,
          71,
          57,
          39,
          29,
          67,
          44,
          46,
          34,
          35,
          41,
          26,
          45,
          29,
          96,
          97,
          29,
          92,
          66,
          28,
          17,
          87,
          81,
          79,
          6
         ],
         "y": [
          71,
          92,
          54,
          75,
          74,
          43,
          92,
          76,
          84,
          61,
          77,
          56,
          53,
          80,
          91,
          34,
          62,
          47,
          68,
          96,
          82,
          46,
          47,
          79,
          94,
          71,
          53,
          45,
          54,
          52,
          68,
          76,
          68,
          72,
          54,
          90,
          43,
          56,
          90,
          87,
          88,
          73,
          64,
          91,
          41,
          72,
          53,
          89,
          55,
          56,
          73,
          46,
          84,
          70,
          53,
          70,
          89,
          56,
          67,
          88,
          63,
          70,
          56,
          80,
          52,
          53,
          62,
          62,
          52,
          54,
          62,
          48,
          97,
          67,
          90,
          59,
          87,
          71,
          54,
          46,
          79,
          57,
          86,
          65,
          48,
          68,
          60,
          73,
          35,
          51,
          60,
          47,
          91,
          63,
          55,
          55,
          68,
          64,
          72,
          76
         ]
        }
       ],
       "layout": {
        "annotations": [
         {
          "font": {
           "color": "white",
           "size": 12
          },
          "showarrow": false,
          "text": "<b>Chaotic/Angry</b>",
          "x": 0,
          "y": 105
         },
         {
          "font": {
           "color": "white",
           "size": 12
          },
          "showarrow": false,
          "text": "<b>Happy/Upbeat</b>",
          "x": 100,
          "y": 105
         },
         {
          "font": {
           "color": "white",
           "size": 12
          },
          "showarrow": false,
          "text": "<b>Chill/Peaceful</b>",
          "x": 100,
          "y": -5
         },
         {
          "font": {
           "color": "white",
           "size": 12
          },
          "showarrow": false,
          "text": "<b>Sad/Depressing</b>",
          "x": 0,
          "y": -5
         }
        ],
        "height": 525,
        "hoverlabel": {
         "font": {
          "color": "white"
         }
        },
        "legend": {
         "title": {
          "text": "Listener"
         }
        },
        "shapes": [
         {
          "line": {
           "color": "white",
           "dash": "dash",
           "width": 1
          },
          "type": "line",
          "x0": 50,
          "x1": 50,
          "y0": 0,
          "y1": 100
         },
         {
          "line": {
           "color": "white",
           "dash": "dash",
           "width": 1
          },
          "type": "line",
          "x0": 0,
          "x1": 100,
          "y0": 50,
          "y1": 50
         }
        ],
        "template": {
         "data": {
          "bar": [
           {
            "error_x": {
             "color": "#f2f5fa"
            },
            "error_y": {
             "color": "#f2f5fa"
            },
            "marker": {
             "line": {
              "color": "rgb(17,17,17)",
              "width": 0.5
             },
             "pattern": {
              "fillmode": "overlay",
              "size": 10,
              "solidity": 0.2
             }
            },
            "type": "bar"
           }
          ],
          "barpolar": [
           {
            "marker": {
             "line": {
              "color": "rgb(17,17,17)",
              "width": 0.5
             },
             "pattern": {
              "fillmode": "overlay",
              "size": 10,
              "solidity": 0.2
             }
            },
            "type": "barpolar"
           }
          ],
          "carpet": [
           {
            "aaxis": {
             "endlinecolor": "#A2B1C6",
             "gridcolor": "#506784",
             "linecolor": "#506784",
             "minorgridcolor": "#506784",
             "startlinecolor": "#A2B1C6"
            },
            "baxis": {
             "endlinecolor": "#A2B1C6",
             "gridcolor": "#506784",
             "linecolor": "#506784",
             "minorgridcolor": "#506784",
             "startlinecolor": "#A2B1C6"
            },
            "type": "carpet"
           }
          ],
          "choropleth": [
           {
            "colorbar": {
             "outlinewidth": 0,
             "ticks": ""
            },
            "type": "choropleth"
           }
          ],
          "contour": [
           {
            "colorbar": {
             "outlinewidth": 0,
             "ticks": ""
            },
            "colorscale": [
             [
              0,
              "#0d0887"
             ],
             [
              0.1111111111111111,
              "#46039f"
             ],
             [
              0.2222222222222222,
              "#7201a8"
             ],
             [
              0.3333333333333333,
              "#9c179e"
             ],
             [
              0.4444444444444444,
              "#bd3786"
             ],
             [
              0.5555555555555556,
              "#d8576b"
             ],
             [
              0.6666666666666666,
              "#ed7953"
             ],
             [
              0.7777777777777778,
              "#fb9f3a"
             ],
             [
              0.8888888888888888,
              "#fdca26"
             ],
             [
              1,
              "#f0f921"
             ]
            ],
            "type": "contour"
           }
          ],
          "contourcarpet": [
           {
            "colorbar": {
             "outlinewidth": 0,
             "ticks": ""
            },
            "type": "contourcarpet"
           }
          ],
          "heatmap": [
           {
            "colorbar": {
             "outlinewidth": 0,
             "ticks": ""
            },
            "colorscale": [
             [
              0,
              "#0d0887"
             ],
             [
              0.1111111111111111,
              "#46039f"
             ],
             [
              0.2222222222222222,
              "#7201a8"
             ],
             [
              0.3333333333333333,
              "#9c179e"
             ],
             [
              0.4444444444444444,
              "#bd3786"
             ],
             [
              0.5555555555555556,
              "#d8576b"
             ],
             [
              0.6666666666666666,
              "#ed7953"
             ],
             [
              0.7777777777777778,
              "#fb9f3a"
             ],
             [
              0.8888888888888888,
              "#fdca26"
             ],
             [
              1,
              "#f0f921"
             ]
            ],
            "type": "heatmap"
           }
          ],
          "heatmapgl": [
           {
            "colorbar": {
             "outlinewidth": 0,
             "ticks": ""
            },
            "colorscale": [
             [
              0,
              "#0d0887"
             ],
             [
              0.1111111111111111,
              "#46039f"
             ],
             [
              0.2222222222222222,
              "#7201a8"
             ],
             [
              0.3333333333333333,
              "#9c179e"
             ],
             [
              0.4444444444444444,
              "#bd3786"
             ],
             [
              0.5555555555555556,
              "#d8576b"
             ],
             [
              0.6666666666666666,
              "#ed7953"
             ],
             [
              0.7777777777777778,
              "#fb9f3a"
             ],
             [
              0.8888888888888888,
              "#fdca26"
             ],
             [
              1,
              "#f0f921"
             ]
            ],
            "type": "heatmapgl"
           }
          ],
          "histogram": [
           {
            "marker": {
             "pattern": {
              "fillmode": "overlay",
              "size": 10,
              "solidity": 0.2
             }
            },
            "type": "histogram"
           }
          ],
          "histogram2d": [
           {
            "colorbar": {
             "outlinewidth": 0,
             "ticks": ""
            },
            "colorscale": [
             [
              0,
              "#0d0887"
             ],
             [
              0.1111111111111111,
              "#46039f"
             ],
             [
              0.2222222222222222,
              "#7201a8"
             ],
             [
              0.3333333333333333,
              "#9c179e"
             ],
             [
              0.4444444444444444,
              "#bd3786"
             ],
             [
              0.5555555555555556,
              "#d8576b"
             ],
             [
              0.6666666666666666,
              "#ed7953"
             ],
             [
              0.7777777777777778,
              "#fb9f3a"
             ],
             [
              0.8888888888888888,
              "#fdca26"
             ],
             [
              1,
              "#f0f921"
             ]
            ],
            "type": "histogram2d"
           }
          ],
          "histogram2dcontour": [
           {
            "colorbar": {
             "outlinewidth": 0,
             "ticks": ""
            },
            "colorscale": [
             [
              0,
              "#0d0887"
             ],
             [
              0.1111111111111111,
              "#46039f"
             ],
             [
              0.2222222222222222,
              "#7201a8"
             ],
             [
              0.3333333333333333,
              "#9c179e"
             ],
             [
              0.4444444444444444,
              "#bd3786"
             ],
             [
              0.5555555555555556,
              "#d8576b"
             ],
             [
              0.6666666666666666,
              "#ed7953"
             ],
             [
              0.7777777777777778,
              "#fb9f3a"
             ],
             [
              0.8888888888888888,
              "#fdca26"
             ],
             [
              1,
              "#f0f921"
             ]
            ],
            "type": "histogram2dcontour"
           }
          ],
          "mesh3d": [
           {
            "colorbar": {
             "outlinewidth": 0,
             "ticks": ""
            },
            "type": "mesh3d"
           }
          ],
          "parcoords": [
           {
            "line": {
             "colorbar": {
              "outlinewidth": 0,
              "ticks": ""
             }
            },
            "type": "parcoords"
           }
          ],
          "pie": [
           {
            "automargin": true,
            "type": "pie"
           }
          ],
          "scatter": [
           {
            "marker": {
             "line": {
              "color": "#283442"
             }
            },
            "type": "scatter"
           }
          ],
          "scatter3d": [
           {
            "line": {
             "colorbar": {
              "outlinewidth": 0,
              "ticks": ""
             }
            },
            "marker": {
             "colorbar": {
              "outlinewidth": 0,
              "ticks": ""
             }
            },
            "type": "scatter3d"
           }
          ],
          "scattercarpet": [
           {
            "marker": {
             "colorbar": {
              "outlinewidth": 0,
              "ticks": ""
             }
            },
            "type": "scattercarpet"
           }
          ],
          "scattergeo": [
           {
            "marker": {
             "colorbar": {
              "outlinewidth": 0,
              "ticks": ""
             }
            },
            "type": "scattergeo"
           }
          ],
          "scattergl": [
           {
            "marker": {
             "line": {
              "color": "#283442"
             }
            },
            "type": "scattergl"
           }
          ],
          "scattermapbox": [
           {
            "marker": {
             "colorbar": {
              "outlinewidth": 0,
              "ticks": ""
             }
            },
            "type": "scattermapbox"
           }
          ],
          "scatterpolar": [
           {
            "marker": {
             "colorbar": {
              "outlinewidth": 0,
              "ticks": ""
             }
            },
            "type": "scatterpolar"
           }
          ],
          "scatterpolargl": [
           {
            "marker": {
             "colorbar": {
              "outlinewidth": 0,
              "ticks": ""
             }
            },
            "type": "scatterpolargl"
           }
          ],
          "scatterternary": [
           {
            "marker": {
             "colorbar": {
              "outlinewidth": 0,
              "ticks": ""
             }
            },
            "type": "scatterternary"
           }
          ],
          "surface": [
           {
            "colorbar": {
             "outlinewidth": 0,
             "ticks": ""
            },
            "colorscale": [
             [
              0,
              "#0d0887"
             ],
             [
              0.1111111111111111,
              "#46039f"
             ],
             [
              0.2222222222222222,
              "#7201a8"
             ],
             [
              0.3333333333333333,
              "#9c179e"
             ],
             [
              0.4444444444444444,
              "#bd3786"
             ],
             [
              0.5555555555555556,
              "#d8576b"
             ],
             [
              0.6666666666666666,
              "#ed7953"
             ],
             [
              0.7777777777777778,
              "#fb9f3a"
             ],
             [
              0.8888888888888888,
              "#fdca26"
             ],
             [
              1,
              "#f0f921"
             ]
            ],
            "type": "surface"
           }
          ],
          "table": [
           {
            "cells": {
             "fill": {
              "color": "#506784"
             },
             "line": {
              "color": "rgb(17,17,17)"
             }
            },
            "header": {
             "fill": {
              "color": "#2a3f5f"
             },
             "line": {
              "color": "rgb(17,17,17)"
             }
            },
            "type": "table"
           }
          ]
         },
         "layout": {
          "annotationdefaults": {
           "arrowcolor": "#f2f5fa",
           "arrowhead": 0,
           "arrowwidth": 1
          },
          "autotypenumbers": "strict",
          "coloraxis": {
           "colorbar": {
            "outlinewidth": 0,
            "ticks": ""
           }
          },
          "colorscale": {
           "diverging": [
            [
             0,
             "#8e0152"
            ],
            [
             0.1,
             "#c51b7d"
            ],
            [
             0.2,
             "#de77ae"
            ],
            [
             0.3,
             "#f1b6da"
            ],
            [
             0.4,
             "#fde0ef"
            ],
            [
             0.5,
             "#f7f7f7"
            ],
            [
             0.6,
             "#e6f5d0"
            ],
            [
             0.7,
             "#b8e186"
            ],
            [
             0.8,
             "#7fbc41"
            ],
            [
             0.9,
             "#4d9221"
            ],
            [
             1,
             "#276419"
            ]
           ],
           "sequential": [
            [
             0,
             "#0d0887"
            ],
            [
             0.1111111111111111,
             "#46039f"
            ],
            [
             0.2222222222222222,
             "#7201a8"
            ],
            [
             0.3333333333333333,
             "#9c179e"
            ],
            [
             0.4444444444444444,
             "#bd3786"
            ],
            [
             0.5555555555555556,
             "#d8576b"
            ],
            [
             0.6666666666666666,
             "#ed7953"
            ],
            [
             0.7777777777777778,
             "#fb9f3a"
            ],
            [
             0.8888888888888888,
             "#fdca26"
            ],
            [
             1,
             "#f0f921"
            ]
           ],
           "sequentialminus": [
            [
             0,
             "#0d0887"
            ],
            [
             0.1111111111111111,
             "#46039f"
            ],
            [
             0.2222222222222222,
             "#7201a8"
            ],
            [
             0.3333333333333333,
             "#9c179e"
            ],
            [
             0.4444444444444444,
             "#bd3786"
            ],
            [
             0.5555555555555556,
             "#d8576b"
            ],
            [
             0.6666666666666666,
             "#ed7953"
            ],
            [
             0.7777777777777778,
             "#fb9f3a"
            ],
            [
             0.8888888888888888,
             "#fdca26"
            ],
            [
             1,
             "#f0f921"
            ]
           ]
          },
          "colorway": [
           "#636efa",
           "#EF553B",
           "#00cc96",
           "#ab63fa",
           "#FFA15A",
           "#19d3f3",
           "#FF6692",
           "#B6E880",
           "#FF97FF",
           "#FECB52"
          ],
          "font": {
           "color": "#f2f5fa"
          },
          "geo": {
           "bgcolor": "rgb(17,17,17)",
           "lakecolor": "rgb(17,17,17)",
           "landcolor": "rgb(17,17,17)",
           "showlakes": true,
           "showland": true,
           "subunitcolor": "#506784"
          },
          "hoverlabel": {
           "align": "left"
          },
          "hovermode": "closest",
          "mapbox": {
           "style": "dark"
          },
          "paper_bgcolor": "rgb(17,17,17)",
          "plot_bgcolor": "rgb(17,17,17)",
          "polar": {
           "angularaxis": {
            "gridcolor": "#506784",
            "linecolor": "#506784",
            "ticks": ""
           },
           "bgcolor": "rgb(17,17,17)",
           "radialaxis": {
            "gridcolor": "#506784",
            "linecolor": "#506784",
            "ticks": ""
           }
          },
          "scene": {
           "xaxis": {
            "backgroundcolor": "rgb(17,17,17)",
            "gridcolor": "#506784",
            "gridwidth": 2,
            "linecolor": "#506784",
            "showbackground": true,
            "ticks": "",
            "zerolinecolor": "#C8D4E3"
           },
           "yaxis": {
            "backgroundcolor": "rgb(17,17,17)",
            "gridcolor": "#506784",
            "gridwidth": 2,
            "linecolor": "#506784",
            "showbackground": true,
            "ticks": "",
            "zerolinecolor": "#C8D4E3"
           },
           "zaxis": {
            "backgroundcolor": "rgb(17,17,17)",
            "gridcolor": "#506784",
            "gridwidth": 2,
            "linecolor": "#506784",
            "showbackground": true,
            "ticks": "",
            "zerolinecolor": "#C8D4E3"
           }
          },
          "shapedefaults": {
           "line": {
            "color": "#f2f5fa"
           }
          },
          "sliderdefaults": {
           "bgcolor": "#C8D4E3",
           "bordercolor": "rgb(17,17,17)",
           "borderwidth": 1,
           "tickwidth": 0
          },
          "ternary": {
           "aaxis": {
            "gridcolor": "#506784",
            "linecolor": "#506784",
            "ticks": ""
           },
           "baxis": {
            "gridcolor": "#506784",
            "linecolor": "#506784",
            "ticks": ""
           },
           "bgcolor": "rgb(17,17,17)",
           "caxis": {
            "gridcolor": "#506784",
            "linecolor": "#506784",
            "ticks": ""
           }
          },
          "title": {
           "x": 0.05
          },
          "updatemenudefaults": {
           "bgcolor": "#506784",
           "borderwidth": 0
          },
          "xaxis": {
           "automargin": true,
           "gridcolor": "#283442",
           "linecolor": "#506784",
           "ticks": "",
           "title": {
            "standoff": 15
           },
           "zerolinecolor": "#283442",
           "zerolinewidth": 2
          },
          "yaxis": {
           "automargin": true,
           "gridcolor": "#283442",
           "linecolor": "#506784",
           "ticks": "",
           "title": {
            "standoff": 15
           },
           "zerolinecolor": "#283442",
           "zerolinewidth": 2
          }
         }
        },
        "title": {
         "font": {
          "size": 14
         },
         "text": "<b>Top 100 Songs by Mood</b>",
         "x": 0.5,
         "y": 0.9
        },
        "width": 1070,
        "xaxis": {
         "title": {
          "text": "Happiness Level"
         }
        },
        "yaxis": {
         "title": {
          "text": "Energy Level"
         }
        }
       }
      }
     },
     "metadata": {},
     "output_type": "display_data"
    }
   ],
   "source": [
    "import plotly.graph_objects as go\n",
    "\n",
    "# Define colors for each playlist owner\n",
    "color_map = {'Piero': '#1ED760', 'Nirvit': '#ff00ff'} #1db96e , #b91d82\n",
    "\n",
    "# Define symbols for each playlist owner\n",
    "symbol_map = {'Piero': 'circle', 'Nirvit': 'diamond'} #triangle-up\n",
    "\n",
    "# Define a function to create scatter plot with my original dataset\n",
    "def create_original_scatter_plot(all_songs):\n",
    "    # Create scatter plot\n",
    "    fig = go.Figure()\n",
    "\n",
    "    # Add text markers when hovering over points\n",
    "    for group, data in all_songs.groupby('Playlist Owner'):\n",
    "        fig.add_trace(go.Scatter(\n",
    "            x=data['Happy'],\n",
    "            y=data['Energy'],\n",
    "            opacity=0.75,\n",
    "            mode='markers',\n",
    "            name=group,\n",
    "            text=data.apply(lambda row: f\"Song: {row['Song']}, Artist: {row['Artist']}, Energy: {row['Energy']}, Happiness: {row['Happy']}\", axis=1),  # Hover text\n",
    "            marker=dict(\n",
    "                color=color_map[group],  # Color points based on group\n",
    "                size=10,\n",
    "                symbol=symbol_map.get(group, 'circle'),\n",
    "                line=dict(\n",
    "                    color='#2a8ccb',\n",
    "                    width=2\n",
    "                )\n",
    "            )\n",
    "        ))\n",
    "\n",
    "    # Scatterplot layout\n",
    "    fig.update_layout(\n",
    "        title={\n",
    "            'text': \"<b>Top 100 Songs by Mood</b>\", # Top 100 Songs by Positivity and Energy Levels\n",
    "            'font': {'size': 14},\n",
    "            'x': 0.5,  # Centered title\n",
    "            'y': 0.9  # Adjust vertical position of title\n",
    "        },\n",
    "        xaxis_title=\"Happiness Level\",\n",
    "        yaxis_title=\"Energy Level\",\n",
    "        legend_title=\"Listener\",\n",
    "        width=1070,  # Set width to 1000 pixels\n",
    "        height=525,  # Set height to 600 pixels\n",
    "        template=\"plotly_dark\",\n",
    "        # Make hover text white\n",
    "        hoverlabel=dict( \n",
    "            font=dict(\n",
    "                color=\"white\"  # Text color inside hover label\n",
    "            ))\n",
    "        \n",
    "    )\n",
    "\n",
    "\n",
    "    # Label song mood quadrants\n",
    "    fig.add_annotation(\n",
    "        x=0, y=105,\n",
    "        text=\"<b>Chaotic/Angry</b>\",\n",
    "        font=dict(\n",
    "            size=12,\n",
    "            color=\"white\",\n",
    "        ),\n",
    "        showarrow=False\n",
    "    ) \n",
    "\n",
    "    fig.add_annotation(\n",
    "        x= 100, y=105,\n",
    "        text=\"<b>Happy/Upbeat</b>\",\n",
    "        font=dict(\n",
    "            size=12,\n",
    "            color=\"white\"\n",
    "        ),\n",
    "        showarrow=False\n",
    "    )\n",
    "\n",
    "    fig.add_annotation(\n",
    "        x= 100, y=-5,\n",
    "        text=\"<b>Chill/Peaceful</b>\",\n",
    "        font=dict(\n",
    "            size=12,\n",
    "            color=\"white\"\n",
    "        ),\n",
    "        showarrow=False\n",
    "    )\n",
    "\n",
    "    fig.add_annotation(\n",
    "        x=0, y=-5,\n",
    "        text=\"<b>Sad/Depressing</b>\",\n",
    "        font=dict(\n",
    "            size=12,\n",
    "            color=\"white\"\n",
    "        ),\n",
    "        showarrow=False\n",
    "    )\n",
    "\n",
    "    # Adding cross section to distinguish mood sectors\n",
    "\n",
    "    # Vertical line\n",
    "    fig.add_shape(\n",
    "        type=\"line\",\n",
    "        x0=50, y0=0,\n",
    "        x1=50, y1=100,\n",
    "        line=dict(\n",
    "            color=\"white\",\n",
    "            width=1,\n",
    "            dash=\"dash\"\n",
    "        )\n",
    "    )\n",
    "\n",
    "    # Horizontal line\n",
    "    fig.add_shape(\n",
    "        type=\"line\",\n",
    "        x0=0, y0=50,\n",
    "        x1=100, y1=50,\n",
    "        line=dict(\n",
    "            color=\"white\",\n",
    "            width=1,\n",
    "            dash=\"dash\"\n",
    "        )\n",
    "    )\n",
    "\n",
    "    # Show the plot\n",
    "    return fig\n",
    "\n",
    "create_original_scatter_plot(all_songs)"
   ]
  },
  {
   "attachments": {},
   "cell_type": "markdown",
   "metadata": {},
   "source": [
    "This scatterplot compares the energy and happiness levels of all songs in our Spotify Wrapped playlists. To interpret the plot, it’s important to think about how energy and happiness features interact. \n",
    "\n",
    "* Low Energy + Low Happiness =  **Sad / Depressing**\n",
    "\n",
    "* Low Energy + High Happiness = **Chill / Peaceful**\n",
    "\n",
    "* High Energy + High Happiness = **Happy / Upbeat**\n",
    "\n",
    "* High Energy + Low Happiness = **Chaotic / Angry**\n",
    "\n",
    "The scatterplot reveals that songs from my playlist are primarily clustered in the top quadrant, reflecting a mix of chaotic/angry and happy/upbeat tunes. This clustering pattern could significantly influence a model's predictive capabilities, potentially making the dataset more predictable than anticipated. Additionally, another notable trend emerges: while Nirvit's music taste appears evenly spread across the plot, he tends to gravitate towards a higher proportion of sad and chill music compared to my preferences.\n",
    "\n",
    "Make sure to hover over the various points on the scatterplot, to see which songs they represent."
   ]
  },
  {
   "attachments": {},
   "cell_type": "markdown",
   "metadata": {},
   "source": [
    "## Prepping Data For Machine Learning Models\n",
    "### Normalize Data"
   ]
  },
  {
   "cell_type": "code",
   "execution_count": 9,
   "metadata": {},
   "outputs": [],
   "source": [
    "from sklearn.preprocessing import MinMaxScaler\n",
    "\n",
    "# Remove Artist and Song columns\n",
    "normalized_songs = all_songs.drop(columns=['Song', 'Artist'])\n",
    "\n",
    "# Select numerical columns to normalize\n",
    "columns_to_normalize = ['Popularity', 'BPM', 'Dance', 'Energy', 'Acoustic', 'Instrumental', 'Happy', 'Speech', 'Live', 'Loud', 'Time Signature', 'Time Seconds']\n",
    "\n",
    "# Initialize MinMaxScaler\n",
    "scaler = MinMaxScaler()\n",
    "\n",
    "# Fit the scaler on the selected columns\n",
    "scaler.fit(normalized_songs[columns_to_normalize])\n",
    "\n",
    "# Transform the selected columns\n",
    "normalized_songs[columns_to_normalize] = scaler.transform(normalized_songs[columns_to_normalize])\n",
    "\n",
    "# Create a new binary response column\n",
    "normalized_songs['Binary Response'] = (normalized_songs['Playlist Owner'] == 'Piero').astype(int)\n",
    "\n",
    "# Drop the original 'playlist' column if no longer needed\n",
    "normalized_songs.drop(columns=['Playlist Owner'], inplace=True)"
   ]
  },
  {
   "attachments": {},
   "cell_type": "markdown",
   "metadata": {},
   "source": [
    "Now we've got ourselves a normalized dataset!"
   ]
  },
  {
   "cell_type": "code",
   "execution_count": 10,
   "metadata": {},
   "outputs": [
    {
     "data": {
      "text/html": [
       "<div>\n",
       "<style scoped>\n",
       "    .dataframe tbody tr th:only-of-type {\n",
       "        vertical-align: middle;\n",
       "    }\n",
       "\n",
       "    .dataframe tbody tr th {\n",
       "        vertical-align: top;\n",
       "    }\n",
       "\n",
       "    .dataframe thead th {\n",
       "        text-align: right;\n",
       "    }\n",
       "</style>\n",
       "<table border=\"1\" class=\"dataframe\">\n",
       "  <thead>\n",
       "    <tr style=\"text-align: right;\">\n",
       "      <th></th>\n",
       "      <th>Popularity</th>\n",
       "      <th>BPM</th>\n",
       "      <th>Dance</th>\n",
       "      <th>Energy</th>\n",
       "      <th>Acoustic</th>\n",
       "      <th>Instrumental</th>\n",
       "      <th>Happy</th>\n",
       "      <th>Speech</th>\n",
       "      <th>Live</th>\n",
       "      <th>Loud</th>\n",
       "      <th>Key</th>\n",
       "      <th>Time Signature</th>\n",
       "      <th>Camelot</th>\n",
       "      <th>Time Seconds</th>\n",
       "      <th>Genre</th>\n",
       "      <th>Binary Response</th>\n",
       "    </tr>\n",
       "  </thead>\n",
       "  <tbody>\n",
       "    <tr>\n",
       "      <th>0</th>\n",
       "      <td>0.857143</td>\n",
       "      <td>0.550725</td>\n",
       "      <td>0.732558</td>\n",
       "      <td>0.707071</td>\n",
       "      <td>0.202020</td>\n",
       "      <td>0.000000</td>\n",
       "      <td>0.715789</td>\n",
       "      <td>0.000000</td>\n",
       "      <td>0.125</td>\n",
       "      <td>0.820513</td>\n",
       "      <td>A#/B♭ Minor</td>\n",
       "      <td>0.75</td>\n",
       "      <td>3A</td>\n",
       "      <td>0.115156</td>\n",
       "      <td>Hip Hop</td>\n",
       "      <td>1</td>\n",
       "    </tr>\n",
       "    <tr>\n",
       "      <th>1</th>\n",
       "      <td>0.750000</td>\n",
       "      <td>0.260870</td>\n",
       "      <td>0.732558</td>\n",
       "      <td>0.919192</td>\n",
       "      <td>0.040404</td>\n",
       "      <td>0.050505</td>\n",
       "      <td>0.547368</td>\n",
       "      <td>0.000000</td>\n",
       "      <td>0.125</td>\n",
       "      <td>0.846154</td>\n",
       "      <td>C♯/D♭ Minor</td>\n",
       "      <td>0.50</td>\n",
       "      <td>12A</td>\n",
       "      <td>0.127786</td>\n",
       "      <td>Hip Hop</td>\n",
       "      <td>1</td>\n",
       "    </tr>\n",
       "    <tr>\n",
       "      <th>2</th>\n",
       "      <td>0.714286</td>\n",
       "      <td>0.391304</td>\n",
       "      <td>0.639535</td>\n",
       "      <td>0.535354</td>\n",
       "      <td>0.757576</td>\n",
       "      <td>0.000000</td>\n",
       "      <td>0.094737</td>\n",
       "      <td>0.000000</td>\n",
       "      <td>0.125</td>\n",
       "      <td>0.794872</td>\n",
       "      <td>C Minor</td>\n",
       "      <td>0.75</td>\n",
       "      <td>5A</td>\n",
       "      <td>0.052006</td>\n",
       "      <td>Pop</td>\n",
       "      <td>1</td>\n",
       "    </tr>\n",
       "    <tr>\n",
       "      <th>3</th>\n",
       "      <td>0.904762</td>\n",
       "      <td>0.369565</td>\n",
       "      <td>0.813953</td>\n",
       "      <td>0.747475</td>\n",
       "      <td>0.111111</td>\n",
       "      <td>0.000000</td>\n",
       "      <td>0.789474</td>\n",
       "      <td>0.166667</td>\n",
       "      <td>0.125</td>\n",
       "      <td>0.846154</td>\n",
       "      <td>G#/A♭ Minor</td>\n",
       "      <td>0.75</td>\n",
       "      <td>1A</td>\n",
       "      <td>0.131501</td>\n",
       "      <td>Hip Hop</td>\n",
       "      <td>1</td>\n",
       "    </tr>\n",
       "    <tr>\n",
       "      <th>4</th>\n",
       "      <td>0.952381</td>\n",
       "      <td>0.326087</td>\n",
       "      <td>0.662791</td>\n",
       "      <td>0.737374</td>\n",
       "      <td>0.010101</td>\n",
       "      <td>0.010101</td>\n",
       "      <td>0.800000</td>\n",
       "      <td>0.000000</td>\n",
       "      <td>0.125</td>\n",
       "      <td>0.846154</td>\n",
       "      <td>E Major</td>\n",
       "      <td>0.75</td>\n",
       "      <td>12B</td>\n",
       "      <td>0.128529</td>\n",
       "      <td>Metal</td>\n",
       "      <td>1</td>\n",
       "    </tr>\n",
       "    <tr>\n",
       "      <th>...</th>\n",
       "      <td>...</td>\n",
       "      <td>...</td>\n",
       "      <td>...</td>\n",
       "      <td>...</td>\n",
       "      <td>...</td>\n",
       "      <td>...</td>\n",
       "      <td>...</td>\n",
       "      <td>...</td>\n",
       "      <td>...</td>\n",
       "      <td>...</td>\n",
       "      <td>...</td>\n",
       "      <td>...</td>\n",
       "      <td>...</td>\n",
       "      <td>...</td>\n",
       "      <td>...</td>\n",
       "      <td>...</td>\n",
       "    </tr>\n",
       "    <tr>\n",
       "      <th>95</th>\n",
       "      <td>0.535714</td>\n",
       "      <td>0.514493</td>\n",
       "      <td>0.406977</td>\n",
       "      <td>0.717172</td>\n",
       "      <td>0.010101</td>\n",
       "      <td>0.000000</td>\n",
       "      <td>0.400000</td>\n",
       "      <td>0.166667</td>\n",
       "      <td>0.000</td>\n",
       "      <td>0.692308</td>\n",
       "      <td>C♯/D♭ Major</td>\n",
       "      <td>0.75</td>\n",
       "      <td>3B</td>\n",
       "      <td>0.089153</td>\n",
       "      <td>Hip Hop</td>\n",
       "      <td>0</td>\n",
       "    </tr>\n",
       "    <tr>\n",
       "      <th>96</th>\n",
       "      <td>0.511905</td>\n",
       "      <td>0.144928</td>\n",
       "      <td>0.744186</td>\n",
       "      <td>0.242424</td>\n",
       "      <td>0.949495</td>\n",
       "      <td>0.000000</td>\n",
       "      <td>0.863158</td>\n",
       "      <td>0.000000</td>\n",
       "      <td>0.125</td>\n",
       "      <td>0.666667</td>\n",
       "      <td>E Minor</td>\n",
       "      <td>0.75</td>\n",
       "      <td>9A</td>\n",
       "      <td>0.026003</td>\n",
       "      <td>Jazz</td>\n",
       "      <td>0</td>\n",
       "    </tr>\n",
       "    <tr>\n",
       "      <th>97</th>\n",
       "      <td>0.523810</td>\n",
       "      <td>0.601449</td>\n",
       "      <td>0.581395</td>\n",
       "      <td>0.959596</td>\n",
       "      <td>0.020202</td>\n",
       "      <td>0.000000</td>\n",
       "      <td>0.242105</td>\n",
       "      <td>0.166667</td>\n",
       "      <td>0.375</td>\n",
       "      <td>0.846154</td>\n",
       "      <td>G#/A♭ Major</td>\n",
       "      <td>0.75</td>\n",
       "      <td>4B</td>\n",
       "      <td>0.089896</td>\n",
       "      <td>Rock</td>\n",
       "      <td>0</td>\n",
       "    </tr>\n",
       "    <tr>\n",
       "      <th>98</th>\n",
       "      <td>0.904762</td>\n",
       "      <td>0.333333</td>\n",
       "      <td>0.627907</td>\n",
       "      <td>0.434343</td>\n",
       "      <td>0.606061</td>\n",
       "      <td>0.000000</td>\n",
       "      <td>0.147368</td>\n",
       "      <td>0.166667</td>\n",
       "      <td>0.125</td>\n",
       "      <td>0.717949</td>\n",
       "      <td>G Major</td>\n",
       "      <td>0.50</td>\n",
       "      <td>9B</td>\n",
       "      <td>0.137444</td>\n",
       "      <td>R&amp;B</td>\n",
       "      <td>0</td>\n",
       "    </tr>\n",
       "    <tr>\n",
       "      <th>99</th>\n",
       "      <td>0.142857</td>\n",
       "      <td>0.094203</td>\n",
       "      <td>0.104651</td>\n",
       "      <td>0.989899</td>\n",
       "      <td>0.000000</td>\n",
       "      <td>0.090909</td>\n",
       "      <td>0.063158</td>\n",
       "      <td>0.500000</td>\n",
       "      <td>0.500</td>\n",
       "      <td>0.820513</td>\n",
       "      <td>A Minor</td>\n",
       "      <td>0.75</td>\n",
       "      <td>8A</td>\n",
       "      <td>0.199851</td>\n",
       "      <td>Metal</td>\n",
       "      <td>0</td>\n",
       "    </tr>\n",
       "  </tbody>\n",
       "</table>\n",
       "<p>200 rows × 16 columns</p>\n",
       "</div>"
      ],
      "text/plain": [
       "    Popularity       BPM     Dance    Energy  Acoustic  Instrumental  \\\n",
       "0     0.857143  0.550725  0.732558  0.707071  0.202020      0.000000   \n",
       "1     0.750000  0.260870  0.732558  0.919192  0.040404      0.050505   \n",
       "2     0.714286  0.391304  0.639535  0.535354  0.757576      0.000000   \n",
       "3     0.904762  0.369565  0.813953  0.747475  0.111111      0.000000   \n",
       "4     0.952381  0.326087  0.662791  0.737374  0.010101      0.010101   \n",
       "..         ...       ...       ...       ...       ...           ...   \n",
       "95    0.535714  0.514493  0.406977  0.717172  0.010101      0.000000   \n",
       "96    0.511905  0.144928  0.744186  0.242424  0.949495      0.000000   \n",
       "97    0.523810  0.601449  0.581395  0.959596  0.020202      0.000000   \n",
       "98    0.904762  0.333333  0.627907  0.434343  0.606061      0.000000   \n",
       "99    0.142857  0.094203  0.104651  0.989899  0.000000      0.090909   \n",
       "\n",
       "       Happy    Speech   Live      Loud          Key  Time Signature Camelot  \\\n",
       "0   0.715789  0.000000  0.125  0.820513  A#/B♭ Minor            0.75      3A   \n",
       "1   0.547368  0.000000  0.125  0.846154  C♯/D♭ Minor            0.50     12A   \n",
       "2   0.094737  0.000000  0.125  0.794872      C Minor            0.75      5A   \n",
       "3   0.789474  0.166667  0.125  0.846154  G#/A♭ Minor            0.75      1A   \n",
       "4   0.800000  0.000000  0.125  0.846154      E Major            0.75     12B   \n",
       "..       ...       ...    ...       ...          ...             ...     ...   \n",
       "95  0.400000  0.166667  0.000  0.692308  C♯/D♭ Major            0.75      3B   \n",
       "96  0.863158  0.000000  0.125  0.666667      E Minor            0.75      9A   \n",
       "97  0.242105  0.166667  0.375  0.846154  G#/A♭ Major            0.75      4B   \n",
       "98  0.147368  0.166667  0.125  0.717949      G Major            0.50      9B   \n",
       "99  0.063158  0.500000  0.500  0.820513      A Minor            0.75      8A   \n",
       "\n",
       "    Time Seconds    Genre  Binary Response  \n",
       "0       0.115156  Hip Hop                1  \n",
       "1       0.127786  Hip Hop                1  \n",
       "2       0.052006      Pop                1  \n",
       "3       0.131501  Hip Hop                1  \n",
       "4       0.128529    Metal                1  \n",
       "..           ...      ...              ...  \n",
       "95      0.089153  Hip Hop                0  \n",
       "96      0.026003     Jazz                0  \n",
       "97      0.089896     Rock                0  \n",
       "98      0.137444      R&B                0  \n",
       "99      0.199851    Metal                0  \n",
       "\n",
       "[200 rows x 16 columns]"
      ]
     },
     "execution_count": 10,
     "metadata": {},
     "output_type": "execute_result"
    }
   ],
   "source": [
    "normalized_songs"
   ]
  },
  {
   "attachments": {},
   "cell_type": "markdown",
   "metadata": {},
   "source": [
    "### Setting Up Training and Testing Data"
   ]
  },
  {
   "cell_type": "code",
   "execution_count": 11,
   "metadata": {},
   "outputs": [
    {
     "name": "stderr",
     "output_type": "stream",
     "text": [
      "/Library/Frameworks/Python.framework/Versions/3.11/lib/python3.11/site-packages/sklearn/preprocessing/_encoders.py:868: FutureWarning:\n",
      "\n",
      "`sparse` was renamed to `sparse_output` in version 1.2 and will be removed in 1.4. `sparse_output` is ignored unless you leave `sparse` to its default value.\n",
      "\n"
     ]
    }
   ],
   "source": [
    "from sklearn.model_selection import train_test_split\n",
    "from sklearn.preprocessing import StandardScaler\n",
    "from sklearn.metrics import mean_squared_error\n",
    "from sklearn import preprocessing\n",
    "from sklearn.preprocessing import OneHotEncoder\n",
    "\n",
    "# Define features (X) and target variable (y)\n",
    "X = normalized_songs[['Popularity', 'BPM', 'Dance', 'Energy', 'Acoustic', 'Instrumental', 'Happy', 'Speech', 'Live', 'Loud', 'Key', 'Time Signature', 'Camelot', 'Time Seconds', 'Genre']] # Features\n",
    "\n",
    "y = normalized_songs['Binary Response'] # Target variable Playlist Owner\n",
    "\n",
    "# Initialize OneHotEncoder\n",
    "encoder = OneHotEncoder(drop='first', sparse=False)\n",
    "\n",
    "# One-hot encode categorical columns\n",
    "X_encoded = pd.DataFrame(encoder.fit_transform(X[['Key', 'Camelot', 'Genre']]))  # Only encode categorical columns\n",
    "X_encoded.columns = encoder.get_feature_names_out(['Key', 'Camelot', 'Genre'])  # Get categorical column names\n",
    "\n",
    "# Reset indices of X and X_encoded\n",
    "X.reset_index(drop=True, inplace=True)\n",
    "X_encoded.reset_index(drop=True, inplace=True)\n",
    "\n",
    "# Concatenate numerical and encoded categorical columns\n",
    "X_final = pd.concat([X, X_encoded], axis=1)\n",
    "\n",
    "# Drop original columns since they have been encoded to new columns\n",
    "X_final.drop(columns=['Key', 'Camelot', 'Genre'], inplace=True)\n",
    "\n",
    "# Splitting up the data into training and testing sets (60% training, 40% testing)\n",
    "X_train, X_test, y_train, y_test = train_test_split(X_final, y, test_size=0.4, random_state=18, shuffle=True)"
   ]
  },
  {
   "attachments": {},
   "cell_type": "markdown",
   "metadata": {},
   "source": [
    "Now that the data has been split into testing and training sets, the next step involves creating machine learning models to predict which Spotify Wrapped playlist a song belongs to.\n",
    "\n",
    "## Creating Machine Learning Models"
   ]
  },
  {
   "attachments": {},
   "cell_type": "markdown",
   "metadata": {},
   "source": [
    "### Logistic Regression"
   ]
  },
  {
   "cell_type": "code",
   "execution_count": 12,
   "metadata": {},
   "outputs": [
    {
     "name": "stdout",
     "output_type": "stream",
     "text": [
      "Accuracy: 0.7375\n"
     ]
    }
   ],
   "source": [
    "from sklearn.linear_model import LogisticRegression\n",
    "from sklearn.metrics import accuracy_score\n",
    "\n",
    "# Create and train the logistic regression model\n",
    "lr_model = LogisticRegression()\n",
    "lr_model.fit(X_train, y_train)\n",
    "\n",
    "# Make predictions on the testing set\n",
    "y_pred_lr = lr_model.predict(X_test)\n",
    "\n",
    "# Evaluate the model\n",
    "accuracy_lr = accuracy_score(y_test, y_pred_lr)\n",
    "print(\"Accuracy:\", accuracy_lr)"
   ]
  },
  {
   "attachments": {},
   "cell_type": "markdown",
   "metadata": {},
   "source": [
    "### Feature Importance Plot (Logistic Regression)\n",
    "I developed this feature importance plot function to identify the most and least useful predictors in each model."
   ]
  },
  {
   "cell_type": "code",
   "execution_count": 13,
   "metadata": {},
   "outputs": [
    {
     "data": {
      "application/vnd.plotly.v1+json": {
       "config": {
        "plotlyServerURL": "https://plot.ly"
       },
       "data": [
        {
         "marker": {
          "color": [
           "#1DB954",
           "#2BBE60",
           "#3AC26C",
           "#48C778",
           "#57CB84",
           "#65D08F",
           "#74D49B",
           "#83D9A7",
           "#91DDB3",
           "#9FE2BF"
          ]
         },
         "orientation": "h",
         "type": "bar",
         "x": [
          2.02503843284669,
          1.7625862055557235,
          1.0205296317100812,
          0.4895888586781553,
          0.43783909379961555,
          0.43395481820506615,
          0.3577800579753778,
          0.3343594921114086,
          0.3343594921114086,
          0.3291352794331694
         ],
         "y": [
          "Genre_Hip Hop",
          "Popularity",
          "Genre_Rock",
          "Loud",
          "Energy",
          "Dance",
          "Genre_Blues",
          "Camelot_7A",
          "Key_D Minor",
          "Camelot_3B"
         ]
        }
       ],
       "layout": {
        "font": {
         "color": "white",
         "family": "Arial, sans-serif",
         "size": 12
        },
        "height": 500,
        "hoverlabel": {
         "font": {
          "color": "white"
         }
        },
        "margin": {
         "b": 20,
         "l": 100,
         "r": 20,
         "t": 40
        },
        "template": {
         "data": {
          "bar": [
           {
            "error_x": {
             "color": "#f2f5fa"
            },
            "error_y": {
             "color": "#f2f5fa"
            },
            "marker": {
             "line": {
              "color": "rgb(17,17,17)",
              "width": 0.5
             },
             "pattern": {
              "fillmode": "overlay",
              "size": 10,
              "solidity": 0.2
             }
            },
            "type": "bar"
           }
          ],
          "barpolar": [
           {
            "marker": {
             "line": {
              "color": "rgb(17,17,17)",
              "width": 0.5
             },
             "pattern": {
              "fillmode": "overlay",
              "size": 10,
              "solidity": 0.2
             }
            },
            "type": "barpolar"
           }
          ],
          "carpet": [
           {
            "aaxis": {
             "endlinecolor": "#A2B1C6",
             "gridcolor": "#506784",
             "linecolor": "#506784",
             "minorgridcolor": "#506784",
             "startlinecolor": "#A2B1C6"
            },
            "baxis": {
             "endlinecolor": "#A2B1C6",
             "gridcolor": "#506784",
             "linecolor": "#506784",
             "minorgridcolor": "#506784",
             "startlinecolor": "#A2B1C6"
            },
            "type": "carpet"
           }
          ],
          "choropleth": [
           {
            "colorbar": {
             "outlinewidth": 0,
             "ticks": ""
            },
            "type": "choropleth"
           }
          ],
          "contour": [
           {
            "colorbar": {
             "outlinewidth": 0,
             "ticks": ""
            },
            "colorscale": [
             [
              0,
              "#0d0887"
             ],
             [
              0.1111111111111111,
              "#46039f"
             ],
             [
              0.2222222222222222,
              "#7201a8"
             ],
             [
              0.3333333333333333,
              "#9c179e"
             ],
             [
              0.4444444444444444,
              "#bd3786"
             ],
             [
              0.5555555555555556,
              "#d8576b"
             ],
             [
              0.6666666666666666,
              "#ed7953"
             ],
             [
              0.7777777777777778,
              "#fb9f3a"
             ],
             [
              0.8888888888888888,
              "#fdca26"
             ],
             [
              1,
              "#f0f921"
             ]
            ],
            "type": "contour"
           }
          ],
          "contourcarpet": [
           {
            "colorbar": {
             "outlinewidth": 0,
             "ticks": ""
            },
            "type": "contourcarpet"
           }
          ],
          "heatmap": [
           {
            "colorbar": {
             "outlinewidth": 0,
             "ticks": ""
            },
            "colorscale": [
             [
              0,
              "#0d0887"
             ],
             [
              0.1111111111111111,
              "#46039f"
             ],
             [
              0.2222222222222222,
              "#7201a8"
             ],
             [
              0.3333333333333333,
              "#9c179e"
             ],
             [
              0.4444444444444444,
              "#bd3786"
             ],
             [
              0.5555555555555556,
              "#d8576b"
             ],
             [
              0.6666666666666666,
              "#ed7953"
             ],
             [
              0.7777777777777778,
              "#fb9f3a"
             ],
             [
              0.8888888888888888,
              "#fdca26"
             ],
             [
              1,
              "#f0f921"
             ]
            ],
            "type": "heatmap"
           }
          ],
          "heatmapgl": [
           {
            "colorbar": {
             "outlinewidth": 0,
             "ticks": ""
            },
            "colorscale": [
             [
              0,
              "#0d0887"
             ],
             [
              0.1111111111111111,
              "#46039f"
             ],
             [
              0.2222222222222222,
              "#7201a8"
             ],
             [
              0.3333333333333333,
              "#9c179e"
             ],
             [
              0.4444444444444444,
              "#bd3786"
             ],
             [
              0.5555555555555556,
              "#d8576b"
             ],
             [
              0.6666666666666666,
              "#ed7953"
             ],
             [
              0.7777777777777778,
              "#fb9f3a"
             ],
             [
              0.8888888888888888,
              "#fdca26"
             ],
             [
              1,
              "#f0f921"
             ]
            ],
            "type": "heatmapgl"
           }
          ],
          "histogram": [
           {
            "marker": {
             "pattern": {
              "fillmode": "overlay",
              "size": 10,
              "solidity": 0.2
             }
            },
            "type": "histogram"
           }
          ],
          "histogram2d": [
           {
            "colorbar": {
             "outlinewidth": 0,
             "ticks": ""
            },
            "colorscale": [
             [
              0,
              "#0d0887"
             ],
             [
              0.1111111111111111,
              "#46039f"
             ],
             [
              0.2222222222222222,
              "#7201a8"
             ],
             [
              0.3333333333333333,
              "#9c179e"
             ],
             [
              0.4444444444444444,
              "#bd3786"
             ],
             [
              0.5555555555555556,
              "#d8576b"
             ],
             [
              0.6666666666666666,
              "#ed7953"
             ],
             [
              0.7777777777777778,
              "#fb9f3a"
             ],
             [
              0.8888888888888888,
              "#fdca26"
             ],
             [
              1,
              "#f0f921"
             ]
            ],
            "type": "histogram2d"
           }
          ],
          "histogram2dcontour": [
           {
            "colorbar": {
             "outlinewidth": 0,
             "ticks": ""
            },
            "colorscale": [
             [
              0,
              "#0d0887"
             ],
             [
              0.1111111111111111,
              "#46039f"
             ],
             [
              0.2222222222222222,
              "#7201a8"
             ],
             [
              0.3333333333333333,
              "#9c179e"
             ],
             [
              0.4444444444444444,
              "#bd3786"
             ],
             [
              0.5555555555555556,
              "#d8576b"
             ],
             [
              0.6666666666666666,
              "#ed7953"
             ],
             [
              0.7777777777777778,
              "#fb9f3a"
             ],
             [
              0.8888888888888888,
              "#fdca26"
             ],
             [
              1,
              "#f0f921"
             ]
            ],
            "type": "histogram2dcontour"
           }
          ],
          "mesh3d": [
           {
            "colorbar": {
             "outlinewidth": 0,
             "ticks": ""
            },
            "type": "mesh3d"
           }
          ],
          "parcoords": [
           {
            "line": {
             "colorbar": {
              "outlinewidth": 0,
              "ticks": ""
             }
            },
            "type": "parcoords"
           }
          ],
          "pie": [
           {
            "automargin": true,
            "type": "pie"
           }
          ],
          "scatter": [
           {
            "marker": {
             "line": {
              "color": "#283442"
             }
            },
            "type": "scatter"
           }
          ],
          "scatter3d": [
           {
            "line": {
             "colorbar": {
              "outlinewidth": 0,
              "ticks": ""
             }
            },
            "marker": {
             "colorbar": {
              "outlinewidth": 0,
              "ticks": ""
             }
            },
            "type": "scatter3d"
           }
          ],
          "scattercarpet": [
           {
            "marker": {
             "colorbar": {
              "outlinewidth": 0,
              "ticks": ""
             }
            },
            "type": "scattercarpet"
           }
          ],
          "scattergeo": [
           {
            "marker": {
             "colorbar": {
              "outlinewidth": 0,
              "ticks": ""
             }
            },
            "type": "scattergeo"
           }
          ],
          "scattergl": [
           {
            "marker": {
             "line": {
              "color": "#283442"
             }
            },
            "type": "scattergl"
           }
          ],
          "scattermapbox": [
           {
            "marker": {
             "colorbar": {
              "outlinewidth": 0,
              "ticks": ""
             }
            },
            "type": "scattermapbox"
           }
          ],
          "scatterpolar": [
           {
            "marker": {
             "colorbar": {
              "outlinewidth": 0,
              "ticks": ""
             }
            },
            "type": "scatterpolar"
           }
          ],
          "scatterpolargl": [
           {
            "marker": {
             "colorbar": {
              "outlinewidth": 0,
              "ticks": ""
             }
            },
            "type": "scatterpolargl"
           }
          ],
          "scatterternary": [
           {
            "marker": {
             "colorbar": {
              "outlinewidth": 0,
              "ticks": ""
             }
            },
            "type": "scatterternary"
           }
          ],
          "surface": [
           {
            "colorbar": {
             "outlinewidth": 0,
             "ticks": ""
            },
            "colorscale": [
             [
              0,
              "#0d0887"
             ],
             [
              0.1111111111111111,
              "#46039f"
             ],
             [
              0.2222222222222222,
              "#7201a8"
             ],
             [
              0.3333333333333333,
              "#9c179e"
             ],
             [
              0.4444444444444444,
              "#bd3786"
             ],
             [
              0.5555555555555556,
              "#d8576b"
             ],
             [
              0.6666666666666666,
              "#ed7953"
             ],
             [
              0.7777777777777778,
              "#fb9f3a"
             ],
             [
              0.8888888888888888,
              "#fdca26"
             ],
             [
              1,
              "#f0f921"
             ]
            ],
            "type": "surface"
           }
          ],
          "table": [
           {
            "cells": {
             "fill": {
              "color": "#506784"
             },
             "line": {
              "color": "rgb(17,17,17)"
             }
            },
            "header": {
             "fill": {
              "color": "#2a3f5f"
             },
             "line": {
              "color": "rgb(17,17,17)"
             }
            },
            "type": "table"
           }
          ]
         },
         "layout": {
          "annotationdefaults": {
           "arrowcolor": "#f2f5fa",
           "arrowhead": 0,
           "arrowwidth": 1
          },
          "autotypenumbers": "strict",
          "coloraxis": {
           "colorbar": {
            "outlinewidth": 0,
            "ticks": ""
           }
          },
          "colorscale": {
           "diverging": [
            [
             0,
             "#8e0152"
            ],
            [
             0.1,
             "#c51b7d"
            ],
            [
             0.2,
             "#de77ae"
            ],
            [
             0.3,
             "#f1b6da"
            ],
            [
             0.4,
             "#fde0ef"
            ],
            [
             0.5,
             "#f7f7f7"
            ],
            [
             0.6,
             "#e6f5d0"
            ],
            [
             0.7,
             "#b8e186"
            ],
            [
             0.8,
             "#7fbc41"
            ],
            [
             0.9,
             "#4d9221"
            ],
            [
             1,
             "#276419"
            ]
           ],
           "sequential": [
            [
             0,
             "#0d0887"
            ],
            [
             0.1111111111111111,
             "#46039f"
            ],
            [
             0.2222222222222222,
             "#7201a8"
            ],
            [
             0.3333333333333333,
             "#9c179e"
            ],
            [
             0.4444444444444444,
             "#bd3786"
            ],
            [
             0.5555555555555556,
             "#d8576b"
            ],
            [
             0.6666666666666666,
             "#ed7953"
            ],
            [
             0.7777777777777778,
             "#fb9f3a"
            ],
            [
             0.8888888888888888,
             "#fdca26"
            ],
            [
             1,
             "#f0f921"
            ]
           ],
           "sequentialminus": [
            [
             0,
             "#0d0887"
            ],
            [
             0.1111111111111111,
             "#46039f"
            ],
            [
             0.2222222222222222,
             "#7201a8"
            ],
            [
             0.3333333333333333,
             "#9c179e"
            ],
            [
             0.4444444444444444,
             "#bd3786"
            ],
            [
             0.5555555555555556,
             "#d8576b"
            ],
            [
             0.6666666666666666,
             "#ed7953"
            ],
            [
             0.7777777777777778,
             "#fb9f3a"
            ],
            [
             0.8888888888888888,
             "#fdca26"
            ],
            [
             1,
             "#f0f921"
            ]
           ]
          },
          "colorway": [
           "#636efa",
           "#EF553B",
           "#00cc96",
           "#ab63fa",
           "#FFA15A",
           "#19d3f3",
           "#FF6692",
           "#B6E880",
           "#FF97FF",
           "#FECB52"
          ],
          "font": {
           "color": "#f2f5fa"
          },
          "geo": {
           "bgcolor": "rgb(17,17,17)",
           "lakecolor": "rgb(17,17,17)",
           "landcolor": "rgb(17,17,17)",
           "showlakes": true,
           "showland": true,
           "subunitcolor": "#506784"
          },
          "hoverlabel": {
           "align": "left"
          },
          "hovermode": "closest",
          "mapbox": {
           "style": "dark"
          },
          "paper_bgcolor": "rgb(17,17,17)",
          "plot_bgcolor": "rgb(17,17,17)",
          "polar": {
           "angularaxis": {
            "gridcolor": "#506784",
            "linecolor": "#506784",
            "ticks": ""
           },
           "bgcolor": "rgb(17,17,17)",
           "radialaxis": {
            "gridcolor": "#506784",
            "linecolor": "#506784",
            "ticks": ""
           }
          },
          "scene": {
           "xaxis": {
            "backgroundcolor": "rgb(17,17,17)",
            "gridcolor": "#506784",
            "gridwidth": 2,
            "linecolor": "#506784",
            "showbackground": true,
            "ticks": "",
            "zerolinecolor": "#C8D4E3"
           },
           "yaxis": {
            "backgroundcolor": "rgb(17,17,17)",
            "gridcolor": "#506784",
            "gridwidth": 2,
            "linecolor": "#506784",
            "showbackground": true,
            "ticks": "",
            "zerolinecolor": "#C8D4E3"
           },
           "zaxis": {
            "backgroundcolor": "rgb(17,17,17)",
            "gridcolor": "#506784",
            "gridwidth": 2,
            "linecolor": "#506784",
            "showbackground": true,
            "ticks": "",
            "zerolinecolor": "#C8D4E3"
           }
          },
          "shapedefaults": {
           "line": {
            "color": "#f2f5fa"
           }
          },
          "sliderdefaults": {
           "bgcolor": "#C8D4E3",
           "bordercolor": "rgb(17,17,17)",
           "borderwidth": 1,
           "tickwidth": 0
          },
          "ternary": {
           "aaxis": {
            "gridcolor": "#506784",
            "linecolor": "#506784",
            "ticks": ""
           },
           "baxis": {
            "gridcolor": "#506784",
            "linecolor": "#506784",
            "ticks": ""
           },
           "bgcolor": "rgb(17,17,17)",
           "caxis": {
            "gridcolor": "#506784",
            "linecolor": "#506784",
            "ticks": ""
           }
          },
          "title": {
           "x": 0.05
          },
          "updatemenudefaults": {
           "bgcolor": "#506784",
           "borderwidth": 0
          },
          "xaxis": {
           "automargin": true,
           "gridcolor": "#283442",
           "linecolor": "#506784",
           "ticks": "",
           "title": {
            "standoff": 15
           },
           "zerolinecolor": "#283442",
           "zerolinewidth": 2
          },
          "yaxis": {
           "automargin": true,
           "gridcolor": "#283442",
           "linecolor": "#506784",
           "ticks": "",
           "title": {
            "standoff": 15
           },
           "zerolinecolor": "#283442",
           "zerolinewidth": 2
          }
         }
        },
        "title": {
         "font": {
          "color": "white",
          "family": "Arial, sans-serif",
          "size": 16
         },
         "text": "<b>Top 10 Feature Importances</b>",
         "x": 0.5
        },
        "width": 700,
        "xaxis": {
         "title": {
          "font": {
           "color": "white",
           "family": "Arial, sans-serif",
           "size": 14
          },
          "text": "<b>Importance</b>"
         }
        },
        "yaxis": {
         "title": {
          "font": {
           "color": "white",
           "family": "Arial, sans-serif",
           "size": 14
          },
          "text": "<b>Features</b>"
         }
        }
       }
      }
     },
     "metadata": {},
     "output_type": "display_data"
    }
   ],
   "source": [
    "import plotly.graph_objects as go\n",
    "import panel as pn\n",
    "\n",
    "def plot_linear_feature_importance(model_name):\n",
    "    # Get feature importances\n",
    "    lr_importances = model_name.coef_[0]\n",
    "    indices = np.argsort(lr_importances)[::-1]\n",
    "\n",
    "    # Get feature names\n",
    "    feature_names = X_train.columns\n",
    "\n",
    "    # Create custom color gradient\n",
    "    colors = ['#1DB954', '#2BBE60', '#3AC26C', '#48C778', '#57CB84', '#65D08F', '#74D49B', '#83D9A7', '#91DDB3', '#9FE2BF'] \n",
    "\n",
    "    # Create figure\n",
    "    fig = go.Figure()\n",
    "\n",
    "    # Add bars to plot\n",
    "    fig.add_trace(go.Bar(\n",
    "        x=lr_importances[indices][:10],  # Grabs the top 10 features\n",
    "        y=[feature_names[i] for i in indices[:10]],  # Grabs their corresponding feature names\n",
    "        marker=dict(color=colors),\n",
    "        orientation='h'  # Style as horizontal bar chart\n",
    "    ))\n",
    "\n",
    "    # Style barplot\n",
    "    fig.update_layout(\n",
    "        title=dict(text=\"<b>Top 10 Feature Importances</b>\", x=0.5, font=dict(size=16, color='white', family='Arial, sans-serif')),\n",
    "        xaxis=dict(title='<b>Importance</b>', titlefont=dict(size=14, color='white', family='Arial, sans-serif')),\n",
    "        yaxis=dict(title='<b>Features</b>', titlefont=dict(size=14, color='white', family='Arial, sans-serif')),\n",
    "        font=dict(size=12, color='white', family='Arial, sans-serif'),\n",
    "        margin=dict(l=100, r=20, t=40, b=20),\n",
    "        height=500, #500\n",
    "        width=700,  # 800\n",
    "        template=\"plotly_dark\", # dark mode\n",
    "         # Make hover markers have white text\n",
    "        hoverlabel=dict(\n",
    "            font=dict(\n",
    "                color=\"white\"\n",
    "            )\n",
    "        )\n",
    "    )\n",
    "\n",
    "    return fig # Display plot in dashboard when clicked\n",
    "\n",
    "# Call function for logistic regression\n",
    "plot_linear_feature_importance(lr_model)\n"
   ]
  },
  {
   "attachments": {},
   "cell_type": "markdown",
   "metadata": {},
   "source": [
    "### Creating a Visualization Dataset\n",
    "To craft scatterplots, we need a streamlined visualization dataset containing only essential columns. This dataset, labeled `viz_dataset`, is extracted from the original dataset, `all_songs`, and encompasses descriptive song attributes like 'Song', 'Artist', 'Playlist Owner', in addition to 'Happy' and 'Energy' levels. The extraction process involves selecting rows corresponding to indices found within the `X_test` dataset."
   ]
  },
  {
   "cell_type": "code",
   "execution_count": 14,
   "metadata": {},
   "outputs": [
    {
     "data": {
      "text/html": [
       "<div>\n",
       "<style scoped>\n",
       "    .dataframe tbody tr th:only-of-type {\n",
       "        vertical-align: middle;\n",
       "    }\n",
       "\n",
       "    .dataframe tbody tr th {\n",
       "        vertical-align: top;\n",
       "    }\n",
       "\n",
       "    .dataframe thead th {\n",
       "        text-align: right;\n",
       "    }\n",
       "</style>\n",
       "<table border=\"1\" class=\"dataframe\">\n",
       "  <thead>\n",
       "    <tr style=\"text-align: right;\">\n",
       "      <th></th>\n",
       "      <th>Song</th>\n",
       "      <th>Artist</th>\n",
       "      <th>Playlist Owner</th>\n",
       "      <th>Happy</th>\n",
       "      <th>Energy</th>\n",
       "    </tr>\n",
       "  </thead>\n",
       "  <tbody>\n",
       "    <tr>\n",
       "      <th>134</th>\n",
       "      <td>Suite bergamasque, L. 75: III. Clair de lune</td>\n",
       "      <td>Claude Debussy,Philippe Entremont</td>\n",
       "      <td>Nirvit</td>\n",
       "      <td>4</td>\n",
       "      <td>6</td>\n",
       "    </tr>\n",
       "    <tr>\n",
       "      <th>91</th>\n",
       "      <td>Fair Trade (with Travis Scott)</td>\n",
       "      <td>Drake,Travis Scott</td>\n",
       "      <td>Piero</td>\n",
       "      <td>29</td>\n",
       "      <td>47</td>\n",
       "    </tr>\n",
       "    <tr>\n",
       "      <th>81</th>\n",
       "      <td>Father Stretch My Hands Pt. 1</td>\n",
       "      <td>Kanye West</td>\n",
       "      <td>Piero</td>\n",
       "      <td>44</td>\n",
       "      <td>57</td>\n",
       "    </tr>\n",
       "    <tr>\n",
       "      <th>108</th>\n",
       "      <td>愛してる</td>\n",
       "      <td>callin'</td>\n",
       "      <td>Nirvit</td>\n",
       "      <td>31</td>\n",
       "      <td>31</td>\n",
       "    </tr>\n",
       "    <tr>\n",
       "      <th>170</th>\n",
       "      <td>Disfarça E Chora</td>\n",
       "      <td>Cartola</td>\n",
       "      <td>Nirvit</td>\n",
       "      <td>96</td>\n",
       "      <td>44</td>\n",
       "    </tr>\n",
       "    <tr>\n",
       "      <th>...</th>\n",
       "      <td>...</td>\n",
       "      <td>...</td>\n",
       "      <td>...</td>\n",
       "      <td>...</td>\n",
       "      <td>...</td>\n",
       "    </tr>\n",
       "    <tr>\n",
       "      <th>126</th>\n",
       "      <td>Kiss the Ladder</td>\n",
       "      <td>Fleshwater</td>\n",
       "      <td>Nirvit</td>\n",
       "      <td>25</td>\n",
       "      <td>99</td>\n",
       "    </tr>\n",
       "    <tr>\n",
       "      <th>37</th>\n",
       "      <td>lose</td>\n",
       "      <td>Travis Scott</td>\n",
       "      <td>Piero</td>\n",
       "      <td>28</td>\n",
       "      <td>56</td>\n",
       "    </tr>\n",
       "    <tr>\n",
       "      <th>27</th>\n",
       "      <td>Doin' it Right (feat. Panda Bear)</td>\n",
       "      <td>Daft Punk,Panda Bear</td>\n",
       "      <td>Piero</td>\n",
       "      <td>19</td>\n",
       "      <td>45</td>\n",
       "    </tr>\n",
       "    <tr>\n",
       "      <th>2</th>\n",
       "      <td>1AM FREESTYLE</td>\n",
       "      <td>Joji</td>\n",
       "      <td>Piero</td>\n",
       "      <td>12</td>\n",
       "      <td>54</td>\n",
       "    </tr>\n",
       "    <tr>\n",
       "      <th>77</th>\n",
       "      <td>Hot Air Balloon</td>\n",
       "      <td>Don Diablo,AR/CO</td>\n",
       "      <td>Piero</td>\n",
       "      <td>57</td>\n",
       "      <td>71</td>\n",
       "    </tr>\n",
       "  </tbody>\n",
       "</table>\n",
       "<p>80 rows × 5 columns</p>\n",
       "</div>"
      ],
      "text/plain": [
       "                                             Song  \\\n",
       "134  Suite bergamasque, L. 75: III. Clair de lune   \n",
       "91                 Fair Trade (with Travis Scott)   \n",
       "81                  Father Stretch My Hands Pt. 1   \n",
       "108                                          愛してる   \n",
       "170                              Disfarça E Chora   \n",
       "..                                            ...   \n",
       "126                               Kiss the Ladder   \n",
       "37                                           lose   \n",
       "27              Doin' it Right (feat. Panda Bear)   \n",
       "2                                   1AM FREESTYLE   \n",
       "77                                Hot Air Balloon   \n",
       "\n",
       "                                Artist Playlist Owner  Happy  Energy  \n",
       "134  Claude Debussy,Philippe Entremont         Nirvit      4       6  \n",
       "91                  Drake,Travis Scott          Piero     29      47  \n",
       "81                          Kanye West          Piero     44      57  \n",
       "108                            callin'         Nirvit     31      31  \n",
       "170                            Cartola         Nirvit     96      44  \n",
       "..                                 ...            ...    ...     ...  \n",
       "126                         Fleshwater         Nirvit     25      99  \n",
       "37                        Travis Scott          Piero     28      56  \n",
       "27                Daft Punk,Panda Bear          Piero     19      45  \n",
       "2                                 Joji          Piero     12      54  \n",
       "77                    Don Diablo,AR/CO          Piero     57      71  \n",
       "\n",
       "[80 rows x 5 columns]"
      ]
     },
     "execution_count": 14,
     "metadata": {},
     "output_type": "execute_result"
    }
   ],
   "source": [
    "# Reset index of the all_songs DataFrame\n",
    "all_songs_reset_index = all_songs.reset_index(drop=True)\n",
    "\n",
    "# Extract rows from the original dataset based on indices in X_test\n",
    "viz_dataset = all_songs_reset_index.loc[X_test.index, ['Song', 'Artist', 'Playlist Owner','Happy', 'Energy']]\n",
    "\n",
    "viz_dataset"
   ]
  },
  {
   "attachments": {},
   "cell_type": "markdown",
   "metadata": {},
   "source": [
    "### Creating a Scatterplot Function to Show Logistic Regression Classification Results\n",
    "This function can create scatterplots for any type of model, whether it's linear, tree-based, or cluster-based. The plan is to utilize it in the dashboard to visually represent classification song predictions for every model."
   ]
  },
  {
   "cell_type": "code",
   "execution_count": 15,
   "metadata": {},
   "outputs": [],
   "source": [
    "import plotly.graph_objects as go\n",
    "\n",
    "def model_plot(y_pred):\n",
    "\n",
    "    # Define colors for each playlist owner\n",
    "    color_map = {1: '#1ED760', 0: '#ff00ff'} #1db96e , #b91d82\n",
    "\n",
    "    # Define symbols for each playlist owner\n",
    "    symbol_map = {1: 'circle', 0: 'diamond'} \n",
    "\n",
    "    # Map class labels to name legend labels\n",
    "    legend_labels = {1: 'Piero', 0: 'Nirvit'}\n",
    "\n",
    "    # Replace prediction labels (1,0) for names (Piero, Nirvit) in the legend\n",
    "    legend_names = [legend_labels[label] for label in color_map.keys()]\n",
    "\n",
    "    # Add truth labels by merging `y_pred` from each model as a prediction column\n",
    "    viz_dataset['Predicted Owner'] = y_pred\n",
    "\n",
    "    # Create scatter plot\n",
    "    fig = go.Figure()\n",
    "\n",
    "    # Add text markers when hovering over points\n",
    "    for group, data in viz_dataset.groupby('Predicted Owner'):\n",
    "        fig.add_trace(go.Scatter(\n",
    "            x=data['Happy'],\n",
    "            y=data['Energy'],\n",
    "            opacity=0.75,\n",
    "            mode='markers',\n",
    "            name=legend_labels[group],\n",
    "            text=data.apply(lambda row: f\"Song: {row['Song']}, Artist: {row['Artist']}, Energy: {row['Energy']}, Happiness: {row['Happy']}\", axis=1),  # Hover text\n",
    "            marker=dict(\n",
    "                color=color_map[group],  # Color points based on group\n",
    "                size=10,\n",
    "                symbol=symbol_map.get(group, 'circle'),\n",
    "                line=dict(\n",
    "                    color='#2a8ccb', ##2a8ccb\n",
    "                    width=2\n",
    "                )\n",
    "            )\n",
    "        ))\n",
    "\n",
    "\n",
    "    # Change scatterplot appearance / styles\n",
    "    fig.update_layout(\n",
    "         title={\n",
    "        'text': \"<b>Top 100 Songs by Mood</b>\", # Top 100 Songs by Positivity and Energy Levels\n",
    "        'font': {'size': 14},\n",
    "        'x': 0.5,  # Centered title\n",
    "        'y': 0.9  # Adjust vertical position of title\n",
    "        },\n",
    "        xaxis_title=\"Happiness Level\",\n",
    "        yaxis_title=\"Energy Level\",\n",
    "        legend_title=\"Listener\",\n",
    "        width=1070,\n",
    "        height=525,\n",
    "        template=\"plotly_dark\",\n",
    "        # Make hover text white\n",
    "        hoverlabel=dict(\n",
    "            font=dict(\n",
    "                color=\"white\"\n",
    "            )\n",
    "        )\n",
    "       \n",
    "    )\n",
    "\n",
    "    # Label song mood quadrants\n",
    "    fig.add_annotation(\n",
    "        x=0, y=105,\n",
    "        text=\"<b>Chaotic/Angry</b>\",\n",
    "        font=dict(\n",
    "            size=12,\n",
    "            color=\"white\"\n",
    "        ),\n",
    "        showarrow=False\n",
    "    )\n",
    "\n",
    "    fig.add_annotation(\n",
    "        x= 100, y=105,\n",
    "        text=\"<b>Happy/Upbeat</b>\",\n",
    "        font=dict(\n",
    "            size=12,\n",
    "            color=\"white\"\n",
    "        ),\n",
    "        showarrow=False\n",
    "    )\n",
    "\n",
    "\n",
    "    fig.add_annotation(\n",
    "        x= 100, y=-5,\n",
    "        text=\"<b>Chill/Peaceful</b>\",\n",
    "        font=dict(\n",
    "            size=12,\n",
    "            color=\"white\"\n",
    "        ),\n",
    "        showarrow=False\n",
    "    )\n",
    "\n",
    "    fig.add_annotation(\n",
    "        x=0, y=-5,\n",
    "        text=\"<b>Sad/Depressing</b>\",\n",
    "        font=dict(\n",
    "            size=12,\n",
    "            color=\"white\"\n",
    "        ),\n",
    "        showarrow=False\n",
    "    )\n",
    "\n",
    "    # Adding cross section to distinguish mood sectors\n",
    "\n",
    "    # Vertical line\n",
    "    fig.add_shape(\n",
    "        type=\"line\",\n",
    "        x0=50, y0=0,\n",
    "        x1=50, y1=100,\n",
    "        line=dict(\n",
    "            color=\"white\",\n",
    "            width=1,\n",
    "            dash=\"dash\"\n",
    "        )\n",
    "    )\n",
    "\n",
    "    # Horizontal line\n",
    "    fig.add_shape(\n",
    "        type=\"line\",\n",
    "        x0=0, y0=50,\n",
    "        x1=100, y1=50,\n",
    "        line=dict(\n",
    "            color=\"white\",\n",
    "            width=1,\n",
    "            dash=\"dash\"\n",
    "        )\n",
    "    )\n",
    "\n",
    "    # Show scatterplot\n",
    "    return fig "
   ]
  },
  {
   "cell_type": "code",
   "execution_count": 16,
   "metadata": {},
   "outputs": [
    {
     "data": {
      "application/vnd.plotly.v1+json": {
       "config": {
        "plotlyServerURL": "https://plot.ly"
       },
       "data": [
        {
         "marker": {
          "color": "#ff00ff",
          "line": {
           "color": "#2a8ccb",
           "width": 2
          },
          "size": 10,
          "symbol": "diamond"
         },
         "mode": "markers",
         "name": "Nirvit",
         "opacity": 0.75,
         "text": [
          "Song: Suite bergamasque, L. 75: III. Clair de lune, Artist: Claude Debussy,Philippe Entremont, Energy: 6, Happiness: 4",
          "Song: 愛してる, Artist: callin', Energy: 31, Happiness: 31",
          "Song: Disfarça E Chora, Artist: Cartola, Energy: 44, Happiness: 96",
          "Song: homeswitcher, Artist: Jane Remover,kmoe, Energy: 97, Happiness: 32",
          "Song: So Strange (feat. Cuco), Artist: Polyphia,Cuco, Energy: 89, Happiness: 48",
          "Song: Something You Know, Artist: Blood Orange, Energy: 41, Happiness: 26",
          "Song: pretty satan, Artist: mage tears, Energy: 1, Happiness: 19",
          "Song: Leather Jacket, Artist: HYUKOH, Energy: 88, Happiness: 74",
          "Song: Jesus Freak Lighter, Artist: Blood Orange, Energy: 92, Happiness: 14",
          "Song: YUKON (INTERLUDE), Artist: Joji, Energy: 71, Happiness: 7",
          "Song: Skating In Central Park, Artist: Bill Evans,Jim Hall, Energy: 3, Happiness: 15",
          "Song: Ditto, Artist: NewJeans, Energy: 64, Happiness: 18",
          "Song: Yellow Ledbetter, Artist: Pearl Jam, Energy: 35, Happiness: 29",
          "Song: Casket Pretty, Artist: Noname, Energy: 49, Happiness: 50",
          "Song: XI, Artist: Youth Novel, Energy: 56, Happiness: 21",
          "Song: The Bay, Artist: Metronomy, Energy: 47, Happiness: 89",
          "Song: Columbine, Artist: Townes Van Zandt, Energy: 19, Happiness: 62",
          "Song: As Rosas Não Falam, Artist: Cartola, Energy: 45, Happiness: 81",
          "Song: You And Me, Artist: Penny & The Quarters, Energy: 18, Happiness: 26",
          "Song: Feeling Like The End, Artist: Joji, Energy: 67, Happiness: 63",
          "Song: Lungs, Artist: Townes Van Zandt, Energy: 30, Happiness: 57",
          "Song: Daughter - Remastered, Artist: Pearl Jam, Energy: 70, Happiness: 73",
          "Song: My Shadow, Artist: Jay Reatard, Energy: 94, Happiness: 32",
          "Song: I'll Be Here in the Morning, Artist: Townes Van Zandt, Energy: 17, Happiness: 64",
          "Song: OMG, Artist: NewJeans, Energy: 77, Happiness: 74",
          "Song: Mumbo Sugar, Artist: Arc De Soleil, Energy: 60, Happiness: 97",
          "Song: Solitude, Artist: Lord Snow, Energy: 99, Happiness: 9",
          "Song: いかれたNeet, Artist: Shinsei Kamattechan, Energy: 89, Happiness: 38",
          "Song: Selfish Sleep, Artist: Lord Snow, Energy: 100, Happiness: 9",
          "Song: Freedom Interlude, Artist: Noname, Energy: 72, Happiness: 76",
          "Song: Dally (feat. GRAY), Artist: HYOLYN,GRAY, Energy: 82, Happiness: 89",
          "Song: Funny Thing, Artist: Thundercat, Energy: 89, Happiness: 65",
          "Song: Thank You DubNation! (the page will never be long enough), Artist: herlovebeheadsdaisies, Energy: 60, Happiness: 29",
          "Song: Techno Show, Artist: Peach Pit, Energy: 72, Happiness: 90",
          "Song: きみのうた, Artist: Rei Yasuda, Energy: 68, Happiness: 29",
          "Song: The Background Static of Perpetual Discontent, Artist: Lord Snow, Energy: 100, Happiness: 3",
          "Song: (Quicksilver Daydreams Of) Maria, Artist: Townes Van Zandt, Energy: 17, Happiness: 44",
          "Song: Tive Sim, Artist: Cartola, Energy: 71, Happiness: 96",
          "Song: Aconteceu, Artist: Cartola, Energy: 66, Happiness: 98",
          "Song: Don't Take It Too Bad, Artist: Townes Van Zandt, Energy: 13, Happiness: 50",
          "Song: Diddy Bop, Artist: Noname,Raury,Cam O'bi, Energy: 50, Happiness: 66",
          "Song: Girl Front, Artist: LOOΠΔ / ODD EYE CIRCLE, Energy: 80, Happiness: 69",
          "Song: Feelin' Lovely, Artist: Devonté Hynes,Connan Mockasin, Energy: 76, Happiness: 70",
          "Song: Doin' it Right (feat. Panda Bear), Artist: Daft Punk,Panda Bear, Energy: 45, Happiness: 19",
          "Song: 1AM FREESTYLE, Artist: Joji, Energy: 54, Happiness: 12",
          "Song: Hot Air Balloon, Artist: Don Diablo,AR/CO, Energy: 71, Happiness: 57"
         ],
         "type": "scatter",
         "x": [
          4,
          31,
          96,
          32,
          48,
          26,
          19,
          74,
          14,
          7,
          15,
          18,
          29,
          50,
          21,
          89,
          62,
          81,
          26,
          63,
          57,
          73,
          32,
          64,
          74,
          97,
          9,
          38,
          9,
          76,
          89,
          65,
          29,
          90,
          29,
          3,
          44,
          96,
          98,
          50,
          66,
          69,
          70,
          19,
          12,
          57
         ],
         "y": [
          6,
          31,
          44,
          97,
          89,
          41,
          1,
          88,
          92,
          71,
          3,
          64,
          35,
          49,
          56,
          47,
          19,
          45,
          18,
          67,
          30,
          70,
          94,
          17,
          77,
          60,
          99,
          89,
          100,
          72,
          82,
          89,
          60,
          72,
          68,
          100,
          17,
          71,
          66,
          13,
          50,
          80,
          76,
          45,
          54,
          71
         ]
        },
        {
         "marker": {
          "color": "#1ED760",
          "line": {
           "color": "#2a8ccb",
           "width": 2
          },
          "size": 10,
          "symbol": "circle"
         },
         "mode": "markers",
         "name": "Piero",
         "opacity": 0.75,
         "text": [
          "Song: Fair Trade (with Travis Scott), Artist: Drake,Travis Scott, Energy: 47, Happiness: 29",
          "Song: Father Stretch My Hands Pt. 1, Artist: Kanye West, Energy: 57, Happiness: 44",
          "Song: Skinny Ape, Artist: Gorillaz, Energy: 87, Happiness: 58",
          "Song: Follow God, Artist: Kanye West, Energy: 90, Happiness: 43",
          "Song: pick up the phone, Artist: Young Thug,Travis Scott, Energy: 72, Happiness: 46",
          "Song: 90210 (feat. Kacy Hill), Artist: Travis Scott,Kacy Hill, Energy: 53, Happiness: 31",
          "Song: GLBTM (Studio Outtakes), Artist: Daft Punk, Energy: 56, Happiness: 35",
          "Song: 5% TINT, Artist: Travis Scott, Energy: 48, Happiness: 6",
          "Song: Brown Skin Lady, Artist: Black Star, Energy: 55, Happiness: 83",
          "Song: The Less I Know The Better, Artist: Tame Impala, Energy: 74, Happiness: 79",
          "Song: CAN'T SAY, Artist: Travis Scott, Energy: 71, Happiness: 71",
          "Song: Crew (feat. Brent Faiyaz & Shy Glizzy), Artist: GoldLink,Brent Faiyaz,Shy Glizzy, Energy: 61, Happiness: 45",
          "Song: Noah Fence, Artist: Origami Angel, Energy: 96, Happiness: 50",
          "Song: Oil (feat. Stevie Nicks), Artist: Gorillaz,Stevie Nicks, Energy: 94, Happiness: 35",
          "Song: Hell N Back, Artist: Bakar, Energy: 68, Happiness: 73",
          "Song: Int'l Players Anthem (I Choose You), Artist: UGK,Outkast, Energy: 68, Happiness: 85",
          "Song: Am I Dreaming (Metro Boomin & A$AP Rocky, Roisee), Artist: Metro Boomin,A$AP Rocky,Roisee, Energy: 53, Happiness: 13",
          "Song: Take What You Want (feat. Ozzy Osbourne & Travis Scott), Artist: Post Malone,Ozzy Osbourne,Travis Scott, Energy: 80, Happiness: 27",
          "Song: 20 Min, Artist: Lil Uzi Vert, Energy: 75, Happiness: 78",
          "Song: It Ain't Over, Artist: The Black Keys, Energy: 56, Happiness: 51",
          "Song: Wish I Didn't Miss You, Artist: Angie Stone, Energy: 76, Happiness: 84",
          "Song: The Look, Artist: Metronomy, Energy: 54, Happiness: 50",
          "Song: Self-Destruct, Artist: Origami Angel, Energy: 94, Happiness: 39",
          "Song: Undertow, Artist: Dan Auerbach, Energy: 73, Happiness: 70",
          "Song: Everything Goes My Way, Artist: Metronomy, Energy: 56, Happiness: 54",
          "Song: Saint, Artist: Blood Orange, Energy: 63, Happiness: 7",
          "Song: Amber, Artist: 311, Energy: 70, Happiness: 74",
          "Song: Tarantula, Artist: Gorillaz, Energy: 91, Happiness: 79",
          "Song: All The Way Live (Spider-Man: Across the Spider-Verse) (Metro Boomin & Future, Lil Uzi Vert), Artist: Metro Boomin,Future,Lil Uzi Vert, Energy: 55, Happiness: 28",
          "Song: Peace and Love, Artist: Red Hot Chili Peppers, Energy: 68, Happiness: 87",
          "Song: way back, Artist: Travis Scott, Energy: 55, Happiness: 17",
          "Song: FLASH CASANOVA, Artist: Yabujin, Energy: 72, Happiness: 41",
          "Song: Kiss the Ladder, Artist: Fleshwater, Energy: 99, Happiness: 25",
          "Song: lose, Artist: Travis Scott, Energy: 56, Happiness: 28"
         ],
         "type": "scatter",
         "x": [
          29,
          44,
          58,
          43,
          46,
          31,
          35,
          6,
          83,
          79,
          71,
          45,
          50,
          35,
          73,
          85,
          13,
          27,
          78,
          51,
          84,
          50,
          39,
          70,
          54,
          7,
          74,
          79,
          28,
          87,
          17,
          41,
          25,
          28
         ],
         "y": [
          47,
          57,
          87,
          90,
          72,
          53,
          56,
          48,
          55,
          74,
          71,
          61,
          96,
          94,
          68,
          68,
          53,
          80,
          75,
          56,
          76,
          54,
          94,
          73,
          56,
          63,
          70,
          91,
          55,
          68,
          55,
          72,
          99,
          56
         ]
        }
       ],
       "layout": {
        "annotations": [
         {
          "font": {
           "color": "white",
           "size": 12
          },
          "showarrow": false,
          "text": "<b>Chaotic/Angry</b>",
          "x": 0,
          "y": 105
         },
         {
          "font": {
           "color": "white",
           "size": 12
          },
          "showarrow": false,
          "text": "<b>Happy/Upbeat</b>",
          "x": 100,
          "y": 105
         },
         {
          "font": {
           "color": "white",
           "size": 12
          },
          "showarrow": false,
          "text": "<b>Chill/Peaceful</b>",
          "x": 100,
          "y": -5
         },
         {
          "font": {
           "color": "white",
           "size": 12
          },
          "showarrow": false,
          "text": "<b>Sad/Depressing</b>",
          "x": 0,
          "y": -5
         }
        ],
        "height": 525,
        "hoverlabel": {
         "font": {
          "color": "white"
         }
        },
        "legend": {
         "title": {
          "text": "Listener"
         }
        },
        "shapes": [
         {
          "line": {
           "color": "white",
           "dash": "dash",
           "width": 1
          },
          "type": "line",
          "x0": 50,
          "x1": 50,
          "y0": 0,
          "y1": 100
         },
         {
          "line": {
           "color": "white",
           "dash": "dash",
           "width": 1
          },
          "type": "line",
          "x0": 0,
          "x1": 100,
          "y0": 50,
          "y1": 50
         }
        ],
        "template": {
         "data": {
          "bar": [
           {
            "error_x": {
             "color": "#f2f5fa"
            },
            "error_y": {
             "color": "#f2f5fa"
            },
            "marker": {
             "line": {
              "color": "rgb(17,17,17)",
              "width": 0.5
             },
             "pattern": {
              "fillmode": "overlay",
              "size": 10,
              "solidity": 0.2
             }
            },
            "type": "bar"
           }
          ],
          "barpolar": [
           {
            "marker": {
             "line": {
              "color": "rgb(17,17,17)",
              "width": 0.5
             },
             "pattern": {
              "fillmode": "overlay",
              "size": 10,
              "solidity": 0.2
             }
            },
            "type": "barpolar"
           }
          ],
          "carpet": [
           {
            "aaxis": {
             "endlinecolor": "#A2B1C6",
             "gridcolor": "#506784",
             "linecolor": "#506784",
             "minorgridcolor": "#506784",
             "startlinecolor": "#A2B1C6"
            },
            "baxis": {
             "endlinecolor": "#A2B1C6",
             "gridcolor": "#506784",
             "linecolor": "#506784",
             "minorgridcolor": "#506784",
             "startlinecolor": "#A2B1C6"
            },
            "type": "carpet"
           }
          ],
          "choropleth": [
           {
            "colorbar": {
             "outlinewidth": 0,
             "ticks": ""
            },
            "type": "choropleth"
           }
          ],
          "contour": [
           {
            "colorbar": {
             "outlinewidth": 0,
             "ticks": ""
            },
            "colorscale": [
             [
              0,
              "#0d0887"
             ],
             [
              0.1111111111111111,
              "#46039f"
             ],
             [
              0.2222222222222222,
              "#7201a8"
             ],
             [
              0.3333333333333333,
              "#9c179e"
             ],
             [
              0.4444444444444444,
              "#bd3786"
             ],
             [
              0.5555555555555556,
              "#d8576b"
             ],
             [
              0.6666666666666666,
              "#ed7953"
             ],
             [
              0.7777777777777778,
              "#fb9f3a"
             ],
             [
              0.8888888888888888,
              "#fdca26"
             ],
             [
              1,
              "#f0f921"
             ]
            ],
            "type": "contour"
           }
          ],
          "contourcarpet": [
           {
            "colorbar": {
             "outlinewidth": 0,
             "ticks": ""
            },
            "type": "contourcarpet"
           }
          ],
          "heatmap": [
           {
            "colorbar": {
             "outlinewidth": 0,
             "ticks": ""
            },
            "colorscale": [
             [
              0,
              "#0d0887"
             ],
             [
              0.1111111111111111,
              "#46039f"
             ],
             [
              0.2222222222222222,
              "#7201a8"
             ],
             [
              0.3333333333333333,
              "#9c179e"
             ],
             [
              0.4444444444444444,
              "#bd3786"
             ],
             [
              0.5555555555555556,
              "#d8576b"
             ],
             [
              0.6666666666666666,
              "#ed7953"
             ],
             [
              0.7777777777777778,
              "#fb9f3a"
             ],
             [
              0.8888888888888888,
              "#fdca26"
             ],
             [
              1,
              "#f0f921"
             ]
            ],
            "type": "heatmap"
           }
          ],
          "heatmapgl": [
           {
            "colorbar": {
             "outlinewidth": 0,
             "ticks": ""
            },
            "colorscale": [
             [
              0,
              "#0d0887"
             ],
             [
              0.1111111111111111,
              "#46039f"
             ],
             [
              0.2222222222222222,
              "#7201a8"
             ],
             [
              0.3333333333333333,
              "#9c179e"
             ],
             [
              0.4444444444444444,
              "#bd3786"
             ],
             [
              0.5555555555555556,
              "#d8576b"
             ],
             [
              0.6666666666666666,
              "#ed7953"
             ],
             [
              0.7777777777777778,
              "#fb9f3a"
             ],
             [
              0.8888888888888888,
              "#fdca26"
             ],
             [
              1,
              "#f0f921"
             ]
            ],
            "type": "heatmapgl"
           }
          ],
          "histogram": [
           {
            "marker": {
             "pattern": {
              "fillmode": "overlay",
              "size": 10,
              "solidity": 0.2
             }
            },
            "type": "histogram"
           }
          ],
          "histogram2d": [
           {
            "colorbar": {
             "outlinewidth": 0,
             "ticks": ""
            },
            "colorscale": [
             [
              0,
              "#0d0887"
             ],
             [
              0.1111111111111111,
              "#46039f"
             ],
             [
              0.2222222222222222,
              "#7201a8"
             ],
             [
              0.3333333333333333,
              "#9c179e"
             ],
             [
              0.4444444444444444,
              "#bd3786"
             ],
             [
              0.5555555555555556,
              "#d8576b"
             ],
             [
              0.6666666666666666,
              "#ed7953"
             ],
             [
              0.7777777777777778,
              "#fb9f3a"
             ],
             [
              0.8888888888888888,
              "#fdca26"
             ],
             [
              1,
              "#f0f921"
             ]
            ],
            "type": "histogram2d"
           }
          ],
          "histogram2dcontour": [
           {
            "colorbar": {
             "outlinewidth": 0,
             "ticks": ""
            },
            "colorscale": [
             [
              0,
              "#0d0887"
             ],
             [
              0.1111111111111111,
              "#46039f"
             ],
             [
              0.2222222222222222,
              "#7201a8"
             ],
             [
              0.3333333333333333,
              "#9c179e"
             ],
             [
              0.4444444444444444,
              "#bd3786"
             ],
             [
              0.5555555555555556,
              "#d8576b"
             ],
             [
              0.6666666666666666,
              "#ed7953"
             ],
             [
              0.7777777777777778,
              "#fb9f3a"
             ],
             [
              0.8888888888888888,
              "#fdca26"
             ],
             [
              1,
              "#f0f921"
             ]
            ],
            "type": "histogram2dcontour"
           }
          ],
          "mesh3d": [
           {
            "colorbar": {
             "outlinewidth": 0,
             "ticks": ""
            },
            "type": "mesh3d"
           }
          ],
          "parcoords": [
           {
            "line": {
             "colorbar": {
              "outlinewidth": 0,
              "ticks": ""
             }
            },
            "type": "parcoords"
           }
          ],
          "pie": [
           {
            "automargin": true,
            "type": "pie"
           }
          ],
          "scatter": [
           {
            "marker": {
             "line": {
              "color": "#283442"
             }
            },
            "type": "scatter"
           }
          ],
          "scatter3d": [
           {
            "line": {
             "colorbar": {
              "outlinewidth": 0,
              "ticks": ""
             }
            },
            "marker": {
             "colorbar": {
              "outlinewidth": 0,
              "ticks": ""
             }
            },
            "type": "scatter3d"
           }
          ],
          "scattercarpet": [
           {
            "marker": {
             "colorbar": {
              "outlinewidth": 0,
              "ticks": ""
             }
            },
            "type": "scattercarpet"
           }
          ],
          "scattergeo": [
           {
            "marker": {
             "colorbar": {
              "outlinewidth": 0,
              "ticks": ""
             }
            },
            "type": "scattergeo"
           }
          ],
          "scattergl": [
           {
            "marker": {
             "line": {
              "color": "#283442"
             }
            },
            "type": "scattergl"
           }
          ],
          "scattermapbox": [
           {
            "marker": {
             "colorbar": {
              "outlinewidth": 0,
              "ticks": ""
             }
            },
            "type": "scattermapbox"
           }
          ],
          "scatterpolar": [
           {
            "marker": {
             "colorbar": {
              "outlinewidth": 0,
              "ticks": ""
             }
            },
            "type": "scatterpolar"
           }
          ],
          "scatterpolargl": [
           {
            "marker": {
             "colorbar": {
              "outlinewidth": 0,
              "ticks": ""
             }
            },
            "type": "scatterpolargl"
           }
          ],
          "scatterternary": [
           {
            "marker": {
             "colorbar": {
              "outlinewidth": 0,
              "ticks": ""
             }
            },
            "type": "scatterternary"
           }
          ],
          "surface": [
           {
            "colorbar": {
             "outlinewidth": 0,
             "ticks": ""
            },
            "colorscale": [
             [
              0,
              "#0d0887"
             ],
             [
              0.1111111111111111,
              "#46039f"
             ],
             [
              0.2222222222222222,
              "#7201a8"
             ],
             [
              0.3333333333333333,
              "#9c179e"
             ],
             [
              0.4444444444444444,
              "#bd3786"
             ],
             [
              0.5555555555555556,
              "#d8576b"
             ],
             [
              0.6666666666666666,
              "#ed7953"
             ],
             [
              0.7777777777777778,
              "#fb9f3a"
             ],
             [
              0.8888888888888888,
              "#fdca26"
             ],
             [
              1,
              "#f0f921"
             ]
            ],
            "type": "surface"
           }
          ],
          "table": [
           {
            "cells": {
             "fill": {
              "color": "#506784"
             },
             "line": {
              "color": "rgb(17,17,17)"
             }
            },
            "header": {
             "fill": {
              "color": "#2a3f5f"
             },
             "line": {
              "color": "rgb(17,17,17)"
             }
            },
            "type": "table"
           }
          ]
         },
         "layout": {
          "annotationdefaults": {
           "arrowcolor": "#f2f5fa",
           "arrowhead": 0,
           "arrowwidth": 1
          },
          "autotypenumbers": "strict",
          "coloraxis": {
           "colorbar": {
            "outlinewidth": 0,
            "ticks": ""
           }
          },
          "colorscale": {
           "diverging": [
            [
             0,
             "#8e0152"
            ],
            [
             0.1,
             "#c51b7d"
            ],
            [
             0.2,
             "#de77ae"
            ],
            [
             0.3,
             "#f1b6da"
            ],
            [
             0.4,
             "#fde0ef"
            ],
            [
             0.5,
             "#f7f7f7"
            ],
            [
             0.6,
             "#e6f5d0"
            ],
            [
             0.7,
             "#b8e186"
            ],
            [
             0.8,
             "#7fbc41"
            ],
            [
             0.9,
             "#4d9221"
            ],
            [
             1,
             "#276419"
            ]
           ],
           "sequential": [
            [
             0,
             "#0d0887"
            ],
            [
             0.1111111111111111,
             "#46039f"
            ],
            [
             0.2222222222222222,
             "#7201a8"
            ],
            [
             0.3333333333333333,
             "#9c179e"
            ],
            [
             0.4444444444444444,
             "#bd3786"
            ],
            [
             0.5555555555555556,
             "#d8576b"
            ],
            [
             0.6666666666666666,
             "#ed7953"
            ],
            [
             0.7777777777777778,
             "#fb9f3a"
            ],
            [
             0.8888888888888888,
             "#fdca26"
            ],
            [
             1,
             "#f0f921"
            ]
           ],
           "sequentialminus": [
            [
             0,
             "#0d0887"
            ],
            [
             0.1111111111111111,
             "#46039f"
            ],
            [
             0.2222222222222222,
             "#7201a8"
            ],
            [
             0.3333333333333333,
             "#9c179e"
            ],
            [
             0.4444444444444444,
             "#bd3786"
            ],
            [
             0.5555555555555556,
             "#d8576b"
            ],
            [
             0.6666666666666666,
             "#ed7953"
            ],
            [
             0.7777777777777778,
             "#fb9f3a"
            ],
            [
             0.8888888888888888,
             "#fdca26"
            ],
            [
             1,
             "#f0f921"
            ]
           ]
          },
          "colorway": [
           "#636efa",
           "#EF553B",
           "#00cc96",
           "#ab63fa",
           "#FFA15A",
           "#19d3f3",
           "#FF6692",
           "#B6E880",
           "#FF97FF",
           "#FECB52"
          ],
          "font": {
           "color": "#f2f5fa"
          },
          "geo": {
           "bgcolor": "rgb(17,17,17)",
           "lakecolor": "rgb(17,17,17)",
           "landcolor": "rgb(17,17,17)",
           "showlakes": true,
           "showland": true,
           "subunitcolor": "#506784"
          },
          "hoverlabel": {
           "align": "left"
          },
          "hovermode": "closest",
          "mapbox": {
           "style": "dark"
          },
          "paper_bgcolor": "rgb(17,17,17)",
          "plot_bgcolor": "rgb(17,17,17)",
          "polar": {
           "angularaxis": {
            "gridcolor": "#506784",
            "linecolor": "#506784",
            "ticks": ""
           },
           "bgcolor": "rgb(17,17,17)",
           "radialaxis": {
            "gridcolor": "#506784",
            "linecolor": "#506784",
            "ticks": ""
           }
          },
          "scene": {
           "xaxis": {
            "backgroundcolor": "rgb(17,17,17)",
            "gridcolor": "#506784",
            "gridwidth": 2,
            "linecolor": "#506784",
            "showbackground": true,
            "ticks": "",
            "zerolinecolor": "#C8D4E3"
           },
           "yaxis": {
            "backgroundcolor": "rgb(17,17,17)",
            "gridcolor": "#506784",
            "gridwidth": 2,
            "linecolor": "#506784",
            "showbackground": true,
            "ticks": "",
            "zerolinecolor": "#C8D4E3"
           },
           "zaxis": {
            "backgroundcolor": "rgb(17,17,17)",
            "gridcolor": "#506784",
            "gridwidth": 2,
            "linecolor": "#506784",
            "showbackground": true,
            "ticks": "",
            "zerolinecolor": "#C8D4E3"
           }
          },
          "shapedefaults": {
           "line": {
            "color": "#f2f5fa"
           }
          },
          "sliderdefaults": {
           "bgcolor": "#C8D4E3",
           "bordercolor": "rgb(17,17,17)",
           "borderwidth": 1,
           "tickwidth": 0
          },
          "ternary": {
           "aaxis": {
            "gridcolor": "#506784",
            "linecolor": "#506784",
            "ticks": ""
           },
           "baxis": {
            "gridcolor": "#506784",
            "linecolor": "#506784",
            "ticks": ""
           },
           "bgcolor": "rgb(17,17,17)",
           "caxis": {
            "gridcolor": "#506784",
            "linecolor": "#506784",
            "ticks": ""
           }
          },
          "title": {
           "x": 0.05
          },
          "updatemenudefaults": {
           "bgcolor": "#506784",
           "borderwidth": 0
          },
          "xaxis": {
           "automargin": true,
           "gridcolor": "#283442",
           "linecolor": "#506784",
           "ticks": "",
           "title": {
            "standoff": 15
           },
           "zerolinecolor": "#283442",
           "zerolinewidth": 2
          },
          "yaxis": {
           "automargin": true,
           "gridcolor": "#283442",
           "linecolor": "#506784",
           "ticks": "",
           "title": {
            "standoff": 15
           },
           "zerolinecolor": "#283442",
           "zerolinewidth": 2
          }
         }
        },
        "title": {
         "font": {
          "size": 14
         },
         "text": "<b>Top 100 Songs by Mood</b>",
         "x": 0.5,
         "y": 0.9
        },
        "width": 1070,
        "xaxis": {
         "title": {
          "text": "Happiness Level"
         }
        },
        "yaxis": {
         "title": {
          "text": "Energy Level"
         }
        }
       }
      }
     },
     "metadata": {},
     "output_type": "display_data"
    }
   ],
   "source": [
    "model_plot(y_pred_lr)  # Scatterplot for logistic regression\n"
   ]
  },
  {
   "attachments": {},
   "cell_type": "markdown",
   "metadata": {},
   "source": [
    "### Random Forest"
   ]
  },
  {
   "cell_type": "code",
   "execution_count": 17,
   "metadata": {},
   "outputs": [
    {
     "name": "stdout",
     "output_type": "stream",
     "text": [
      "Accuracy: 0.7875\n"
     ]
    }
   ],
   "source": [
    "from sklearn.ensemble import RandomForestClassifier\n",
    "from sklearn.datasets import make_classification\n",
    "from sklearn.metrics import accuracy_score\n",
    "\n",
    "# Create random forest model\n",
    "rf_model = RandomForestClassifier(n_estimators=1000, random_state=18)\n",
    "\n",
    "# Train Model\n",
    "rf_model.fit(X_train, y_train)\n",
    "\n",
    "# Predictions\n",
    "y_pred_rf = rf_model.predict(X_test)\n",
    "\n",
    "# Evaluate model performance\n",
    "rf_accuracy = accuracy_score(y_test, y_pred_rf)\n",
    "print(\"Accuracy:\", rf_accuracy)"
   ]
  },
  {
   "attachments": {},
   "cell_type": "markdown",
   "metadata": {},
   "source": [
    "### Feature Importance Plot (Random Forest)\n",
    "Since linear models and tree-based models store their feature importances differently, two separate feature importance plot functions are required.\n",
    "\n",
    "In linear models, such as linear regression or logistic regression, feature importance is derived directly from the coefficients assigned to each feature during the model fitting process. These coefficients represent the magnitude and direction of the relationship between each feature and the target variable. Therefore, accessing the `.coef_` attribute retrieves these coefficients, which can be interpreted as feature importances.\n",
    "\n",
    "In tree-based models like Random Forests, feature importance is typically computed based on how much each feature contributes to decreasing impurity (e.g., Gini impurity or entropy) across all the trees in the forest. The `.feature_importances_` attribute of a trained Random Forest model provides the importance scores for each feature, calculated based on this criterion.\n",
    "\n",
    "So, while linear models directly use the coefficients as feature importance, Random Forest models use a measure of impurity decrease to determine feature importance across the ensemble of trees."
   ]
  },
  {
   "cell_type": "code",
   "execution_count": 18,
   "metadata": {},
   "outputs": [
    {
     "data": {
      "application/vnd.plotly.v1+json": {
       "config": {
        "plotlyServerURL": "https://plot.ly"
       },
       "data": [
        {
         "marker": {
          "color": [
           "#1DB954",
           "#2BBE60",
           "#3AC26C",
           "#48C778",
           "#57CB84",
           "#65D08F",
           "#74D49B",
           "#83D9A7",
           "#91DDB3",
           "#9FE2BF"
          ]
         },
         "orientation": "h",
         "type": "bar",
         "x": [
          0.16675412954939492,
          0.14035283660155293,
          0.08403328331738164,
          0.08089500811322921,
          0.07426787036246721,
          0.04716575961828302,
          0.044765261564879394,
          0.0442710250670583,
          0.037155101448370975,
          0.029016271808441272
         ],
         "y": [
          "Popularity",
          "Acoustic",
          "Genre_Hip Hop",
          "Energy",
          "Loud",
          "BPM",
          "Dance",
          "Happy",
          "Time Seconds",
          "Instrumental"
         ]
        }
       ],
       "layout": {
        "font": {
         "color": "white",
         "family": "Arial, sans-serif",
         "size": 12
        },
        "height": 500,
        "hoverlabel": {
         "font": {
          "color": "white"
         }
        },
        "margin": {
         "b": 20,
         "l": 100,
         "r": 20,
         "t": 40
        },
        "template": {
         "data": {
          "bar": [
           {
            "error_x": {
             "color": "#f2f5fa"
            },
            "error_y": {
             "color": "#f2f5fa"
            },
            "marker": {
             "line": {
              "color": "rgb(17,17,17)",
              "width": 0.5
             },
             "pattern": {
              "fillmode": "overlay",
              "size": 10,
              "solidity": 0.2
             }
            },
            "type": "bar"
           }
          ],
          "barpolar": [
           {
            "marker": {
             "line": {
              "color": "rgb(17,17,17)",
              "width": 0.5
             },
             "pattern": {
              "fillmode": "overlay",
              "size": 10,
              "solidity": 0.2
             }
            },
            "type": "barpolar"
           }
          ],
          "carpet": [
           {
            "aaxis": {
             "endlinecolor": "#A2B1C6",
             "gridcolor": "#506784",
             "linecolor": "#506784",
             "minorgridcolor": "#506784",
             "startlinecolor": "#A2B1C6"
            },
            "baxis": {
             "endlinecolor": "#A2B1C6",
             "gridcolor": "#506784",
             "linecolor": "#506784",
             "minorgridcolor": "#506784",
             "startlinecolor": "#A2B1C6"
            },
            "type": "carpet"
           }
          ],
          "choropleth": [
           {
            "colorbar": {
             "outlinewidth": 0,
             "ticks": ""
            },
            "type": "choropleth"
           }
          ],
          "contour": [
           {
            "colorbar": {
             "outlinewidth": 0,
             "ticks": ""
            },
            "colorscale": [
             [
              0,
              "#0d0887"
             ],
             [
              0.1111111111111111,
              "#46039f"
             ],
             [
              0.2222222222222222,
              "#7201a8"
             ],
             [
              0.3333333333333333,
              "#9c179e"
             ],
             [
              0.4444444444444444,
              "#bd3786"
             ],
             [
              0.5555555555555556,
              "#d8576b"
             ],
             [
              0.6666666666666666,
              "#ed7953"
             ],
             [
              0.7777777777777778,
              "#fb9f3a"
             ],
             [
              0.8888888888888888,
              "#fdca26"
             ],
             [
              1,
              "#f0f921"
             ]
            ],
            "type": "contour"
           }
          ],
          "contourcarpet": [
           {
            "colorbar": {
             "outlinewidth": 0,
             "ticks": ""
            },
            "type": "contourcarpet"
           }
          ],
          "heatmap": [
           {
            "colorbar": {
             "outlinewidth": 0,
             "ticks": ""
            },
            "colorscale": [
             [
              0,
              "#0d0887"
             ],
             [
              0.1111111111111111,
              "#46039f"
             ],
             [
              0.2222222222222222,
              "#7201a8"
             ],
             [
              0.3333333333333333,
              "#9c179e"
             ],
             [
              0.4444444444444444,
              "#bd3786"
             ],
             [
              0.5555555555555556,
              "#d8576b"
             ],
             [
              0.6666666666666666,
              "#ed7953"
             ],
             [
              0.7777777777777778,
              "#fb9f3a"
             ],
             [
              0.8888888888888888,
              "#fdca26"
             ],
             [
              1,
              "#f0f921"
             ]
            ],
            "type": "heatmap"
           }
          ],
          "heatmapgl": [
           {
            "colorbar": {
             "outlinewidth": 0,
             "ticks": ""
            },
            "colorscale": [
             [
              0,
              "#0d0887"
             ],
             [
              0.1111111111111111,
              "#46039f"
             ],
             [
              0.2222222222222222,
              "#7201a8"
             ],
             [
              0.3333333333333333,
              "#9c179e"
             ],
             [
              0.4444444444444444,
              "#bd3786"
             ],
             [
              0.5555555555555556,
              "#d8576b"
             ],
             [
              0.6666666666666666,
              "#ed7953"
             ],
             [
              0.7777777777777778,
              "#fb9f3a"
             ],
             [
              0.8888888888888888,
              "#fdca26"
             ],
             [
              1,
              "#f0f921"
             ]
            ],
            "type": "heatmapgl"
           }
          ],
          "histogram": [
           {
            "marker": {
             "pattern": {
              "fillmode": "overlay",
              "size": 10,
              "solidity": 0.2
             }
            },
            "type": "histogram"
           }
          ],
          "histogram2d": [
           {
            "colorbar": {
             "outlinewidth": 0,
             "ticks": ""
            },
            "colorscale": [
             [
              0,
              "#0d0887"
             ],
             [
              0.1111111111111111,
              "#46039f"
             ],
             [
              0.2222222222222222,
              "#7201a8"
             ],
             [
              0.3333333333333333,
              "#9c179e"
             ],
             [
              0.4444444444444444,
              "#bd3786"
             ],
             [
              0.5555555555555556,
              "#d8576b"
             ],
             [
              0.6666666666666666,
              "#ed7953"
             ],
             [
              0.7777777777777778,
              "#fb9f3a"
             ],
             [
              0.8888888888888888,
              "#fdca26"
             ],
             [
              1,
              "#f0f921"
             ]
            ],
            "type": "histogram2d"
           }
          ],
          "histogram2dcontour": [
           {
            "colorbar": {
             "outlinewidth": 0,
             "ticks": ""
            },
            "colorscale": [
             [
              0,
              "#0d0887"
             ],
             [
              0.1111111111111111,
              "#46039f"
             ],
             [
              0.2222222222222222,
              "#7201a8"
             ],
             [
              0.3333333333333333,
              "#9c179e"
             ],
             [
              0.4444444444444444,
              "#bd3786"
             ],
             [
              0.5555555555555556,
              "#d8576b"
             ],
             [
              0.6666666666666666,
              "#ed7953"
             ],
             [
              0.7777777777777778,
              "#fb9f3a"
             ],
             [
              0.8888888888888888,
              "#fdca26"
             ],
             [
              1,
              "#f0f921"
             ]
            ],
            "type": "histogram2dcontour"
           }
          ],
          "mesh3d": [
           {
            "colorbar": {
             "outlinewidth": 0,
             "ticks": ""
            },
            "type": "mesh3d"
           }
          ],
          "parcoords": [
           {
            "line": {
             "colorbar": {
              "outlinewidth": 0,
              "ticks": ""
             }
            },
            "type": "parcoords"
           }
          ],
          "pie": [
           {
            "automargin": true,
            "type": "pie"
           }
          ],
          "scatter": [
           {
            "marker": {
             "line": {
              "color": "#283442"
             }
            },
            "type": "scatter"
           }
          ],
          "scatter3d": [
           {
            "line": {
             "colorbar": {
              "outlinewidth": 0,
              "ticks": ""
             }
            },
            "marker": {
             "colorbar": {
              "outlinewidth": 0,
              "ticks": ""
             }
            },
            "type": "scatter3d"
           }
          ],
          "scattercarpet": [
           {
            "marker": {
             "colorbar": {
              "outlinewidth": 0,
              "ticks": ""
             }
            },
            "type": "scattercarpet"
           }
          ],
          "scattergeo": [
           {
            "marker": {
             "colorbar": {
              "outlinewidth": 0,
              "ticks": ""
             }
            },
            "type": "scattergeo"
           }
          ],
          "scattergl": [
           {
            "marker": {
             "line": {
              "color": "#283442"
             }
            },
            "type": "scattergl"
           }
          ],
          "scattermapbox": [
           {
            "marker": {
             "colorbar": {
              "outlinewidth": 0,
              "ticks": ""
             }
            },
            "type": "scattermapbox"
           }
          ],
          "scatterpolar": [
           {
            "marker": {
             "colorbar": {
              "outlinewidth": 0,
              "ticks": ""
             }
            },
            "type": "scatterpolar"
           }
          ],
          "scatterpolargl": [
           {
            "marker": {
             "colorbar": {
              "outlinewidth": 0,
              "ticks": ""
             }
            },
            "type": "scatterpolargl"
           }
          ],
          "scatterternary": [
           {
            "marker": {
             "colorbar": {
              "outlinewidth": 0,
              "ticks": ""
             }
            },
            "type": "scatterternary"
           }
          ],
          "surface": [
           {
            "colorbar": {
             "outlinewidth": 0,
             "ticks": ""
            },
            "colorscale": [
             [
              0,
              "#0d0887"
             ],
             [
              0.1111111111111111,
              "#46039f"
             ],
             [
              0.2222222222222222,
              "#7201a8"
             ],
             [
              0.3333333333333333,
              "#9c179e"
             ],
             [
              0.4444444444444444,
              "#bd3786"
             ],
             [
              0.5555555555555556,
              "#d8576b"
             ],
             [
              0.6666666666666666,
              "#ed7953"
             ],
             [
              0.7777777777777778,
              "#fb9f3a"
             ],
             [
              0.8888888888888888,
              "#fdca26"
             ],
             [
              1,
              "#f0f921"
             ]
            ],
            "type": "surface"
           }
          ],
          "table": [
           {
            "cells": {
             "fill": {
              "color": "#506784"
             },
             "line": {
              "color": "rgb(17,17,17)"
             }
            },
            "header": {
             "fill": {
              "color": "#2a3f5f"
             },
             "line": {
              "color": "rgb(17,17,17)"
             }
            },
            "type": "table"
           }
          ]
         },
         "layout": {
          "annotationdefaults": {
           "arrowcolor": "#f2f5fa",
           "arrowhead": 0,
           "arrowwidth": 1
          },
          "autotypenumbers": "strict",
          "coloraxis": {
           "colorbar": {
            "outlinewidth": 0,
            "ticks": ""
           }
          },
          "colorscale": {
           "diverging": [
            [
             0,
             "#8e0152"
            ],
            [
             0.1,
             "#c51b7d"
            ],
            [
             0.2,
             "#de77ae"
            ],
            [
             0.3,
             "#f1b6da"
            ],
            [
             0.4,
             "#fde0ef"
            ],
            [
             0.5,
             "#f7f7f7"
            ],
            [
             0.6,
             "#e6f5d0"
            ],
            [
             0.7,
             "#b8e186"
            ],
            [
             0.8,
             "#7fbc41"
            ],
            [
             0.9,
             "#4d9221"
            ],
            [
             1,
             "#276419"
            ]
           ],
           "sequential": [
            [
             0,
             "#0d0887"
            ],
            [
             0.1111111111111111,
             "#46039f"
            ],
            [
             0.2222222222222222,
             "#7201a8"
            ],
            [
             0.3333333333333333,
             "#9c179e"
            ],
            [
             0.4444444444444444,
             "#bd3786"
            ],
            [
             0.5555555555555556,
             "#d8576b"
            ],
            [
             0.6666666666666666,
             "#ed7953"
            ],
            [
             0.7777777777777778,
             "#fb9f3a"
            ],
            [
             0.8888888888888888,
             "#fdca26"
            ],
            [
             1,
             "#f0f921"
            ]
           ],
           "sequentialminus": [
            [
             0,
             "#0d0887"
            ],
            [
             0.1111111111111111,
             "#46039f"
            ],
            [
             0.2222222222222222,
             "#7201a8"
            ],
            [
             0.3333333333333333,
             "#9c179e"
            ],
            [
             0.4444444444444444,
             "#bd3786"
            ],
            [
             0.5555555555555556,
             "#d8576b"
            ],
            [
             0.6666666666666666,
             "#ed7953"
            ],
            [
             0.7777777777777778,
             "#fb9f3a"
            ],
            [
             0.8888888888888888,
             "#fdca26"
            ],
            [
             1,
             "#f0f921"
            ]
           ]
          },
          "colorway": [
           "#636efa",
           "#EF553B",
           "#00cc96",
           "#ab63fa",
           "#FFA15A",
           "#19d3f3",
           "#FF6692",
           "#B6E880",
           "#FF97FF",
           "#FECB52"
          ],
          "font": {
           "color": "#f2f5fa"
          },
          "geo": {
           "bgcolor": "rgb(17,17,17)",
           "lakecolor": "rgb(17,17,17)",
           "landcolor": "rgb(17,17,17)",
           "showlakes": true,
           "showland": true,
           "subunitcolor": "#506784"
          },
          "hoverlabel": {
           "align": "left"
          },
          "hovermode": "closest",
          "mapbox": {
           "style": "dark"
          },
          "paper_bgcolor": "rgb(17,17,17)",
          "plot_bgcolor": "rgb(17,17,17)",
          "polar": {
           "angularaxis": {
            "gridcolor": "#506784",
            "linecolor": "#506784",
            "ticks": ""
           },
           "bgcolor": "rgb(17,17,17)",
           "radialaxis": {
            "gridcolor": "#506784",
            "linecolor": "#506784",
            "ticks": ""
           }
          },
          "scene": {
           "xaxis": {
            "backgroundcolor": "rgb(17,17,17)",
            "gridcolor": "#506784",
            "gridwidth": 2,
            "linecolor": "#506784",
            "showbackground": true,
            "ticks": "",
            "zerolinecolor": "#C8D4E3"
           },
           "yaxis": {
            "backgroundcolor": "rgb(17,17,17)",
            "gridcolor": "#506784",
            "gridwidth": 2,
            "linecolor": "#506784",
            "showbackground": true,
            "ticks": "",
            "zerolinecolor": "#C8D4E3"
           },
           "zaxis": {
            "backgroundcolor": "rgb(17,17,17)",
            "gridcolor": "#506784",
            "gridwidth": 2,
            "linecolor": "#506784",
            "showbackground": true,
            "ticks": "",
            "zerolinecolor": "#C8D4E3"
           }
          },
          "shapedefaults": {
           "line": {
            "color": "#f2f5fa"
           }
          },
          "sliderdefaults": {
           "bgcolor": "#C8D4E3",
           "bordercolor": "rgb(17,17,17)",
           "borderwidth": 1,
           "tickwidth": 0
          },
          "ternary": {
           "aaxis": {
            "gridcolor": "#506784",
            "linecolor": "#506784",
            "ticks": ""
           },
           "baxis": {
            "gridcolor": "#506784",
            "linecolor": "#506784",
            "ticks": ""
           },
           "bgcolor": "rgb(17,17,17)",
           "caxis": {
            "gridcolor": "#506784",
            "linecolor": "#506784",
            "ticks": ""
           }
          },
          "title": {
           "x": 0.05
          },
          "updatemenudefaults": {
           "bgcolor": "#506784",
           "borderwidth": 0
          },
          "xaxis": {
           "automargin": true,
           "gridcolor": "#283442",
           "linecolor": "#506784",
           "ticks": "",
           "title": {
            "standoff": 15
           },
           "zerolinecolor": "#283442",
           "zerolinewidth": 2
          },
          "yaxis": {
           "automargin": true,
           "gridcolor": "#283442",
           "linecolor": "#506784",
           "ticks": "",
           "title": {
            "standoff": 15
           },
           "zerolinecolor": "#283442",
           "zerolinewidth": 2
          }
         }
        },
        "title": {
         "font": {
          "color": "white",
          "family": "Arial, sans-serif",
          "size": 16
         },
         "text": "<b>Top 10 Feature Importances</b>",
         "x": 0.5
        },
        "width": 700,
        "xaxis": {
         "title": {
          "font": {
           "color": "white",
           "family": "Arial, sans-serif",
           "size": 14
          },
          "text": "<b>Importance</b>"
         }
        },
        "yaxis": {
         "title": {
          "font": {
           "color": "white",
           "family": "Arial, sans-serif",
           "size": 14
          },
          "text": "<b>Features</b>"
         }
        }
       }
      }
     },
     "metadata": {},
     "output_type": "display_data"
    }
   ],
   "source": [
    "import plotly.graph_objects as go\n",
    "import panel as pn\n",
    "\n",
    "def plot_tree_feature_importance(model_name):\n",
    "    # Get feature importances for tree-based model\n",
    "    lr_importances = model_name.feature_importances_\n",
    "    indices = np.argsort(lr_importances)[::-1]\n",
    "\n",
    "    # Get corresponding feature names\n",
    "    feature_names = X_train.columns\n",
    "\n",
    "    # Create custom color gradient\n",
    "    colors = ['#1DB954', '#2BBE60', '#3AC26C', '#48C778', '#57CB84', '#65D08F', '#74D49B', '#83D9A7', '#91DDB3', '#9FE2BF'] \n",
    "\n",
    "    # Create figure\n",
    "    fig = go.Figure()\n",
    "\n",
    "    # Add bars to plot\n",
    "    fig.add_trace(go.Bar(\n",
    "        x=lr_importances[indices][:10],  # Grab top 10 features in the model\n",
    "        y=[feature_names[i] for i in indices[:10]],  # Get corresponding feature names\n",
    "        marker=dict(color=colors), # assign color gradient to bars\n",
    "        orientation='h'  # Style as horizontal barplot\n",
    "    ))\n",
    "\n",
    "    # Style barplot\n",
    "    fig.update_layout(\n",
    "        title=dict(text=\"<b>Top 10 Feature Importances</b>\", x=0.5, font=dict(size=16, color='white', family='Arial, sans-serif')),\n",
    "        xaxis=dict(title='<b>Importance</b>', titlefont=dict(size=14, color='white', family='Arial, sans-serif')),\n",
    "        yaxis=dict(title='<b>Features</b>', titlefont=dict(size=14, color='white', family='Arial, sans-serif')),\n",
    "        font=dict(size=12, color='white', family='Arial, sans-serif'),\n",
    "        margin=dict(l=100, r=20, t=40, b=20),\n",
    "        height=500,\n",
    "        width=700,\n",
    "        template=\"plotly_dark\",\n",
    "         # Make hover text white\n",
    "        hoverlabel=dict(\n",
    "            font=dict(\n",
    "                color=\"white\"\n",
    "            )\n",
    "        )\n",
    "    )\n",
    "\n",
    "    return fig # display plot in dashboard when clicked\n",
    "\n",
    "# Plot random forest barplot\n",
    "plot_tree_feature_importance(rf_model)\n"
   ]
  },
  {
   "attachments": {},
   "cell_type": "markdown",
   "metadata": {},
   "source": [
    "### Boosted Trees"
   ]
  },
  {
   "cell_type": "code",
   "execution_count": 19,
   "metadata": {},
   "outputs": [
    {
     "name": "stdout",
     "output_type": "stream",
     "text": [
      "Accuracy: 0.8\n"
     ]
    }
   ],
   "source": [
    "from sklearn.ensemble import GradientBoostingClassifier\n",
    "from sklearn.metrics import accuracy_score\n",
    "\n",
    "# Create boosted trees model\n",
    "boost_model = GradientBoostingClassifier(n_estimators=1000,\n",
    "                                max_depth=3,\n",
    "                                learning_rate=0.1,\n",
    "                                min_samples_split=3)\n",
    "\n",
    "# Fit the model to training set\n",
    "boost_model.fit(X_train, y_train)\n",
    "\n",
    "# Predictions\n",
    "y_pred_boost = boost_model.predict(X_test)\n",
    "\n",
    "# Evaluate boosted trees model accuracy\n",
    "boost_accuracy = accuracy_score(y_test, y_pred_boost)\n",
    "print(\"Accuracy:\", boost_accuracy)"
   ]
  },
  {
   "attachments": {},
   "cell_type": "markdown",
   "metadata": {},
   "source": [
    "### Feature Importance Plot (Boosted Trees)"
   ]
  },
  {
   "cell_type": "code",
   "execution_count": 20,
   "metadata": {},
   "outputs": [
    {
     "data": {
      "application/vnd.plotly.v1+json": {
       "config": {
        "plotlyServerURL": "https://plot.ly"
       },
       "data": [
        {
         "marker": {
          "color": [
           "#1DB954",
           "#2BBE60",
           "#3AC26C",
           "#48C778",
           "#57CB84",
           "#65D08F",
           "#74D49B",
           "#83D9A7",
           "#91DDB3",
           "#9FE2BF"
          ]
         },
         "orientation": "h",
         "type": "bar",
         "x": [
          0.38676633233808666,
          0.20979692139620426,
          0.11622881922891844,
          0.04163184981881276,
          0.04125383472513321,
          0.03183825497444539,
          0.02456332927309637,
          0.02413693834535975,
          0.019936786776203433,
          0.019560192272646645
         ],
         "y": [
          "Popularity",
          "Acoustic",
          "Genre_Hip Hop",
          "Happy",
          "Genre_Pop",
          "Key_F Minor",
          "Energy",
          "Dance",
          "Loud",
          "Camelot_4A"
         ]
        }
       ],
       "layout": {
        "font": {
         "color": "white",
         "family": "Arial, sans-serif",
         "size": 12
        },
        "height": 500,
        "hoverlabel": {
         "font": {
          "color": "white"
         }
        },
        "margin": {
         "b": 20,
         "l": 100,
         "r": 20,
         "t": 40
        },
        "template": {
         "data": {
          "bar": [
           {
            "error_x": {
             "color": "#f2f5fa"
            },
            "error_y": {
             "color": "#f2f5fa"
            },
            "marker": {
             "line": {
              "color": "rgb(17,17,17)",
              "width": 0.5
             },
             "pattern": {
              "fillmode": "overlay",
              "size": 10,
              "solidity": 0.2
             }
            },
            "type": "bar"
           }
          ],
          "barpolar": [
           {
            "marker": {
             "line": {
              "color": "rgb(17,17,17)",
              "width": 0.5
             },
             "pattern": {
              "fillmode": "overlay",
              "size": 10,
              "solidity": 0.2
             }
            },
            "type": "barpolar"
           }
          ],
          "carpet": [
           {
            "aaxis": {
             "endlinecolor": "#A2B1C6",
             "gridcolor": "#506784",
             "linecolor": "#506784",
             "minorgridcolor": "#506784",
             "startlinecolor": "#A2B1C6"
            },
            "baxis": {
             "endlinecolor": "#A2B1C6",
             "gridcolor": "#506784",
             "linecolor": "#506784",
             "minorgridcolor": "#506784",
             "startlinecolor": "#A2B1C6"
            },
            "type": "carpet"
           }
          ],
          "choropleth": [
           {
            "colorbar": {
             "outlinewidth": 0,
             "ticks": ""
            },
            "type": "choropleth"
           }
          ],
          "contour": [
           {
            "colorbar": {
             "outlinewidth": 0,
             "ticks": ""
            },
            "colorscale": [
             [
              0,
              "#0d0887"
             ],
             [
              0.1111111111111111,
              "#46039f"
             ],
             [
              0.2222222222222222,
              "#7201a8"
             ],
             [
              0.3333333333333333,
              "#9c179e"
             ],
             [
              0.4444444444444444,
              "#bd3786"
             ],
             [
              0.5555555555555556,
              "#d8576b"
             ],
             [
              0.6666666666666666,
              "#ed7953"
             ],
             [
              0.7777777777777778,
              "#fb9f3a"
             ],
             [
              0.8888888888888888,
              "#fdca26"
             ],
             [
              1,
              "#f0f921"
             ]
            ],
            "type": "contour"
           }
          ],
          "contourcarpet": [
           {
            "colorbar": {
             "outlinewidth": 0,
             "ticks": ""
            },
            "type": "contourcarpet"
           }
          ],
          "heatmap": [
           {
            "colorbar": {
             "outlinewidth": 0,
             "ticks": ""
            },
            "colorscale": [
             [
              0,
              "#0d0887"
             ],
             [
              0.1111111111111111,
              "#46039f"
             ],
             [
              0.2222222222222222,
              "#7201a8"
             ],
             [
              0.3333333333333333,
              "#9c179e"
             ],
             [
              0.4444444444444444,
              "#bd3786"
             ],
             [
              0.5555555555555556,
              "#d8576b"
             ],
             [
              0.6666666666666666,
              "#ed7953"
             ],
             [
              0.7777777777777778,
              "#fb9f3a"
             ],
             [
              0.8888888888888888,
              "#fdca26"
             ],
             [
              1,
              "#f0f921"
             ]
            ],
            "type": "heatmap"
           }
          ],
          "heatmapgl": [
           {
            "colorbar": {
             "outlinewidth": 0,
             "ticks": ""
            },
            "colorscale": [
             [
              0,
              "#0d0887"
             ],
             [
              0.1111111111111111,
              "#46039f"
             ],
             [
              0.2222222222222222,
              "#7201a8"
             ],
             [
              0.3333333333333333,
              "#9c179e"
             ],
             [
              0.4444444444444444,
              "#bd3786"
             ],
             [
              0.5555555555555556,
              "#d8576b"
             ],
             [
              0.6666666666666666,
              "#ed7953"
             ],
             [
              0.7777777777777778,
              "#fb9f3a"
             ],
             [
              0.8888888888888888,
              "#fdca26"
             ],
             [
              1,
              "#f0f921"
             ]
            ],
            "type": "heatmapgl"
           }
          ],
          "histogram": [
           {
            "marker": {
             "pattern": {
              "fillmode": "overlay",
              "size": 10,
              "solidity": 0.2
             }
            },
            "type": "histogram"
           }
          ],
          "histogram2d": [
           {
            "colorbar": {
             "outlinewidth": 0,
             "ticks": ""
            },
            "colorscale": [
             [
              0,
              "#0d0887"
             ],
             [
              0.1111111111111111,
              "#46039f"
             ],
             [
              0.2222222222222222,
              "#7201a8"
             ],
             [
              0.3333333333333333,
              "#9c179e"
             ],
             [
              0.4444444444444444,
              "#bd3786"
             ],
             [
              0.5555555555555556,
              "#d8576b"
             ],
             [
              0.6666666666666666,
              "#ed7953"
             ],
             [
              0.7777777777777778,
              "#fb9f3a"
             ],
             [
              0.8888888888888888,
              "#fdca26"
             ],
             [
              1,
              "#f0f921"
             ]
            ],
            "type": "histogram2d"
           }
          ],
          "histogram2dcontour": [
           {
            "colorbar": {
             "outlinewidth": 0,
             "ticks": ""
            },
            "colorscale": [
             [
              0,
              "#0d0887"
             ],
             [
              0.1111111111111111,
              "#46039f"
             ],
             [
              0.2222222222222222,
              "#7201a8"
             ],
             [
              0.3333333333333333,
              "#9c179e"
             ],
             [
              0.4444444444444444,
              "#bd3786"
             ],
             [
              0.5555555555555556,
              "#d8576b"
             ],
             [
              0.6666666666666666,
              "#ed7953"
             ],
             [
              0.7777777777777778,
              "#fb9f3a"
             ],
             [
              0.8888888888888888,
              "#fdca26"
             ],
             [
              1,
              "#f0f921"
             ]
            ],
            "type": "histogram2dcontour"
           }
          ],
          "mesh3d": [
           {
            "colorbar": {
             "outlinewidth": 0,
             "ticks": ""
            },
            "type": "mesh3d"
           }
          ],
          "parcoords": [
           {
            "line": {
             "colorbar": {
              "outlinewidth": 0,
              "ticks": ""
             }
            },
            "type": "parcoords"
           }
          ],
          "pie": [
           {
            "automargin": true,
            "type": "pie"
           }
          ],
          "scatter": [
           {
            "marker": {
             "line": {
              "color": "#283442"
             }
            },
            "type": "scatter"
           }
          ],
          "scatter3d": [
           {
            "line": {
             "colorbar": {
              "outlinewidth": 0,
              "ticks": ""
             }
            },
            "marker": {
             "colorbar": {
              "outlinewidth": 0,
              "ticks": ""
             }
            },
            "type": "scatter3d"
           }
          ],
          "scattercarpet": [
           {
            "marker": {
             "colorbar": {
              "outlinewidth": 0,
              "ticks": ""
             }
            },
            "type": "scattercarpet"
           }
          ],
          "scattergeo": [
           {
            "marker": {
             "colorbar": {
              "outlinewidth": 0,
              "ticks": ""
             }
            },
            "type": "scattergeo"
           }
          ],
          "scattergl": [
           {
            "marker": {
             "line": {
              "color": "#283442"
             }
            },
            "type": "scattergl"
           }
          ],
          "scattermapbox": [
           {
            "marker": {
             "colorbar": {
              "outlinewidth": 0,
              "ticks": ""
             }
            },
            "type": "scattermapbox"
           }
          ],
          "scatterpolar": [
           {
            "marker": {
             "colorbar": {
              "outlinewidth": 0,
              "ticks": ""
             }
            },
            "type": "scatterpolar"
           }
          ],
          "scatterpolargl": [
           {
            "marker": {
             "colorbar": {
              "outlinewidth": 0,
              "ticks": ""
             }
            },
            "type": "scatterpolargl"
           }
          ],
          "scatterternary": [
           {
            "marker": {
             "colorbar": {
              "outlinewidth": 0,
              "ticks": ""
             }
            },
            "type": "scatterternary"
           }
          ],
          "surface": [
           {
            "colorbar": {
             "outlinewidth": 0,
             "ticks": ""
            },
            "colorscale": [
             [
              0,
              "#0d0887"
             ],
             [
              0.1111111111111111,
              "#46039f"
             ],
             [
              0.2222222222222222,
              "#7201a8"
             ],
             [
              0.3333333333333333,
              "#9c179e"
             ],
             [
              0.4444444444444444,
              "#bd3786"
             ],
             [
              0.5555555555555556,
              "#d8576b"
             ],
             [
              0.6666666666666666,
              "#ed7953"
             ],
             [
              0.7777777777777778,
              "#fb9f3a"
             ],
             [
              0.8888888888888888,
              "#fdca26"
             ],
             [
              1,
              "#f0f921"
             ]
            ],
            "type": "surface"
           }
          ],
          "table": [
           {
            "cells": {
             "fill": {
              "color": "#506784"
             },
             "line": {
              "color": "rgb(17,17,17)"
             }
            },
            "header": {
             "fill": {
              "color": "#2a3f5f"
             },
             "line": {
              "color": "rgb(17,17,17)"
             }
            },
            "type": "table"
           }
          ]
         },
         "layout": {
          "annotationdefaults": {
           "arrowcolor": "#f2f5fa",
           "arrowhead": 0,
           "arrowwidth": 1
          },
          "autotypenumbers": "strict",
          "coloraxis": {
           "colorbar": {
            "outlinewidth": 0,
            "ticks": ""
           }
          },
          "colorscale": {
           "diverging": [
            [
             0,
             "#8e0152"
            ],
            [
             0.1,
             "#c51b7d"
            ],
            [
             0.2,
             "#de77ae"
            ],
            [
             0.3,
             "#f1b6da"
            ],
            [
             0.4,
             "#fde0ef"
            ],
            [
             0.5,
             "#f7f7f7"
            ],
            [
             0.6,
             "#e6f5d0"
            ],
            [
             0.7,
             "#b8e186"
            ],
            [
             0.8,
             "#7fbc41"
            ],
            [
             0.9,
             "#4d9221"
            ],
            [
             1,
             "#276419"
            ]
           ],
           "sequential": [
            [
             0,
             "#0d0887"
            ],
            [
             0.1111111111111111,
             "#46039f"
            ],
            [
             0.2222222222222222,
             "#7201a8"
            ],
            [
             0.3333333333333333,
             "#9c179e"
            ],
            [
             0.4444444444444444,
             "#bd3786"
            ],
            [
             0.5555555555555556,
             "#d8576b"
            ],
            [
             0.6666666666666666,
             "#ed7953"
            ],
            [
             0.7777777777777778,
             "#fb9f3a"
            ],
            [
             0.8888888888888888,
             "#fdca26"
            ],
            [
             1,
             "#f0f921"
            ]
           ],
           "sequentialminus": [
            [
             0,
             "#0d0887"
            ],
            [
             0.1111111111111111,
             "#46039f"
            ],
            [
             0.2222222222222222,
             "#7201a8"
            ],
            [
             0.3333333333333333,
             "#9c179e"
            ],
            [
             0.4444444444444444,
             "#bd3786"
            ],
            [
             0.5555555555555556,
             "#d8576b"
            ],
            [
             0.6666666666666666,
             "#ed7953"
            ],
            [
             0.7777777777777778,
             "#fb9f3a"
            ],
            [
             0.8888888888888888,
             "#fdca26"
            ],
            [
             1,
             "#f0f921"
            ]
           ]
          },
          "colorway": [
           "#636efa",
           "#EF553B",
           "#00cc96",
           "#ab63fa",
           "#FFA15A",
           "#19d3f3",
           "#FF6692",
           "#B6E880",
           "#FF97FF",
           "#FECB52"
          ],
          "font": {
           "color": "#f2f5fa"
          },
          "geo": {
           "bgcolor": "rgb(17,17,17)",
           "lakecolor": "rgb(17,17,17)",
           "landcolor": "rgb(17,17,17)",
           "showlakes": true,
           "showland": true,
           "subunitcolor": "#506784"
          },
          "hoverlabel": {
           "align": "left"
          },
          "hovermode": "closest",
          "mapbox": {
           "style": "dark"
          },
          "paper_bgcolor": "rgb(17,17,17)",
          "plot_bgcolor": "rgb(17,17,17)",
          "polar": {
           "angularaxis": {
            "gridcolor": "#506784",
            "linecolor": "#506784",
            "ticks": ""
           },
           "bgcolor": "rgb(17,17,17)",
           "radialaxis": {
            "gridcolor": "#506784",
            "linecolor": "#506784",
            "ticks": ""
           }
          },
          "scene": {
           "xaxis": {
            "backgroundcolor": "rgb(17,17,17)",
            "gridcolor": "#506784",
            "gridwidth": 2,
            "linecolor": "#506784",
            "showbackground": true,
            "ticks": "",
            "zerolinecolor": "#C8D4E3"
           },
           "yaxis": {
            "backgroundcolor": "rgb(17,17,17)",
            "gridcolor": "#506784",
            "gridwidth": 2,
            "linecolor": "#506784",
            "showbackground": true,
            "ticks": "",
            "zerolinecolor": "#C8D4E3"
           },
           "zaxis": {
            "backgroundcolor": "rgb(17,17,17)",
            "gridcolor": "#506784",
            "gridwidth": 2,
            "linecolor": "#506784",
            "showbackground": true,
            "ticks": "",
            "zerolinecolor": "#C8D4E3"
           }
          },
          "shapedefaults": {
           "line": {
            "color": "#f2f5fa"
           }
          },
          "sliderdefaults": {
           "bgcolor": "#C8D4E3",
           "bordercolor": "rgb(17,17,17)",
           "borderwidth": 1,
           "tickwidth": 0
          },
          "ternary": {
           "aaxis": {
            "gridcolor": "#506784",
            "linecolor": "#506784",
            "ticks": ""
           },
           "baxis": {
            "gridcolor": "#506784",
            "linecolor": "#506784",
            "ticks": ""
           },
           "bgcolor": "rgb(17,17,17)",
           "caxis": {
            "gridcolor": "#506784",
            "linecolor": "#506784",
            "ticks": ""
           }
          },
          "title": {
           "x": 0.05
          },
          "updatemenudefaults": {
           "bgcolor": "#506784",
           "borderwidth": 0
          },
          "xaxis": {
           "automargin": true,
           "gridcolor": "#283442",
           "linecolor": "#506784",
           "ticks": "",
           "title": {
            "standoff": 15
           },
           "zerolinecolor": "#283442",
           "zerolinewidth": 2
          },
          "yaxis": {
           "automargin": true,
           "gridcolor": "#283442",
           "linecolor": "#506784",
           "ticks": "",
           "title": {
            "standoff": 15
           },
           "zerolinecolor": "#283442",
           "zerolinewidth": 2
          }
         }
        },
        "title": {
         "font": {
          "color": "white",
          "family": "Arial, sans-serif",
          "size": 16
         },
         "text": "<b>Top 10 Feature Importances</b>",
         "x": 0.5
        },
        "width": 700,
        "xaxis": {
         "title": {
          "font": {
           "color": "white",
           "family": "Arial, sans-serif",
           "size": 14
          },
          "text": "<b>Importance</b>"
         }
        },
        "yaxis": {
         "title": {
          "font": {
           "color": "white",
           "family": "Arial, sans-serif",
           "size": 14
          },
          "text": "<b>Features</b>"
         }
        }
       }
      }
     },
     "metadata": {},
     "output_type": "display_data"
    }
   ],
   "source": [
    "plot_tree_feature_importance(boost_model)"
   ]
  },
  {
   "attachments": {},
   "cell_type": "markdown",
   "metadata": {},
   "source": [
    "### K-Nearest Neighbors (KNN)"
   ]
  },
  {
   "cell_type": "code",
   "execution_count": 21,
   "metadata": {},
   "outputs": [
    {
     "name": "stdout",
     "output_type": "stream",
     "text": [
      "Accuracy: 0.6375\n"
     ]
    }
   ],
   "source": [
    "from sklearn.neighbors import KNeighborsClassifier\n",
    "from sklearn.metrics import accuracy_score\n",
    "\n",
    "# Create K-nearest neighbors classifier\n",
    "knn_model = KNeighborsClassifier(n_neighbors=5)  # You can adjust the number of neighbors as needed\n",
    "\n",
    "# Fit the model to training set\n",
    "knn_model.fit(X_train, y_train)\n",
    "\n",
    "# Make predictions\n",
    "y_pred_knn = knn_model.predict(X_test)\n",
    "\n",
    "# Calculate accuracy\n",
    "knn_accuracy = accuracy_score(y_test, y_pred_knn)\n",
    "print(\"Accuracy:\", knn_accuracy)\n"
   ]
  },
  {
   "attachments": {},
   "cell_type": "markdown",
   "metadata": {},
   "source": [
    "### Feature Importance Plot (KNN)\n",
    "Unfortunately, a feature importance bar plot cannot be plotted because the K-Nearest Neighbors algorithm doesn't inherently provide feature importance scores like tree-based algorithms or linear models. Instead, K-Nearest Neighbors is a distance-based algorithm that makes predictions using Euclidean distance to measure proximity and similarity between data points. Due to the lack of feature importance scores and its low performance, it will not be included in the final dashboard."
   ]
  },
  {
   "attachments": {},
   "cell_type": "markdown",
   "metadata": {},
   "source": [
    "### Support Vector Machine"
   ]
  },
  {
   "cell_type": "code",
   "execution_count": 22,
   "metadata": {},
   "outputs": [
    {
     "name": "stdout",
     "output_type": "stream",
     "text": [
      "Accuracy: 0.75\n"
     ]
    }
   ],
   "source": [
    "from sklearn.svm import SVC\n",
    "from sklearn.metrics import accuracy_score\n",
    "\n",
    "# Create Support Vector Machine Classifier\n",
    "svm_model = SVC(kernel='linear')  # Other kernels I could choose 'linear', 'rbf', 'poly'\n",
    "\n",
    "# Fit the model to training set\n",
    "svm_model.fit(X_train, y_train)\n",
    "\n",
    "# Make predictions\n",
    "y_pred_svm = svm_model.predict(X_test)\n",
    "\n",
    "# Calculate accuracy\n",
    "svm_accuracy = accuracy_score(y_test, y_pred_svm)\n",
    "print(\"Accuracy:\", svm_accuracy)"
   ]
  },
  {
   "attachments": {},
   "cell_type": "markdown",
   "metadata": {},
   "source": [
    "### Feature Importance Plot (SVM)"
   ]
  },
  {
   "cell_type": "code",
   "execution_count": 23,
   "metadata": {},
   "outputs": [
    {
     "data": {
      "application/vnd.plotly.v1+json": {
       "config": {
        "plotlyServerURL": "https://plot.ly"
       },
       "data": [
        {
         "marker": {
          "color": [
           "#1DB954",
           "#2BBE60",
           "#3AC26C",
           "#48C778",
           "#57CB84",
           "#65D08F",
           "#74D49B",
           "#83D9A7",
           "#91DDB3",
           "#9FE2BF"
          ]
         },
         "orientation": "h",
         "type": "bar",
         "x": [
          1.5567369232833523,
          1.2387467405589998,
          1,
          0.853778646127331,
          0.5193136807880732,
          0.5193136807880732,
          0.4672057034134146,
          0.43838583955502086,
          0.43838583955502086,
          0.3151776323916683
         ],
         "y": [
          "Popularity",
          "Genre_Hip Hop",
          "Genre_Blues",
          "Genre_Rock",
          "Key_D Minor",
          "Camelot_7A",
          "Genre_Metal",
          "Camelot_6B",
          "Key_A#/B♭ Major",
          "Dance"
         ]
        }
       ],
       "layout": {
        "font": {
         "color": "white",
         "family": "Arial, sans-serif",
         "size": 12
        },
        "height": 500,
        "hoverlabel": {
         "font": {
          "color": "white"
         }
        },
        "margin": {
         "b": 20,
         "l": 100,
         "r": 20,
         "t": 40
        },
        "template": {
         "data": {
          "bar": [
           {
            "error_x": {
             "color": "#f2f5fa"
            },
            "error_y": {
             "color": "#f2f5fa"
            },
            "marker": {
             "line": {
              "color": "rgb(17,17,17)",
              "width": 0.5
             },
             "pattern": {
              "fillmode": "overlay",
              "size": 10,
              "solidity": 0.2
             }
            },
            "type": "bar"
           }
          ],
          "barpolar": [
           {
            "marker": {
             "line": {
              "color": "rgb(17,17,17)",
              "width": 0.5
             },
             "pattern": {
              "fillmode": "overlay",
              "size": 10,
              "solidity": 0.2
             }
            },
            "type": "barpolar"
           }
          ],
          "carpet": [
           {
            "aaxis": {
             "endlinecolor": "#A2B1C6",
             "gridcolor": "#506784",
             "linecolor": "#506784",
             "minorgridcolor": "#506784",
             "startlinecolor": "#A2B1C6"
            },
            "baxis": {
             "endlinecolor": "#A2B1C6",
             "gridcolor": "#506784",
             "linecolor": "#506784",
             "minorgridcolor": "#506784",
             "startlinecolor": "#A2B1C6"
            },
            "type": "carpet"
           }
          ],
          "choropleth": [
           {
            "colorbar": {
             "outlinewidth": 0,
             "ticks": ""
            },
            "type": "choropleth"
           }
          ],
          "contour": [
           {
            "colorbar": {
             "outlinewidth": 0,
             "ticks": ""
            },
            "colorscale": [
             [
              0,
              "#0d0887"
             ],
             [
              0.1111111111111111,
              "#46039f"
             ],
             [
              0.2222222222222222,
              "#7201a8"
             ],
             [
              0.3333333333333333,
              "#9c179e"
             ],
             [
              0.4444444444444444,
              "#bd3786"
             ],
             [
              0.5555555555555556,
              "#d8576b"
             ],
             [
              0.6666666666666666,
              "#ed7953"
             ],
             [
              0.7777777777777778,
              "#fb9f3a"
             ],
             [
              0.8888888888888888,
              "#fdca26"
             ],
             [
              1,
              "#f0f921"
             ]
            ],
            "type": "contour"
           }
          ],
          "contourcarpet": [
           {
            "colorbar": {
             "outlinewidth": 0,
             "ticks": ""
            },
            "type": "contourcarpet"
           }
          ],
          "heatmap": [
           {
            "colorbar": {
             "outlinewidth": 0,
             "ticks": ""
            },
            "colorscale": [
             [
              0,
              "#0d0887"
             ],
             [
              0.1111111111111111,
              "#46039f"
             ],
             [
              0.2222222222222222,
              "#7201a8"
             ],
             [
              0.3333333333333333,
              "#9c179e"
             ],
             [
              0.4444444444444444,
              "#bd3786"
             ],
             [
              0.5555555555555556,
              "#d8576b"
             ],
             [
              0.6666666666666666,
              "#ed7953"
             ],
             [
              0.7777777777777778,
              "#fb9f3a"
             ],
             [
              0.8888888888888888,
              "#fdca26"
             ],
             [
              1,
              "#f0f921"
             ]
            ],
            "type": "heatmap"
           }
          ],
          "heatmapgl": [
           {
            "colorbar": {
             "outlinewidth": 0,
             "ticks": ""
            },
            "colorscale": [
             [
              0,
              "#0d0887"
             ],
             [
              0.1111111111111111,
              "#46039f"
             ],
             [
              0.2222222222222222,
              "#7201a8"
             ],
             [
              0.3333333333333333,
              "#9c179e"
             ],
             [
              0.4444444444444444,
              "#bd3786"
             ],
             [
              0.5555555555555556,
              "#d8576b"
             ],
             [
              0.6666666666666666,
              "#ed7953"
             ],
             [
              0.7777777777777778,
              "#fb9f3a"
             ],
             [
              0.8888888888888888,
              "#fdca26"
             ],
             [
              1,
              "#f0f921"
             ]
            ],
            "type": "heatmapgl"
           }
          ],
          "histogram": [
           {
            "marker": {
             "pattern": {
              "fillmode": "overlay",
              "size": 10,
              "solidity": 0.2
             }
            },
            "type": "histogram"
           }
          ],
          "histogram2d": [
           {
            "colorbar": {
             "outlinewidth": 0,
             "ticks": ""
            },
            "colorscale": [
             [
              0,
              "#0d0887"
             ],
             [
              0.1111111111111111,
              "#46039f"
             ],
             [
              0.2222222222222222,
              "#7201a8"
             ],
             [
              0.3333333333333333,
              "#9c179e"
             ],
             [
              0.4444444444444444,
              "#bd3786"
             ],
             [
              0.5555555555555556,
              "#d8576b"
             ],
             [
              0.6666666666666666,
              "#ed7953"
             ],
             [
              0.7777777777777778,
              "#fb9f3a"
             ],
             [
              0.8888888888888888,
              "#fdca26"
             ],
             [
              1,
              "#f0f921"
             ]
            ],
            "type": "histogram2d"
           }
          ],
          "histogram2dcontour": [
           {
            "colorbar": {
             "outlinewidth": 0,
             "ticks": ""
            },
            "colorscale": [
             [
              0,
              "#0d0887"
             ],
             [
              0.1111111111111111,
              "#46039f"
             ],
             [
              0.2222222222222222,
              "#7201a8"
             ],
             [
              0.3333333333333333,
              "#9c179e"
             ],
             [
              0.4444444444444444,
              "#bd3786"
             ],
             [
              0.5555555555555556,
              "#d8576b"
             ],
             [
              0.6666666666666666,
              "#ed7953"
             ],
             [
              0.7777777777777778,
              "#fb9f3a"
             ],
             [
              0.8888888888888888,
              "#fdca26"
             ],
             [
              1,
              "#f0f921"
             ]
            ],
            "type": "histogram2dcontour"
           }
          ],
          "mesh3d": [
           {
            "colorbar": {
             "outlinewidth": 0,
             "ticks": ""
            },
            "type": "mesh3d"
           }
          ],
          "parcoords": [
           {
            "line": {
             "colorbar": {
              "outlinewidth": 0,
              "ticks": ""
             }
            },
            "type": "parcoords"
           }
          ],
          "pie": [
           {
            "automargin": true,
            "type": "pie"
           }
          ],
          "scatter": [
           {
            "marker": {
             "line": {
              "color": "#283442"
             }
            },
            "type": "scatter"
           }
          ],
          "scatter3d": [
           {
            "line": {
             "colorbar": {
              "outlinewidth": 0,
              "ticks": ""
             }
            },
            "marker": {
             "colorbar": {
              "outlinewidth": 0,
              "ticks": ""
             }
            },
            "type": "scatter3d"
           }
          ],
          "scattercarpet": [
           {
            "marker": {
             "colorbar": {
              "outlinewidth": 0,
              "ticks": ""
             }
            },
            "type": "scattercarpet"
           }
          ],
          "scattergeo": [
           {
            "marker": {
             "colorbar": {
              "outlinewidth": 0,
              "ticks": ""
             }
            },
            "type": "scattergeo"
           }
          ],
          "scattergl": [
           {
            "marker": {
             "line": {
              "color": "#283442"
             }
            },
            "type": "scattergl"
           }
          ],
          "scattermapbox": [
           {
            "marker": {
             "colorbar": {
              "outlinewidth": 0,
              "ticks": ""
             }
            },
            "type": "scattermapbox"
           }
          ],
          "scatterpolar": [
           {
            "marker": {
             "colorbar": {
              "outlinewidth": 0,
              "ticks": ""
             }
            },
            "type": "scatterpolar"
           }
          ],
          "scatterpolargl": [
           {
            "marker": {
             "colorbar": {
              "outlinewidth": 0,
              "ticks": ""
             }
            },
            "type": "scatterpolargl"
           }
          ],
          "scatterternary": [
           {
            "marker": {
             "colorbar": {
              "outlinewidth": 0,
              "ticks": ""
             }
            },
            "type": "scatterternary"
           }
          ],
          "surface": [
           {
            "colorbar": {
             "outlinewidth": 0,
             "ticks": ""
            },
            "colorscale": [
             [
              0,
              "#0d0887"
             ],
             [
              0.1111111111111111,
              "#46039f"
             ],
             [
              0.2222222222222222,
              "#7201a8"
             ],
             [
              0.3333333333333333,
              "#9c179e"
             ],
             [
              0.4444444444444444,
              "#bd3786"
             ],
             [
              0.5555555555555556,
              "#d8576b"
             ],
             [
              0.6666666666666666,
              "#ed7953"
             ],
             [
              0.7777777777777778,
              "#fb9f3a"
             ],
             [
              0.8888888888888888,
              "#fdca26"
             ],
             [
              1,
              "#f0f921"
             ]
            ],
            "type": "surface"
           }
          ],
          "table": [
           {
            "cells": {
             "fill": {
              "color": "#506784"
             },
             "line": {
              "color": "rgb(17,17,17)"
             }
            },
            "header": {
             "fill": {
              "color": "#2a3f5f"
             },
             "line": {
              "color": "rgb(17,17,17)"
             }
            },
            "type": "table"
           }
          ]
         },
         "layout": {
          "annotationdefaults": {
           "arrowcolor": "#f2f5fa",
           "arrowhead": 0,
           "arrowwidth": 1
          },
          "autotypenumbers": "strict",
          "coloraxis": {
           "colorbar": {
            "outlinewidth": 0,
            "ticks": ""
           }
          },
          "colorscale": {
           "diverging": [
            [
             0,
             "#8e0152"
            ],
            [
             0.1,
             "#c51b7d"
            ],
            [
             0.2,
             "#de77ae"
            ],
            [
             0.3,
             "#f1b6da"
            ],
            [
             0.4,
             "#fde0ef"
            ],
            [
             0.5,
             "#f7f7f7"
            ],
            [
             0.6,
             "#e6f5d0"
            ],
            [
             0.7,
             "#b8e186"
            ],
            [
             0.8,
             "#7fbc41"
            ],
            [
             0.9,
             "#4d9221"
            ],
            [
             1,
             "#276419"
            ]
           ],
           "sequential": [
            [
             0,
             "#0d0887"
            ],
            [
             0.1111111111111111,
             "#46039f"
            ],
            [
             0.2222222222222222,
             "#7201a8"
            ],
            [
             0.3333333333333333,
             "#9c179e"
            ],
            [
             0.4444444444444444,
             "#bd3786"
            ],
            [
             0.5555555555555556,
             "#d8576b"
            ],
            [
             0.6666666666666666,
             "#ed7953"
            ],
            [
             0.7777777777777778,
             "#fb9f3a"
            ],
            [
             0.8888888888888888,
             "#fdca26"
            ],
            [
             1,
             "#f0f921"
            ]
           ],
           "sequentialminus": [
            [
             0,
             "#0d0887"
            ],
            [
             0.1111111111111111,
             "#46039f"
            ],
            [
             0.2222222222222222,
             "#7201a8"
            ],
            [
             0.3333333333333333,
             "#9c179e"
            ],
            [
             0.4444444444444444,
             "#bd3786"
            ],
            [
             0.5555555555555556,
             "#d8576b"
            ],
            [
             0.6666666666666666,
             "#ed7953"
            ],
            [
             0.7777777777777778,
             "#fb9f3a"
            ],
            [
             0.8888888888888888,
             "#fdca26"
            ],
            [
             1,
             "#f0f921"
            ]
           ]
          },
          "colorway": [
           "#636efa",
           "#EF553B",
           "#00cc96",
           "#ab63fa",
           "#FFA15A",
           "#19d3f3",
           "#FF6692",
           "#B6E880",
           "#FF97FF",
           "#FECB52"
          ],
          "font": {
           "color": "#f2f5fa"
          },
          "geo": {
           "bgcolor": "rgb(17,17,17)",
           "lakecolor": "rgb(17,17,17)",
           "landcolor": "rgb(17,17,17)",
           "showlakes": true,
           "showland": true,
           "subunitcolor": "#506784"
          },
          "hoverlabel": {
           "align": "left"
          },
          "hovermode": "closest",
          "mapbox": {
           "style": "dark"
          },
          "paper_bgcolor": "rgb(17,17,17)",
          "plot_bgcolor": "rgb(17,17,17)",
          "polar": {
           "angularaxis": {
            "gridcolor": "#506784",
            "linecolor": "#506784",
            "ticks": ""
           },
           "bgcolor": "rgb(17,17,17)",
           "radialaxis": {
            "gridcolor": "#506784",
            "linecolor": "#506784",
            "ticks": ""
           }
          },
          "scene": {
           "xaxis": {
            "backgroundcolor": "rgb(17,17,17)",
            "gridcolor": "#506784",
            "gridwidth": 2,
            "linecolor": "#506784",
            "showbackground": true,
            "ticks": "",
            "zerolinecolor": "#C8D4E3"
           },
           "yaxis": {
            "backgroundcolor": "rgb(17,17,17)",
            "gridcolor": "#506784",
            "gridwidth": 2,
            "linecolor": "#506784",
            "showbackground": true,
            "ticks": "",
            "zerolinecolor": "#C8D4E3"
           },
           "zaxis": {
            "backgroundcolor": "rgb(17,17,17)",
            "gridcolor": "#506784",
            "gridwidth": 2,
            "linecolor": "#506784",
            "showbackground": true,
            "ticks": "",
            "zerolinecolor": "#C8D4E3"
           }
          },
          "shapedefaults": {
           "line": {
            "color": "#f2f5fa"
           }
          },
          "sliderdefaults": {
           "bgcolor": "#C8D4E3",
           "bordercolor": "rgb(17,17,17)",
           "borderwidth": 1,
           "tickwidth": 0
          },
          "ternary": {
           "aaxis": {
            "gridcolor": "#506784",
            "linecolor": "#506784",
            "ticks": ""
           },
           "baxis": {
            "gridcolor": "#506784",
            "linecolor": "#506784",
            "ticks": ""
           },
           "bgcolor": "rgb(17,17,17)",
           "caxis": {
            "gridcolor": "#506784",
            "linecolor": "#506784",
            "ticks": ""
           }
          },
          "title": {
           "x": 0.05
          },
          "updatemenudefaults": {
           "bgcolor": "#506784",
           "borderwidth": 0
          },
          "xaxis": {
           "automargin": true,
           "gridcolor": "#283442",
           "linecolor": "#506784",
           "ticks": "",
           "title": {
            "standoff": 15
           },
           "zerolinecolor": "#283442",
           "zerolinewidth": 2
          },
          "yaxis": {
           "automargin": true,
           "gridcolor": "#283442",
           "linecolor": "#506784",
           "ticks": "",
           "title": {
            "standoff": 15
           },
           "zerolinecolor": "#283442",
           "zerolinewidth": 2
          }
         }
        },
        "title": {
         "font": {
          "color": "white",
          "family": "Arial, sans-serif",
          "size": 16
         },
         "text": "<b>Top 10 Feature Importances</b>",
         "x": 0.5
        },
        "width": 700,
        "xaxis": {
         "title": {
          "font": {
           "color": "white",
           "family": "Arial, sans-serif",
           "size": 14
          },
          "text": "<b>Importance</b>"
         }
        },
        "yaxis": {
         "title": {
          "font": {
           "color": "white",
           "family": "Arial, sans-serif",
           "size": 14
          },
          "text": "<b>Features</b>"
         }
        }
       }
      }
     },
     "metadata": {},
     "output_type": "display_data"
    }
   ],
   "source": [
    "plot_linear_feature_importance(svm_model)"
   ]
  },
  {
   "attachments": {},
   "cell_type": "markdown",
   "metadata": {},
   "source": [
    "### Decision Trees"
   ]
  },
  {
   "cell_type": "code",
   "execution_count": 24,
   "metadata": {},
   "outputs": [
    {
     "name": "stdout",
     "output_type": "stream",
     "text": [
      "Accuracy: 0.7875\n"
     ]
    }
   ],
   "source": [
    "from sklearn.tree import DecisionTreeClassifier\n",
    "from sklearn.metrics import accuracy_score\n",
    "\n",
    "# Create Decision Tree Classifier\n",
    "dec_tree_model = DecisionTreeClassifier()\n",
    "\n",
    "# Fit the model to training set\n",
    "dec_tree_model.fit(X_train, y_train)\n",
    "\n",
    "# Make predictions\n",
    "y_pred_dec_tree = dec_tree_model.predict(X_test)\n",
    "\n",
    "# Calculate accuracy\n",
    "dec_tree_accuracy = accuracy_score(y_test, y_pred_dec_tree)\n",
    "print(\"Accuracy:\", dec_tree_accuracy)"
   ]
  },
  {
   "attachments": {},
   "cell_type": "markdown",
   "metadata": {},
   "source": [
    "### Feature Importance Plot (Decision Tree)"
   ]
  },
  {
   "cell_type": "code",
   "execution_count": 25,
   "metadata": {},
   "outputs": [
    {
     "data": {
      "application/vnd.plotly.v1+json": {
       "config": {
        "plotlyServerURL": "https://plot.ly"
       },
       "data": [
        {
         "marker": {
          "color": [
           "#1DB954",
           "#2BBE60",
           "#3AC26C",
           "#48C778",
           "#57CB84",
           "#65D08F",
           "#74D49B",
           "#83D9A7",
           "#91DDB3",
           "#9FE2BF"
          ]
         },
         "orientation": "h",
         "type": "bar",
         "x": [
          0.3944727304888271,
          0.1770443527165679,
          0.10659981605402517,
          0.06160795726013115,
          0.0590291167798766,
          0.053969559851912804,
          0.04773892773892772,
          0.03870807684554917,
          0.032747740064813256,
          0.02808172219936925
         ],
         "y": [
          "Popularity",
          "Acoustic",
          "Genre_Hip Hop",
          "Dance",
          "Key_F Minor",
          "Key_C♯/D♭ Major",
          "Key_C♯/D♭ Minor",
          "Genre_Pop",
          "Loud",
          "Key_F#/G♭ Major"
         ]
        }
       ],
       "layout": {
        "font": {
         "color": "white",
         "family": "Arial, sans-serif",
         "size": 12
        },
        "height": 500,
        "hoverlabel": {
         "font": {
          "color": "white"
         }
        },
        "margin": {
         "b": 20,
         "l": 100,
         "r": 20,
         "t": 40
        },
        "template": {
         "data": {
          "bar": [
           {
            "error_x": {
             "color": "#f2f5fa"
            },
            "error_y": {
             "color": "#f2f5fa"
            },
            "marker": {
             "line": {
              "color": "rgb(17,17,17)",
              "width": 0.5
             },
             "pattern": {
              "fillmode": "overlay",
              "size": 10,
              "solidity": 0.2
             }
            },
            "type": "bar"
           }
          ],
          "barpolar": [
           {
            "marker": {
             "line": {
              "color": "rgb(17,17,17)",
              "width": 0.5
             },
             "pattern": {
              "fillmode": "overlay",
              "size": 10,
              "solidity": 0.2
             }
            },
            "type": "barpolar"
           }
          ],
          "carpet": [
           {
            "aaxis": {
             "endlinecolor": "#A2B1C6",
             "gridcolor": "#506784",
             "linecolor": "#506784",
             "minorgridcolor": "#506784",
             "startlinecolor": "#A2B1C6"
            },
            "baxis": {
             "endlinecolor": "#A2B1C6",
             "gridcolor": "#506784",
             "linecolor": "#506784",
             "minorgridcolor": "#506784",
             "startlinecolor": "#A2B1C6"
            },
            "type": "carpet"
           }
          ],
          "choropleth": [
           {
            "colorbar": {
             "outlinewidth": 0,
             "ticks": ""
            },
            "type": "choropleth"
           }
          ],
          "contour": [
           {
            "colorbar": {
             "outlinewidth": 0,
             "ticks": ""
            },
            "colorscale": [
             [
              0,
              "#0d0887"
             ],
             [
              0.1111111111111111,
              "#46039f"
             ],
             [
              0.2222222222222222,
              "#7201a8"
             ],
             [
              0.3333333333333333,
              "#9c179e"
             ],
             [
              0.4444444444444444,
              "#bd3786"
             ],
             [
              0.5555555555555556,
              "#d8576b"
             ],
             [
              0.6666666666666666,
              "#ed7953"
             ],
             [
              0.7777777777777778,
              "#fb9f3a"
             ],
             [
              0.8888888888888888,
              "#fdca26"
             ],
             [
              1,
              "#f0f921"
             ]
            ],
            "type": "contour"
           }
          ],
          "contourcarpet": [
           {
            "colorbar": {
             "outlinewidth": 0,
             "ticks": ""
            },
            "type": "contourcarpet"
           }
          ],
          "heatmap": [
           {
            "colorbar": {
             "outlinewidth": 0,
             "ticks": ""
            },
            "colorscale": [
             [
              0,
              "#0d0887"
             ],
             [
              0.1111111111111111,
              "#46039f"
             ],
             [
              0.2222222222222222,
              "#7201a8"
             ],
             [
              0.3333333333333333,
              "#9c179e"
             ],
             [
              0.4444444444444444,
              "#bd3786"
             ],
             [
              0.5555555555555556,
              "#d8576b"
             ],
             [
              0.6666666666666666,
              "#ed7953"
             ],
             [
              0.7777777777777778,
              "#fb9f3a"
             ],
             [
              0.8888888888888888,
              "#fdca26"
             ],
             [
              1,
              "#f0f921"
             ]
            ],
            "type": "heatmap"
           }
          ],
          "heatmapgl": [
           {
            "colorbar": {
             "outlinewidth": 0,
             "ticks": ""
            },
            "colorscale": [
             [
              0,
              "#0d0887"
             ],
             [
              0.1111111111111111,
              "#46039f"
             ],
             [
              0.2222222222222222,
              "#7201a8"
             ],
             [
              0.3333333333333333,
              "#9c179e"
             ],
             [
              0.4444444444444444,
              "#bd3786"
             ],
             [
              0.5555555555555556,
              "#d8576b"
             ],
             [
              0.6666666666666666,
              "#ed7953"
             ],
             [
              0.7777777777777778,
              "#fb9f3a"
             ],
             [
              0.8888888888888888,
              "#fdca26"
             ],
             [
              1,
              "#f0f921"
             ]
            ],
            "type": "heatmapgl"
           }
          ],
          "histogram": [
           {
            "marker": {
             "pattern": {
              "fillmode": "overlay",
              "size": 10,
              "solidity": 0.2
             }
            },
            "type": "histogram"
           }
          ],
          "histogram2d": [
           {
            "colorbar": {
             "outlinewidth": 0,
             "ticks": ""
            },
            "colorscale": [
             [
              0,
              "#0d0887"
             ],
             [
              0.1111111111111111,
              "#46039f"
             ],
             [
              0.2222222222222222,
              "#7201a8"
             ],
             [
              0.3333333333333333,
              "#9c179e"
             ],
             [
              0.4444444444444444,
              "#bd3786"
             ],
             [
              0.5555555555555556,
              "#d8576b"
             ],
             [
              0.6666666666666666,
              "#ed7953"
             ],
             [
              0.7777777777777778,
              "#fb9f3a"
             ],
             [
              0.8888888888888888,
              "#fdca26"
             ],
             [
              1,
              "#f0f921"
             ]
            ],
            "type": "histogram2d"
           }
          ],
          "histogram2dcontour": [
           {
            "colorbar": {
             "outlinewidth": 0,
             "ticks": ""
            },
            "colorscale": [
             [
              0,
              "#0d0887"
             ],
             [
              0.1111111111111111,
              "#46039f"
             ],
             [
              0.2222222222222222,
              "#7201a8"
             ],
             [
              0.3333333333333333,
              "#9c179e"
             ],
             [
              0.4444444444444444,
              "#bd3786"
             ],
             [
              0.5555555555555556,
              "#d8576b"
             ],
             [
              0.6666666666666666,
              "#ed7953"
             ],
             [
              0.7777777777777778,
              "#fb9f3a"
             ],
             [
              0.8888888888888888,
              "#fdca26"
             ],
             [
              1,
              "#f0f921"
             ]
            ],
            "type": "histogram2dcontour"
           }
          ],
          "mesh3d": [
           {
            "colorbar": {
             "outlinewidth": 0,
             "ticks": ""
            },
            "type": "mesh3d"
           }
          ],
          "parcoords": [
           {
            "line": {
             "colorbar": {
              "outlinewidth": 0,
              "ticks": ""
             }
            },
            "type": "parcoords"
           }
          ],
          "pie": [
           {
            "automargin": true,
            "type": "pie"
           }
          ],
          "scatter": [
           {
            "marker": {
             "line": {
              "color": "#283442"
             }
            },
            "type": "scatter"
           }
          ],
          "scatter3d": [
           {
            "line": {
             "colorbar": {
              "outlinewidth": 0,
              "ticks": ""
             }
            },
            "marker": {
             "colorbar": {
              "outlinewidth": 0,
              "ticks": ""
             }
            },
            "type": "scatter3d"
           }
          ],
          "scattercarpet": [
           {
            "marker": {
             "colorbar": {
              "outlinewidth": 0,
              "ticks": ""
             }
            },
            "type": "scattercarpet"
           }
          ],
          "scattergeo": [
           {
            "marker": {
             "colorbar": {
              "outlinewidth": 0,
              "ticks": ""
             }
            },
            "type": "scattergeo"
           }
          ],
          "scattergl": [
           {
            "marker": {
             "line": {
              "color": "#283442"
             }
            },
            "type": "scattergl"
           }
          ],
          "scattermapbox": [
           {
            "marker": {
             "colorbar": {
              "outlinewidth": 0,
              "ticks": ""
             }
            },
            "type": "scattermapbox"
           }
          ],
          "scatterpolar": [
           {
            "marker": {
             "colorbar": {
              "outlinewidth": 0,
              "ticks": ""
             }
            },
            "type": "scatterpolar"
           }
          ],
          "scatterpolargl": [
           {
            "marker": {
             "colorbar": {
              "outlinewidth": 0,
              "ticks": ""
             }
            },
            "type": "scatterpolargl"
           }
          ],
          "scatterternary": [
           {
            "marker": {
             "colorbar": {
              "outlinewidth": 0,
              "ticks": ""
             }
            },
            "type": "scatterternary"
           }
          ],
          "surface": [
           {
            "colorbar": {
             "outlinewidth": 0,
             "ticks": ""
            },
            "colorscale": [
             [
              0,
              "#0d0887"
             ],
             [
              0.1111111111111111,
              "#46039f"
             ],
             [
              0.2222222222222222,
              "#7201a8"
             ],
             [
              0.3333333333333333,
              "#9c179e"
             ],
             [
              0.4444444444444444,
              "#bd3786"
             ],
             [
              0.5555555555555556,
              "#d8576b"
             ],
             [
              0.6666666666666666,
              "#ed7953"
             ],
             [
              0.7777777777777778,
              "#fb9f3a"
             ],
             [
              0.8888888888888888,
              "#fdca26"
             ],
             [
              1,
              "#f0f921"
             ]
            ],
            "type": "surface"
           }
          ],
          "table": [
           {
            "cells": {
             "fill": {
              "color": "#506784"
             },
             "line": {
              "color": "rgb(17,17,17)"
             }
            },
            "header": {
             "fill": {
              "color": "#2a3f5f"
             },
             "line": {
              "color": "rgb(17,17,17)"
             }
            },
            "type": "table"
           }
          ]
         },
         "layout": {
          "annotationdefaults": {
           "arrowcolor": "#f2f5fa",
           "arrowhead": 0,
           "arrowwidth": 1
          },
          "autotypenumbers": "strict",
          "coloraxis": {
           "colorbar": {
            "outlinewidth": 0,
            "ticks": ""
           }
          },
          "colorscale": {
           "diverging": [
            [
             0,
             "#8e0152"
            ],
            [
             0.1,
             "#c51b7d"
            ],
            [
             0.2,
             "#de77ae"
            ],
            [
             0.3,
             "#f1b6da"
            ],
            [
             0.4,
             "#fde0ef"
            ],
            [
             0.5,
             "#f7f7f7"
            ],
            [
             0.6,
             "#e6f5d0"
            ],
            [
             0.7,
             "#b8e186"
            ],
            [
             0.8,
             "#7fbc41"
            ],
            [
             0.9,
             "#4d9221"
            ],
            [
             1,
             "#276419"
            ]
           ],
           "sequential": [
            [
             0,
             "#0d0887"
            ],
            [
             0.1111111111111111,
             "#46039f"
            ],
            [
             0.2222222222222222,
             "#7201a8"
            ],
            [
             0.3333333333333333,
             "#9c179e"
            ],
            [
             0.4444444444444444,
             "#bd3786"
            ],
            [
             0.5555555555555556,
             "#d8576b"
            ],
            [
             0.6666666666666666,
             "#ed7953"
            ],
            [
             0.7777777777777778,
             "#fb9f3a"
            ],
            [
             0.8888888888888888,
             "#fdca26"
            ],
            [
             1,
             "#f0f921"
            ]
           ],
           "sequentialminus": [
            [
             0,
             "#0d0887"
            ],
            [
             0.1111111111111111,
             "#46039f"
            ],
            [
             0.2222222222222222,
             "#7201a8"
            ],
            [
             0.3333333333333333,
             "#9c179e"
            ],
            [
             0.4444444444444444,
             "#bd3786"
            ],
            [
             0.5555555555555556,
             "#d8576b"
            ],
            [
             0.6666666666666666,
             "#ed7953"
            ],
            [
             0.7777777777777778,
             "#fb9f3a"
            ],
            [
             0.8888888888888888,
             "#fdca26"
            ],
            [
             1,
             "#f0f921"
            ]
           ]
          },
          "colorway": [
           "#636efa",
           "#EF553B",
           "#00cc96",
           "#ab63fa",
           "#FFA15A",
           "#19d3f3",
           "#FF6692",
           "#B6E880",
           "#FF97FF",
           "#FECB52"
          ],
          "font": {
           "color": "#f2f5fa"
          },
          "geo": {
           "bgcolor": "rgb(17,17,17)",
           "lakecolor": "rgb(17,17,17)",
           "landcolor": "rgb(17,17,17)",
           "showlakes": true,
           "showland": true,
           "subunitcolor": "#506784"
          },
          "hoverlabel": {
           "align": "left"
          },
          "hovermode": "closest",
          "mapbox": {
           "style": "dark"
          },
          "paper_bgcolor": "rgb(17,17,17)",
          "plot_bgcolor": "rgb(17,17,17)",
          "polar": {
           "angularaxis": {
            "gridcolor": "#506784",
            "linecolor": "#506784",
            "ticks": ""
           },
           "bgcolor": "rgb(17,17,17)",
           "radialaxis": {
            "gridcolor": "#506784",
            "linecolor": "#506784",
            "ticks": ""
           }
          },
          "scene": {
           "xaxis": {
            "backgroundcolor": "rgb(17,17,17)",
            "gridcolor": "#506784",
            "gridwidth": 2,
            "linecolor": "#506784",
            "showbackground": true,
            "ticks": "",
            "zerolinecolor": "#C8D4E3"
           },
           "yaxis": {
            "backgroundcolor": "rgb(17,17,17)",
            "gridcolor": "#506784",
            "gridwidth": 2,
            "linecolor": "#506784",
            "showbackground": true,
            "ticks": "",
            "zerolinecolor": "#C8D4E3"
           },
           "zaxis": {
            "backgroundcolor": "rgb(17,17,17)",
            "gridcolor": "#506784",
            "gridwidth": 2,
            "linecolor": "#506784",
            "showbackground": true,
            "ticks": "",
            "zerolinecolor": "#C8D4E3"
           }
          },
          "shapedefaults": {
           "line": {
            "color": "#f2f5fa"
           }
          },
          "sliderdefaults": {
           "bgcolor": "#C8D4E3",
           "bordercolor": "rgb(17,17,17)",
           "borderwidth": 1,
           "tickwidth": 0
          },
          "ternary": {
           "aaxis": {
            "gridcolor": "#506784",
            "linecolor": "#506784",
            "ticks": ""
           },
           "baxis": {
            "gridcolor": "#506784",
            "linecolor": "#506784",
            "ticks": ""
           },
           "bgcolor": "rgb(17,17,17)",
           "caxis": {
            "gridcolor": "#506784",
            "linecolor": "#506784",
            "ticks": ""
           }
          },
          "title": {
           "x": 0.05
          },
          "updatemenudefaults": {
           "bgcolor": "#506784",
           "borderwidth": 0
          },
          "xaxis": {
           "automargin": true,
           "gridcolor": "#283442",
           "linecolor": "#506784",
           "ticks": "",
           "title": {
            "standoff": 15
           },
           "zerolinecolor": "#283442",
           "zerolinewidth": 2
          },
          "yaxis": {
           "automargin": true,
           "gridcolor": "#283442",
           "linecolor": "#506784",
           "ticks": "",
           "title": {
            "standoff": 15
           },
           "zerolinecolor": "#283442",
           "zerolinewidth": 2
          }
         }
        },
        "title": {
         "font": {
          "color": "white",
          "family": "Arial, sans-serif",
          "size": 16
         },
         "text": "<b>Top 10 Feature Importances</b>",
         "x": 0.5
        },
        "width": 700,
        "xaxis": {
         "title": {
          "font": {
           "color": "white",
           "family": "Arial, sans-serif",
           "size": 14
          },
          "text": "<b>Importance</b>"
         }
        },
        "yaxis": {
         "title": {
          "font": {
           "color": "white",
           "family": "Arial, sans-serif",
           "size": 14
          },
          "text": "<b>Features</b>"
         }
        }
       }
      }
     },
     "metadata": {},
     "output_type": "display_data"
    }
   ],
   "source": [
    "plot_tree_feature_importance(dec_tree_model)"
   ]
  },
  {
   "attachments": {},
   "cell_type": "markdown",
   "metadata": {},
   "source": [
    "### Gauge Visualization\n",
    "Now, a gauge visualization function is developed to showcase model accuracy on the dashboard."
   ]
  },
  {
   "cell_type": "code",
   "execution_count": 26,
   "metadata": {},
   "outputs": [],
   "source": [
    "import panel as pn\n",
    "import plotly.graph_objects as go\n",
    "\n",
    "# Create gauge visualization function\n",
    "def gauge_accuracy_viz(model_performance, last_reference):\n",
    "    # Calculate delta to show if current model is performing better or worse\n",
    "    delta = model_performance - last_reference\n",
    "\n",
    "    # Create gauge chart\n",
    "    fig = go.Figure(go.Indicator(\n",
    "        mode=\"gauge+number+delta\",\n",
    "        value= model_performance * 100,\n",
    "        domain={'x': [0, 1], 'y': [0, 1]},\n",
    "        title={'text': \"Accuracy\", 'font': {'size': 24, 'color': \"#00ff7f\"}},\n",
    "        delta={'reference': last_reference * 100, 'increasing': {'color': \"#00ff00\"}, 'decreasing': {'color': \"#ff7373\"}},\n",
    "        gauge={\n",
    "            'axis': {'range': [None, 100], 'tickwidth': 2, 'tickcolor': \"#70D2A2\"},\n",
    "            'bar': {'color': \"#1DB954\"},\n",
    "            'bgcolor': \"white\",\n",
    "            'borderwidth': 3,\n",
    "            'bordercolor': \"#00ff7f\",\n",
    "            'steps': [\n",
    "                {'range': [0, 50], 'color': '#b91d82'},\n",
    "                {'range': [50, 100], 'color': '#fff68f'}],\n",
    "            'threshold': {\n",
    "                'line': {'color': \"#cc0000\", 'width': 4},\n",
    "                'thickness': 0.75,\n",
    "                'value': model_performance * 100}}\n",
    "    ))\n",
    "    \n",
    "    # Add percent sign to value and delta\n",
    "    fig.update_traces(number={'suffix': '%'}, delta={'suffix': '%'})\n",
    "    # Visualize gauge in dark mode\n",
    "    fig.update_layout(template=\"plotly_dark\", font={'color': \"#00ff7f\", 'family': \"Arial\"}, height=500, width=364)\n",
    "    \n",
    "    return fig "
   ]
  },
  {
   "attachments": {},
   "cell_type": "markdown",
   "metadata": {},
   "source": [
    "## Panel Dashboard"
   ]
  },
  {
   "cell_type": "code",
   "execution_count": 30,
   "metadata": {},
   "outputs": [
    {
     "data": {
      "application/javascript": "(function(root) {\n  function now() {\n    return new Date();\n  }\n\n  var force = true;\n  var py_version = '3.3.4'.replace('rc', '-rc.').replace('.dev', '-dev.');\n  var reloading = false;\n  var Bokeh = root.Bokeh;\n\n  if (typeof (root._bokeh_timeout) === \"undefined\" || force) {\n    root._bokeh_timeout = Date.now() + 5000;\n    root._bokeh_failed_load = false;\n  }\n\n  function run_callbacks() {\n    try {\n      root._bokeh_onload_callbacks.forEach(function(callback) {\n        if (callback != null)\n          callback();\n      });\n    } finally {\n      delete root._bokeh_onload_callbacks;\n    }\n    console.debug(\"Bokeh: all callbacks have finished\");\n  }\n\n  function load_libs(css_urls, js_urls, js_modules, js_exports, callback) {\n    if (css_urls == null) css_urls = [];\n    if (js_urls == null) js_urls = [];\n    if (js_modules == null) js_modules = [];\n    if (js_exports == null) js_exports = {};\n\n    root._bokeh_onload_callbacks.push(callback);\n\n    if (root._bokeh_is_loading > 0) {\n      console.debug(\"Bokeh: BokehJS is being loaded, scheduling callback at\", now());\n      return null;\n    }\n    if (js_urls.length === 0 && js_modules.length === 0 && Object.keys(js_exports).length === 0) {\n      run_callbacks();\n      return null;\n    }\n    if (!reloading) {\n      console.debug(\"Bokeh: BokehJS not loaded, scheduling load and callback at\", now());\n    }\n\n    function on_load() {\n      root._bokeh_is_loading--;\n      if (root._bokeh_is_loading === 0) {\n        console.debug(\"Bokeh: all BokehJS libraries/stylesheets loaded\");\n        run_callbacks()\n      }\n    }\n    window._bokeh_on_load = on_load\n\n    function on_error() {\n      console.error(\"failed to load \" + url);\n    }\n\n    var skip = [];\n    if (window.requirejs) {\n      window.requirejs.config({'packages': {}, 'paths': {'echarts': 'https://cdn.jsdelivr.net/npm/echarts@5.4.1/dist/echarts.min', 'echarts-gl': 'https://cdn.jsdelivr.net/npm/echarts-gl@2.0.9/dist/echarts-gl.min', 'plotly': 'https://cdn.plot.ly/plotly-2.25.2.min', 'jspanel': 'https://cdn.jsdelivr.net/npm/jspanel4@4.12.0/dist/jspanel', 'jspanel-modal': 'https://cdn.jsdelivr.net/npm/jspanel4@4.12.0/dist/extensions/modal/jspanel.modal', 'jspanel-tooltip': 'https://cdn.jsdelivr.net/npm/jspanel4@4.12.0/dist/extensions/tooltip/jspanel.tooltip', 'jspanel-hint': 'https://cdn.jsdelivr.net/npm/jspanel4@4.12.0/dist/extensions/hint/jspanel.hint', 'jspanel-layout': 'https://cdn.jsdelivr.net/npm/jspanel4@4.12.0/dist/extensions/layout/jspanel.layout', 'jspanel-contextmenu': 'https://cdn.jsdelivr.net/npm/jspanel4@4.12.0/dist/extensions/contextmenu/jspanel.contextmenu', 'jspanel-dock': 'https://cdn.jsdelivr.net/npm/jspanel4@4.12.0/dist/extensions/dock/jspanel.dock', 'gridstack': 'https://cdn.jsdelivr.net/npm/gridstack@7.2.3/dist/gridstack-all', 'notyf': 'https://cdn.jsdelivr.net/npm/notyf@3/notyf.min'}, 'shim': {'jspanel': {'exports': 'jsPanel'}, 'gridstack': {'exports': 'GridStack'}}});\n      require([\"echarts\"], function() {\n\ton_load()\n      })\n      require([\"echarts-gl\"], function() {\n\ton_load()\n      })\n      require([\"plotly\"], function(Plotly) {\n\twindow.Plotly = Plotly\n\ton_load()\n      })\n      require([\"jspanel\"], function(jsPanel) {\n\twindow.jsPanel = jsPanel\n\ton_load()\n      })\n      require([\"jspanel-modal\"], function() {\n\ton_load()\n      })\n      require([\"jspanel-tooltip\"], function() {\n\ton_load()\n      })\n      require([\"jspanel-hint\"], function() {\n\ton_load()\n      })\n      require([\"jspanel-layout\"], function() {\n\ton_load()\n      })\n      require([\"jspanel-contextmenu\"], function() {\n\ton_load()\n      })\n      require([\"jspanel-dock\"], function() {\n\ton_load()\n      })\n      require([\"gridstack\"], function(GridStack) {\n\twindow.GridStack = GridStack\n\ton_load()\n      })\n      require([\"notyf\"], function() {\n\ton_load()\n      })\n      root._bokeh_is_loading = css_urls.length + 12;\n    } else {\n      root._bokeh_is_loading = css_urls.length + js_urls.length + js_modules.length + Object.keys(js_exports).length;\n    }\n\n    var existing_stylesheets = []\n    var links = document.getElementsByTagName('link')\n    for (var i = 0; i < links.length; i++) {\n      var link = links[i]\n      if (link.href != null) {\n\texisting_stylesheets.push(link.href)\n      }\n    }\n    for (var i = 0; i < css_urls.length; i++) {\n      var url = css_urls[i];\n      if (existing_stylesheets.indexOf(url) !== -1) {\n\ton_load()\n\tcontinue;\n      }\n      const element = document.createElement(\"link\");\n      element.onload = on_load;\n      element.onerror = on_error;\n      element.rel = \"stylesheet\";\n      element.type = \"text/css\";\n      element.href = url;\n      console.debug(\"Bokeh: injecting link tag for BokehJS stylesheet: \", url);\n      document.body.appendChild(element);\n    }    if (((window['echarts'] !== undefined) && (!(window['echarts'] instanceof HTMLElement))) || window.requirejs) {\n      var urls = ['https://cdn.holoviz.org/panel/1.3.8/dist/bundled/echarts/echarts@5.4.1/dist/echarts.min.js'];\n      for (var i = 0; i < urls.length; i++) {\n        skip.push(urls[i])\n      }\n    }    if (((window['Plotly'] !== undefined) && (!(window['Plotly'] instanceof HTMLElement))) || window.requirejs) {\n      var urls = ['https://cdn.holoviz.org/panel/1.3.8/dist/bundled/plotlyplot/plotly-2.25.2.min.js'];\n      for (var i = 0; i < urls.length; i++) {\n        skip.push(urls[i])\n      }\n    }    if (((window['jsPanel'] !== undefined) && (!(window['jsPanel'] instanceof HTMLElement))) || window.requirejs) {\n      var urls = ['https://cdn.holoviz.org/panel/1.3.8/dist/bundled/floatpanel/jspanel4@4.12.0/dist/jspanel.js', 'https://cdn.holoviz.org/panel/1.3.8/dist/bundled/floatpanel/jspanel4@4.12.0/dist/extensions/modal/jspanel.modal.js', 'https://cdn.holoviz.org/panel/1.3.8/dist/bundled/floatpanel/jspanel4@4.12.0/dist/extensions/tooltip/jspanel.tooltip.js', 'https://cdn.holoviz.org/panel/1.3.8/dist/bundled/floatpanel/jspanel4@4.12.0/dist/extensions/hint/jspanel.hint.js', 'https://cdn.holoviz.org/panel/1.3.8/dist/bundled/floatpanel/jspanel4@4.12.0/dist/extensions/layout/jspanel.layout.js', 'https://cdn.holoviz.org/panel/1.3.8/dist/bundled/floatpanel/jspanel4@4.12.0/dist/extensions/contextmenu/jspanel.contextmenu.js', 'https://cdn.holoviz.org/panel/1.3.8/dist/bundled/floatpanel/jspanel4@4.12.0/dist/extensions/dock/jspanel.dock.js'];\n      for (var i = 0; i < urls.length; i++) {\n        skip.push(urls[i])\n      }\n    }    if (((window['GridStack'] !== undefined) && (!(window['GridStack'] instanceof HTMLElement))) || window.requirejs) {\n      var urls = ['https://cdn.holoviz.org/panel/1.3.8/dist/bundled/gridstack/gridstack@7.2.3/dist/gridstack-all.js'];\n      for (var i = 0; i < urls.length; i++) {\n        skip.push(urls[i])\n      }\n    }    if (((window['Notyf'] !== undefined) && (!(window['Notyf'] instanceof HTMLElement))) || window.requirejs) {\n      var urls = ['https://cdn.holoviz.org/panel/1.3.8/dist/bundled/notificationarea/notyf@3/notyf.min.js'];\n      for (var i = 0; i < urls.length; i++) {\n        skip.push(urls[i])\n      }\n    }    var existing_scripts = []\n    var scripts = document.getElementsByTagName('script')\n    for (var i = 0; i < scripts.length; i++) {\n      var script = scripts[i]\n      if (script.src != null) {\n\texisting_scripts.push(script.src)\n      }\n    }\n    for (var i = 0; i < js_urls.length; i++) {\n      var url = js_urls[i];\n      if (skip.indexOf(url) !== -1 || existing_scripts.indexOf(url) !== -1) {\n\tif (!window.requirejs) {\n\t  on_load();\n\t}\n\tcontinue;\n      }\n      var element = document.createElement('script');\n      element.onload = on_load;\n      element.onerror = on_error;\n      element.async = false;\n      element.src = url;\n      console.debug(\"Bokeh: injecting script tag for BokehJS library: \", url);\n      document.head.appendChild(element);\n    }\n    for (var i = 0; i < js_modules.length; i++) {\n      var url = js_modules[i];\n      if (skip.indexOf(url) !== -1 || existing_scripts.indexOf(url) !== -1) {\n\tif (!window.requirejs) {\n\t  on_load();\n\t}\n\tcontinue;\n      }\n      var element = document.createElement('script');\n      element.onload = on_load;\n      element.onerror = on_error;\n      element.async = false;\n      element.src = url;\n      element.type = \"module\";\n      console.debug(\"Bokeh: injecting script tag for BokehJS library: \", url);\n      document.head.appendChild(element);\n    }\n    for (const name in js_exports) {\n      var url = js_exports[name];\n      if (skip.indexOf(url) >= 0 || root[name] != null) {\n\tif (!window.requirejs) {\n\t  on_load();\n\t}\n\tcontinue;\n      }\n      var element = document.createElement('script');\n      element.onerror = on_error;\n      element.async = false;\n      element.type = \"module\";\n      console.debug(\"Bokeh: injecting script tag for BokehJS library: \", url);\n      element.textContent = `\n      import ${name} from \"${url}\"\n      window.${name} = ${name}\n      window._bokeh_on_load()\n      `\n      document.head.appendChild(element);\n    }\n    if (!js_urls.length && !js_modules.length) {\n      on_load()\n    }\n  };\n\n  function inject_raw_css(css) {\n    const element = document.createElement(\"style\");\n    element.appendChild(document.createTextNode(css));\n    document.body.appendChild(element);\n  }\n\n  var js_urls = [\"https://cdn.holoviz.org/panel/1.3.8/dist/bundled/echarts/echarts@5.4.1/dist/echarts.min.js\", \"https://cdn.holoviz.org/panel/1.3.8/dist/bundled/echarts/echarts-gl@2.0.9/dist/echarts-gl.min.js\", \"https://cdn.holoviz.org/panel/1.3.8/dist/bundled/jquery/jquery.slim.min.js\", \"https://cdn.holoviz.org/panel/1.3.8/dist/bundled/plotlyplot/plotly-2.25.2.min.js\", \"https://cdn.bokeh.org/bokeh/release/bokeh-3.3.4.min.js\", \"https://cdn.bokeh.org/bokeh/release/bokeh-gl-3.3.4.min.js\", \"https://cdn.bokeh.org/bokeh/release/bokeh-widgets-3.3.4.min.js\", \"https://cdn.bokeh.org/bokeh/release/bokeh-tables-3.3.4.min.js\", \"https://cdn.holoviz.org/panel/1.3.8/dist/panel.min.js\"];\n  var js_modules = [];\n  var js_exports = {};\n  var css_urls = [];\n  var inline_js = [    function(Bokeh) {\n      Bokeh.set_log_level(\"info\");\n    },\nfunction(Bokeh) {} // ensure no trailing comma for IE\n  ];\n\n  function run_inline_js() {\n    if ((root.Bokeh !== undefined) || (force === true)) {\n      for (var i = 0; i < inline_js.length; i++) {\n\ttry {\n          inline_js[i].call(root, root.Bokeh);\n\t} catch(e) {\n\t  if (!reloading) {\n\t    throw e;\n\t  }\n\t}\n      }\n      // Cache old bokeh versions\n      if (Bokeh != undefined && !reloading) {\n\tvar NewBokeh = root.Bokeh;\n\tif (Bokeh.versions === undefined) {\n\t  Bokeh.versions = new Map();\n\t}\n\tif (NewBokeh.version !== Bokeh.version) {\n\t  Bokeh.versions.set(NewBokeh.version, NewBokeh)\n\t}\n\troot.Bokeh = Bokeh;\n      }} else if (Date.now() < root._bokeh_timeout) {\n      setTimeout(run_inline_js, 100);\n    } else if (!root._bokeh_failed_load) {\n      console.log(\"Bokeh: BokehJS failed to load within specified timeout.\");\n      root._bokeh_failed_load = true;\n    }\n    root._bokeh_is_initializing = false\n  }\n\n  function load_or_wait() {\n    // Implement a backoff loop that tries to ensure we do not load multiple\n    // versions of Bokeh and its dependencies at the same time.\n    // In recent versions we use the root._bokeh_is_initializing flag\n    // to determine whether there is an ongoing attempt to initialize\n    // bokeh, however for backward compatibility we also try to ensure\n    // that we do not start loading a newer (Panel>=1.0 and Bokeh>3) version\n    // before older versions are fully initialized.\n    if (root._bokeh_is_initializing && Date.now() > root._bokeh_timeout) {\n      root._bokeh_is_initializing = false;\n      root._bokeh_onload_callbacks = undefined;\n      console.log(\"Bokeh: BokehJS was loaded multiple times but one version failed to initialize.\");\n      load_or_wait();\n    } else if (root._bokeh_is_initializing || (typeof root._bokeh_is_initializing === \"undefined\" && root._bokeh_onload_callbacks !== undefined)) {\n      setTimeout(load_or_wait, 100);\n    } else {\n      root._bokeh_is_initializing = true\n      root._bokeh_onload_callbacks = []\n      var bokeh_loaded = Bokeh != null && (Bokeh.version === py_version || (Bokeh.versions !== undefined && Bokeh.versions.has(py_version)));\n      if (!reloading && !bokeh_loaded) {\n\troot.Bokeh = undefined;\n      }\n      load_libs(css_urls, js_urls, js_modules, js_exports, function() {\n\tconsole.debug(\"Bokeh: BokehJS plotting callback run at\", now());\n\trun_inline_js();\n      });\n    }\n  }\n  // Give older versions of the autoload script a head-start to ensure\n  // they initialize before we start loading newer version.\n  setTimeout(load_or_wait, 100)\n}(window));",
      "application/vnd.holoviews_load.v0+json": ""
     },
     "metadata": {},
     "output_type": "display_data"
    },
    {
     "data": {
      "application/javascript": "\nif ((window.PyViz === undefined) || (window.PyViz instanceof HTMLElement)) {\n  window.PyViz = {comms: {}, comm_status:{}, kernels:{}, receivers: {}, plot_index: []}\n}\n\n\n    function JupyterCommManager() {\n    }\n\n    JupyterCommManager.prototype.register_target = function(plot_id, comm_id, msg_handler) {\n      if (window.comm_manager || ((window.Jupyter !== undefined) && (Jupyter.notebook.kernel != null))) {\n        var comm_manager = window.comm_manager || Jupyter.notebook.kernel.comm_manager;\n        comm_manager.register_target(comm_id, function(comm) {\n          comm.on_msg(msg_handler);\n        });\n      } else if ((plot_id in window.PyViz.kernels) && (window.PyViz.kernels[plot_id])) {\n        window.PyViz.kernels[plot_id].registerCommTarget(comm_id, function(comm) {\n          comm.onMsg = msg_handler;\n        });\n      } else if (typeof google != 'undefined' && google.colab.kernel != null) {\n        google.colab.kernel.comms.registerTarget(comm_id, (comm) => {\n          var messages = comm.messages[Symbol.asyncIterator]();\n          function processIteratorResult(result) {\n            var message = result.value;\n            console.log(message)\n            var content = {data: message.data, comm_id};\n            var buffers = []\n            for (var buffer of message.buffers || []) {\n              buffers.push(new DataView(buffer))\n            }\n            var metadata = message.metadata || {};\n            var msg = {content, buffers, metadata}\n            msg_handler(msg);\n            return messages.next().then(processIteratorResult);\n          }\n          return messages.next().then(processIteratorResult);\n        })\n      }\n    }\n\n    JupyterCommManager.prototype.get_client_comm = function(plot_id, comm_id, msg_handler) {\n      if (comm_id in window.PyViz.comms) {\n        return window.PyViz.comms[comm_id];\n      } else if (window.comm_manager || ((window.Jupyter !== undefined) && (Jupyter.notebook.kernel != null))) {\n        var comm_manager = window.comm_manager || Jupyter.notebook.kernel.comm_manager;\n        var comm = comm_manager.new_comm(comm_id, {}, {}, {}, comm_id);\n        if (msg_handler) {\n          comm.on_msg(msg_handler);\n        }\n      } else if ((plot_id in window.PyViz.kernels) && (window.PyViz.kernels[plot_id])) {\n        var comm = window.PyViz.kernels[plot_id].connectToComm(comm_id);\n        comm.open();\n        if (msg_handler) {\n          comm.onMsg = msg_handler;\n        }\n      } else if (typeof google != 'undefined' && google.colab.kernel != null) {\n        var comm_promise = google.colab.kernel.comms.open(comm_id)\n        comm_promise.then((comm) => {\n          window.PyViz.comms[comm_id] = comm;\n          if (msg_handler) {\n            var messages = comm.messages[Symbol.asyncIterator]();\n            function processIteratorResult(result) {\n              var message = result.value;\n              var content = {data: message.data};\n              var metadata = message.metadata || {comm_id};\n              var msg = {content, metadata}\n              msg_handler(msg);\n              return messages.next().then(processIteratorResult);\n            }\n            return messages.next().then(processIteratorResult);\n          }\n        }) \n        var sendClosure = (data, metadata, buffers, disposeOnDone) => {\n          return comm_promise.then((comm) => {\n            comm.send(data, metadata, buffers, disposeOnDone);\n          });\n        };\n        var comm = {\n          send: sendClosure\n        };\n      }\n      window.PyViz.comms[comm_id] = comm;\n      return comm;\n    }\n    window.PyViz.comm_manager = new JupyterCommManager();\n    \n\n\nvar JS_MIME_TYPE = 'application/javascript';\nvar HTML_MIME_TYPE = 'text/html';\nvar EXEC_MIME_TYPE = 'application/vnd.holoviews_exec.v0+json';\nvar CLASS_NAME = 'output';\n\n/**\n * Render data to the DOM node\n */\nfunction render(props, node) {\n  var div = document.createElement(\"div\");\n  var script = document.createElement(\"script\");\n  node.appendChild(div);\n  node.appendChild(script);\n}\n\n/**\n * Handle when a new output is added\n */\nfunction handle_add_output(event, handle) {\n  var output_area = handle.output_area;\n  var output = handle.output;\n  if ((output.data == undefined) || (!output.data.hasOwnProperty(EXEC_MIME_TYPE))) {\n    return\n  }\n  var id = output.metadata[EXEC_MIME_TYPE][\"id\"];\n  var toinsert = output_area.element.find(\".\" + CLASS_NAME.split(' ')[0]);\n  if (id !== undefined) {\n    var nchildren = toinsert.length;\n    var html_node = toinsert[nchildren-1].children[0];\n    html_node.innerHTML = output.data[HTML_MIME_TYPE];\n    var scripts = [];\n    var nodelist = html_node.querySelectorAll(\"script\");\n    for (var i in nodelist) {\n      if (nodelist.hasOwnProperty(i)) {\n        scripts.push(nodelist[i])\n      }\n    }\n\n    scripts.forEach( function (oldScript) {\n      var newScript = document.createElement(\"script\");\n      var attrs = [];\n      var nodemap = oldScript.attributes;\n      for (var j in nodemap) {\n        if (nodemap.hasOwnProperty(j)) {\n          attrs.push(nodemap[j])\n        }\n      }\n      attrs.forEach(function(attr) { newScript.setAttribute(attr.name, attr.value) });\n      newScript.appendChild(document.createTextNode(oldScript.innerHTML));\n      oldScript.parentNode.replaceChild(newScript, oldScript);\n    });\n    if (JS_MIME_TYPE in output.data) {\n      toinsert[nchildren-1].children[1].textContent = output.data[JS_MIME_TYPE];\n    }\n    output_area._hv_plot_id = id;\n    if ((window.Bokeh !== undefined) && (id in Bokeh.index)) {\n      window.PyViz.plot_index[id] = Bokeh.index[id];\n    } else {\n      window.PyViz.plot_index[id] = null;\n    }\n  } else if (output.metadata[EXEC_MIME_TYPE][\"server_id\"] !== undefined) {\n    var bk_div = document.createElement(\"div\");\n    bk_div.innerHTML = output.data[HTML_MIME_TYPE];\n    var script_attrs = bk_div.children[0].attributes;\n    for (var i = 0; i < script_attrs.length; i++) {\n      toinsert[toinsert.length - 1].childNodes[1].setAttribute(script_attrs[i].name, script_attrs[i].value);\n    }\n    // store reference to server id on output_area\n    output_area._bokeh_server_id = output.metadata[EXEC_MIME_TYPE][\"server_id\"];\n  }\n}\n\n/**\n * Handle when an output is cleared or removed\n */\nfunction handle_clear_output(event, handle) {\n  var id = handle.cell.output_area._hv_plot_id;\n  var server_id = handle.cell.output_area._bokeh_server_id;\n  if (((id === undefined) || !(id in PyViz.plot_index)) && (server_id !== undefined)) { return; }\n  var comm = window.PyViz.comm_manager.get_client_comm(\"hv-extension-comm\", \"hv-extension-comm\", function () {});\n  if (server_id !== null) {\n    comm.send({event_type: 'server_delete', 'id': server_id});\n    return;\n  } else if (comm !== null) {\n    comm.send({event_type: 'delete', 'id': id});\n  }\n  delete PyViz.plot_index[id];\n  if ((window.Bokeh !== undefined) & (id in window.Bokeh.index)) {\n    var doc = window.Bokeh.index[id].model.document\n    doc.clear();\n    const i = window.Bokeh.documents.indexOf(doc);\n    if (i > -1) {\n      window.Bokeh.documents.splice(i, 1);\n    }\n  }\n}\n\n/**\n * Handle kernel restart event\n */\nfunction handle_kernel_cleanup(event, handle) {\n  delete PyViz.comms[\"hv-extension-comm\"];\n  window.PyViz.plot_index = {}\n}\n\n/**\n * Handle update_display_data messages\n */\nfunction handle_update_output(event, handle) {\n  handle_clear_output(event, {cell: {output_area: handle.output_area}})\n  handle_add_output(event, handle)\n}\n\nfunction register_renderer(events, OutputArea) {\n  function append_mime(data, metadata, element) {\n    // create a DOM node to render to\n    var toinsert = this.create_output_subarea(\n    metadata,\n    CLASS_NAME,\n    EXEC_MIME_TYPE\n    );\n    this.keyboard_manager.register_events(toinsert);\n    // Render to node\n    var props = {data: data, metadata: metadata[EXEC_MIME_TYPE]};\n    render(props, toinsert[0]);\n    element.append(toinsert);\n    return toinsert\n  }\n\n  events.on('output_added.OutputArea', handle_add_output);\n  events.on('output_updated.OutputArea', handle_update_output);\n  events.on('clear_output.CodeCell', handle_clear_output);\n  events.on('delete.Cell', handle_clear_output);\n  events.on('kernel_ready.Kernel', handle_kernel_cleanup);\n\n  OutputArea.prototype.register_mime_type(EXEC_MIME_TYPE, append_mime, {\n    safe: true,\n    index: 0\n  });\n}\n\nif (window.Jupyter !== undefined) {\n  try {\n    var events = require('base/js/events');\n    var OutputArea = require('notebook/js/outputarea').OutputArea;\n    if (OutputArea.prototype.mime_types().indexOf(EXEC_MIME_TYPE) == -1) {\n      register_renderer(events, OutputArea);\n    }\n  } catch(err) {\n  }\n}\n",
      "application/vnd.holoviews_load.v0+json": ""
     },
     "metadata": {},
     "output_type": "display_data"
    },
    {
     "data": {
      "text/html": [
       "<style>*[data-root-id],\n",
       "*[data-root-id] > * {\n",
       "  box-sizing: border-box;\n",
       "  font-family: var(--jp-ui-font-family);\n",
       "  font-size: var(--jp-ui-font-size1);\n",
       "  color: var(--vscode-editor-foreground, var(--jp-ui-font-color1));\n",
       "}\n",
       "\n",
       "/* Override VSCode background color */\n",
       ".cell-output-ipywidget-background:has(\n",
       "    > .cell-output-ipywidget-background > .lm-Widget > *[data-root-id]\n",
       "  ),\n",
       ".cell-output-ipywidget-background:has(> .lm-Widget > *[data-root-id]) {\n",
       "  background-color: transparent !important;\n",
       "}\n",
       "</style>"
      ]
     },
     "metadata": {},
     "output_type": "display_data"
    },
    {
     "data": {
      "application/vnd.holoviews_exec.v0+json": "",
      "text/html": [
       "<div id='59b86750-01a7-4dc2-b342-bab8fbc354e3'>\n",
       "  <div id=\"a2ad2405-52d6-45f0-b97e-9db0f9a10112\" data-root-id=\"59b86750-01a7-4dc2-b342-bab8fbc354e3\" style=\"display: contents;\"></div>\n",
       "</div>\n",
       "<script type=\"application/javascript\">(function(root) {\n",
       "  var docs_json = {\"159cb5bf-41b8-4b4c-829c-180f1118dcff\":{\"version\":\"3.3.4\",\"title\":\"Bokeh Application\",\"roots\":[{\"type\":\"object\",\"name\":\"panel.models.browser.BrowserInfo\",\"id\":\"59b86750-01a7-4dc2-b342-bab8fbc354e3\"},{\"type\":\"object\",\"name\":\"panel.models.comm_manager.CommManager\",\"id\":\"dc81239e-1926-4036-b4d4-38a3c112e4f4\",\"attributes\":{\"plot_id\":\"59b86750-01a7-4dc2-b342-bab8fbc354e3\",\"comm_id\":\"49c7641412ab4f24acbf63a215669d22\",\"client_comm_id\":\"ba4a1cf1fd974f78a0f683e0c44c1850\"}}],\"defs\":[{\"type\":\"model\",\"name\":\"ReactiveHTML1\"},{\"type\":\"model\",\"name\":\"FlexBox1\",\"properties\":[{\"name\":\"align_content\",\"kind\":\"Any\",\"default\":\"flex-start\"},{\"name\":\"align_items\",\"kind\":\"Any\",\"default\":\"flex-start\"},{\"name\":\"flex_direction\",\"kind\":\"Any\",\"default\":\"row\"},{\"name\":\"flex_wrap\",\"kind\":\"Any\",\"default\":\"wrap\"},{\"name\":\"justify_content\",\"kind\":\"Any\",\"default\":\"flex-start\"}]},{\"type\":\"model\",\"name\":\"FloatPanel1\",\"properties\":[{\"name\":\"config\",\"kind\":\"Any\",\"default\":{\"type\":\"map\"}},{\"name\":\"contained\",\"kind\":\"Any\",\"default\":true},{\"name\":\"position\",\"kind\":\"Any\",\"default\":\"right-top\"},{\"name\":\"offsetx\",\"kind\":\"Any\",\"default\":null},{\"name\":\"offsety\",\"kind\":\"Any\",\"default\":null},{\"name\":\"theme\",\"kind\":\"Any\",\"default\":\"primary\"},{\"name\":\"status\",\"kind\":\"Any\",\"default\":\"normalized\"}]},{\"type\":\"model\",\"name\":\"GridStack1\",\"properties\":[{\"name\":\"mode\",\"kind\":\"Any\",\"default\":\"warn\"},{\"name\":\"ncols\",\"kind\":\"Any\",\"default\":null},{\"name\":\"nrows\",\"kind\":\"Any\",\"default\":null},{\"name\":\"allow_resize\",\"kind\":\"Any\",\"default\":true},{\"name\":\"allow_drag\",\"kind\":\"Any\",\"default\":true},{\"name\":\"state\",\"kind\":\"Any\",\"default\":[]}]},{\"type\":\"model\",\"name\":\"drag1\",\"properties\":[{\"name\":\"slider_width\",\"kind\":\"Any\",\"default\":5},{\"name\":\"slider_color\",\"kind\":\"Any\",\"default\":\"black\"},{\"name\":\"value\",\"kind\":\"Any\",\"default\":50}]},{\"type\":\"model\",\"name\":\"click1\",\"properties\":[{\"name\":\"terminal_output\",\"kind\":\"Any\",\"default\":\"\"},{\"name\":\"debug_name\",\"kind\":\"Any\",\"default\":\"\"},{\"name\":\"clears\",\"kind\":\"Any\",\"default\":0}]},{\"type\":\"model\",\"name\":\"copy_to_clipboard1\",\"properties\":[{\"name\":\"fill\",\"kind\":\"Any\",\"default\":\"none\"},{\"name\":\"value\",\"kind\":\"Any\",\"default\":null}]},{\"type\":\"model\",\"name\":\"FastWrapper1\",\"properties\":[{\"name\":\"object\",\"kind\":\"Any\",\"default\":null},{\"name\":\"style\",\"kind\":\"Any\",\"default\":null}]},{\"type\":\"model\",\"name\":\"NotificationAreaBase1\",\"properties\":[{\"name\":\"js_events\",\"kind\":\"Any\",\"default\":{\"type\":\"map\"}},{\"name\":\"position\",\"kind\":\"Any\",\"default\":\"bottom-right\"},{\"name\":\"_clear\",\"kind\":\"Any\",\"default\":0}]},{\"type\":\"model\",\"name\":\"NotificationArea1\",\"properties\":[{\"name\":\"js_events\",\"kind\":\"Any\",\"default\":{\"type\":\"map\"}},{\"name\":\"notifications\",\"kind\":\"Any\",\"default\":[]},{\"name\":\"position\",\"kind\":\"Any\",\"default\":\"bottom-right\"},{\"name\":\"_clear\",\"kind\":\"Any\",\"default\":0},{\"name\":\"types\",\"kind\":\"Any\",\"default\":[{\"type\":\"map\",\"entries\":[[\"type\",\"warning\"],[\"background\",\"#ffc107\"],[\"icon\",{\"type\":\"map\",\"entries\":[[\"className\",\"fas fa-exclamation-triangle\"],[\"tagName\",\"i\"],[\"color\",\"white\"]]}]]},{\"type\":\"map\",\"entries\":[[\"type\",\"info\"],[\"background\",\"#007bff\"],[\"icon\",{\"type\":\"map\",\"entries\":[[\"className\",\"fas fa-info-circle\"],[\"tagName\",\"i\"],[\"color\",\"white\"]]}]]}]}]},{\"type\":\"model\",\"name\":\"Notification\",\"properties\":[{\"name\":\"background\",\"kind\":\"Any\",\"default\":null},{\"name\":\"duration\",\"kind\":\"Any\",\"default\":3000},{\"name\":\"icon\",\"kind\":\"Any\",\"default\":null},{\"name\":\"message\",\"kind\":\"Any\",\"default\":\"\"},{\"name\":\"notification_type\",\"kind\":\"Any\",\"default\":null},{\"name\":\"_destroyed\",\"kind\":\"Any\",\"default\":false}]},{\"type\":\"model\",\"name\":\"TemplateActions1\",\"properties\":[{\"name\":\"open_modal\",\"kind\":\"Any\",\"default\":0},{\"name\":\"close_modal\",\"kind\":\"Any\",\"default\":0}]},{\"type\":\"model\",\"name\":\"BootstrapTemplateActions1\",\"properties\":[{\"name\":\"open_modal\",\"kind\":\"Any\",\"default\":0},{\"name\":\"close_modal\",\"kind\":\"Any\",\"default\":0}]},{\"type\":\"model\",\"name\":\"MaterialTemplateActions1\",\"properties\":[{\"name\":\"open_modal\",\"kind\":\"Any\",\"default\":0},{\"name\":\"close_modal\",\"kind\":\"Any\",\"default\":0}]}]}};\n",
       "  var render_items = [{\"docid\":\"159cb5bf-41b8-4b4c-829c-180f1118dcff\",\"roots\":{\"59b86750-01a7-4dc2-b342-bab8fbc354e3\":\"a2ad2405-52d6-45f0-b97e-9db0f9a10112\"},\"root_ids\":[\"59b86750-01a7-4dc2-b342-bab8fbc354e3\"]}];\n",
       "  var docs = Object.values(docs_json)\n",
       "  if (!docs) {\n",
       "    return\n",
       "  }\n",
       "  const py_version = docs[0].version.replace('rc', '-rc.').replace('.dev', '-dev.')\n",
       "  function embed_document(root) {\n",
       "    var Bokeh = get_bokeh(root)\n",
       "    Bokeh.embed.embed_items_notebook(docs_json, render_items);\n",
       "    for (const render_item of render_items) {\n",
       "      for (const root_id of render_item.root_ids) {\n",
       "\tconst id_el = document.getElementById(root_id)\n",
       "\tif (id_el.children.length && (id_el.children[0].className === 'bk-root')) {\n",
       "\t  const root_el = id_el.children[0]\n",
       "\t  root_el.id = root_el.id + '-rendered'\n",
       "\t}\n",
       "      }\n",
       "    }\n",
       "  }\n",
       "  function get_bokeh(root) {\n",
       "    if (root.Bokeh === undefined) {\n",
       "      return null\n",
       "    } else if (root.Bokeh.version !== py_version) {\n",
       "      if (root.Bokeh.versions === undefined || !root.Bokeh.versions.has(py_version)) {\n",
       "\treturn null\n",
       "      }\n",
       "      return root.Bokeh.versions.get(py_version);\n",
       "    } else if (root.Bokeh.version === py_version) {\n",
       "      return root.Bokeh\n",
       "    }\n",
       "    return null\n",
       "  }\n",
       "  function is_loaded(root) {\n",
       "    var Bokeh = get_bokeh(root)\n",
       "    return (Bokeh != null && Bokeh.Panel !== undefined && ( root['echarts'] !== undefined) && ( root['echarts'] !== undefined) && ( root['echarts'] !== undefined))\n",
       "  }\n",
       "  if (is_loaded(root)) {\n",
       "    embed_document(root);\n",
       "  } else {\n",
       "    var attempts = 0;\n",
       "    var timer = setInterval(function(root) {\n",
       "      if (is_loaded(root)) {\n",
       "        clearInterval(timer);\n",
       "        embed_document(root);\n",
       "      } else if (document.readyState == \"complete\") {\n",
       "        attempts++;\n",
       "        if (attempts > 200) {\n",
       "          clearInterval(timer);\n",
       "\t  var Bokeh = get_bokeh(root)\n",
       "\t  if (Bokeh == null || Bokeh.Panel == null) {\n",
       "            console.warn(\"Panel: ERROR: Unable to run Panel code because Bokeh or Panel library is missing\");\n",
       "\t  } else {\n",
       "\t    console.warn(\"Panel: WARNING: Attempting to render but not all required libraries could be resolved.\")\n",
       "\t    embed_document(root)\n",
       "\t  }\n",
       "        }\n",
       "      }\n",
       "    }, 25, root)\n",
       "  }\n",
       "})(window);</script>"
      ]
     },
     "metadata": {
      "application/vnd.holoviews_exec.v0+json": {
       "id": "59b86750-01a7-4dc2-b342-bab8fbc354e3"
      }
     },
     "output_type": "display_data"
    },
    {
     "name": "stderr",
     "output_type": "stream",
     "text": [
      "WARNING:param.Row: Providing a width-responsive sizing_mode ('stretch_both') and a fixed width is not supported. Converting fixed width to min_width. If you intended the component to be fully width-responsive remove the heightsetting, otherwise change it to min_height. To error on the incorrect specification disable the config.layout_compatibility option.\n",
      "WARNING:param.Row: Providing a height-responsive sizing_mode ('stretch_both') and a fixed height is not supported. Converting fixed height to min_height. If you intended the component to be fully height-responsive remove the height setting, otherwise change it to min_height. To error on the incorrect specification disable the config.layout_compatibility option.\n",
      "/var/folders/th/h7c9tz61505fhg7ds00qjhlm0000gn/T/ipykernel_1168/3196471437.py:5: FutureWarning:\n",
      "\n",
      "The default value of numeric_only in DataFrame.corr is deprecated. In a future version, it will default to False. Select only valid columns or specify the value of numeric_only to silence this warning.\n",
      "\n"
     ]
    },
    {
     "name": "stdout",
     "output_type": "stream",
     "text": [
      "Launching server at http://localhost:50831\n"
     ]
    },
    {
     "data": {
      "text/plain": [
       "<panel.io.server.Server at 0x12daf9bd0>"
      ]
     },
     "execution_count": 30,
     "metadata": {},
     "output_type": "execute_result"
    }
   ],
   "source": [
    "import panel as pn\n",
    "import pandas as pd\n",
    "import plotly.graph_objects as go\n",
    "from sklearn.linear_model import LogisticRegression\n",
    "from sklearn.ensemble import RandomForestClassifier\n",
    "from sklearn.model_selection import train_test_split\n",
    "from sklearn.preprocessing import StandardScaler\n",
    "pn.extension('echarts')\n",
    "\n",
    "# Create buttons for selecting models\n",
    "button_original_dataset = pn.widgets.Button(name = 'Original Dataset')\n",
    "button_logistic_regression = pn.widgets.Button(name='Logistic Regression')\n",
    "button_random_forest = pn.widgets.Button(name='Random Forest')\n",
    "button_boosted_trees = pn.widgets.Button(name='Boosted Trees')\n",
    "button_decision_trees = pn.widgets.Button(name='Decision Trees')\n",
    "button_svm = pn.widgets.Button(name='Support Vector Machine')\n",
    "button_knn = pn.widgets.Button(name='K-Nearest Neighbors')\n",
    "\n",
    "last_reference = 0 # Create global variable to store the previous model's accuracy score\n",
    "\n",
    "# Define callback functions for the buttons\n",
    "def on_click_original_dataset(event):\n",
    "    scatter_plot.object = create_original_scatter_plot(all_songs)\n",
    "    feature_importance_plot.object = corr_plot(all_songs) # Switch in a corr plot since there are no features to show\n",
    "\n",
    "    global last_reference\n",
    "    gauge_pane.object = gauge_accuracy_viz(0,0)\n",
    "\n",
    "def on_click_logistic_regression(event):\n",
    "    scatter_plot.object = model_plot(y_pred_lr)  \n",
    "    feature_importance_plot.object = plot_linear_feature_importance(lr_model)\n",
    "    \n",
    "    global last_reference\n",
    "    gauge_pane.object = gauge_accuracy_viz(accuracy_lr, last_reference)\n",
    "    last_reference = accuracy_lr\n",
    "\n",
    "def on_click_random_forest(event):\n",
    "    scatter_plot.object =  model_plot(y_pred_rf) \n",
    "    feature_importance_plot.object = plot_tree_feature_importance(rf_model)\n",
    "\n",
    "    global last_reference\n",
    "    gauge_pane.object = gauge_accuracy_viz(rf_accuracy, last_reference)\n",
    "    last_reference = rf_accuracy\n",
    "\n",
    "def on_click_boosted_trees(event):\n",
    "    scatter_plot.object =  model_plot(y_pred_boost) \n",
    "    feature_importance_plot.object =  plot_tree_feature_importance(boost_model)\n",
    "\n",
    "    global last_reference\n",
    "    gauge_pane.object = gauge_accuracy_viz(boost_accuracy, last_reference)\n",
    "    last_reference = boost_accuracy\n",
    "\n",
    "def on_click_decision_trees(event):\n",
    "    scatter_plot.object = model_plot(y_pred_dec_tree) \n",
    "    feature_importance_plot.object = plot_tree_feature_importance(dec_tree_model)\n",
    "    \n",
    "    global last_reference\n",
    "    gauge_pane.object = gauge_accuracy_viz(dec_tree_accuracy, last_reference)\n",
    "    last_reference = dec_tree_accuracy\n",
    "\n",
    "def on_click_svm(event):\n",
    "    scatter_plot.object = model_plot(y_pred_svm) \n",
    "    feature_importance_plot.object = plot_linear_feature_importance(svm_model)\n",
    "\n",
    "    global last_reference\n",
    "    gauge_pane.object = gauge_accuracy_viz(svm_accuracy, last_reference)\n",
    "    last_reference = svm_accuracy\n",
    "\n",
    "def on_click_knn(event):\n",
    "    scatter_plot.object = model_plot(y_pred_knn) \n",
    "    feature_importance_plot.object =  plot_tree_feature_importance(knn_model)\n",
    "\n",
    "    global last_reference\n",
    "    gauge_pane.object = gauge_accuracy_viz(knn_accuracy, last_reference)\n",
    "    last_reference = knn_accuracy\n",
    "\n",
    "\n",
    "# Bind callbacks when button is clicked\n",
    "button_original_dataset.on_click(on_click_original_dataset)\n",
    "button_logistic_regression.on_click(on_click_logistic_regression)\n",
    "button_random_forest.on_click(on_click_random_forest)\n",
    "button_boosted_trees.on_click(on_click_boosted_trees)\n",
    "button_decision_trees.on_click(on_click_decision_trees)\n",
    "button_svm.on_click(on_click_svm)\n",
    "button_knn.on_click(on_click_knn)\n",
    "\n",
    "\n",
    "# Create scatter plot widget\n",
    "scatter_plot = pn.pane.Plotly()\n",
    "\n",
    "# Create feature importance plot widget\n",
    "feature_importance_plot = pn.pane.Plotly()  # plot_feature_importance(lr_model) \n",
    "\n",
    "# Create gauge visualization pane\n",
    "gauge_pane = pn.pane.Plotly() #gauge_accuracy_viz(rf_accuracy, last_reference)\n",
    "\n",
    "# Create logo pane\n",
    "panel_logo = pn.pane.PNG(\n",
    "    '/Users/piero/Downloads/Spotify_Project/Spotify_Logo_RGB_Green.png',\n",
    "    width=150, height=95, align='center'\n",
    ")\n",
    "\n",
    "#text1 = 'Visualize the performance of machine learning models in classifying songs from my playlist and my friends.' \n",
    "text2 = 'Select a model using the buttons above to visualize its performance.' \n",
    "text3 = '[View dashboard code](link_to_your_code)'\n",
    "\n",
    "# Dashboard layout\n",
    "template = pn.template.FastListTemplate(theme=\"dark\",\n",
    "    logo = '/Users/piero/Downloads/Spotify_Project/Spotify_Logo_RGB_Green.png',\n",
    "    title = \"Visualizing Spotify Song Classification Performance\",\n",
    "    sidebar =[pn.pane.Markdown(\"## Reset\"),   \n",
    "             button_original_dataset, pn.pane.Markdown(\"## Models\"), button_logistic_regression, button_random_forest, \n",
    "             button_boosted_trees, button_decision_trees, button_svm, text2, text3],\n",
    "    main=[\n",
    "            pn.Row(pn.Column(scatter_plot, sizing_mode='stretch_both', margin=(-20,0,0,-24))),\n",
    "            pn.Row(pn.Column(feature_importance_plot, margin=(11,0,0,-24)),\n",
    "                   pn.Column(gauge_pane, margin=(11,0,0,-13)), sizing_mode='stretch_both', height=400, width=950\n",
    "                  )\n",
    "          ],\n",
    "    theme_toggle = False,\n",
    "    accent_base_color=\"#0bff38\", # change color of hyperlink text\n",
    "    header_background=\"#1f2630\", # change color of header banner | previous color: #009E60\n",
    "    header_color = '#0bff38', # change color of header text | previous color: #57ff76\n",
    "    main_max_width = '900',\n",
    "    main_layout = None, # maximum width of the main area containing all plots\n",
    "    sidebar_width=172, # adjust sidebar size\n",
    "    font = 'https://fonts.googleapis.com/css2?family=Raleway:ital,wght@0,100;1,100&display=swap'\n",
    "    \n",
    ") \n",
    "\n",
    "# Load original dataset button images on startup\n",
    "on_click_original_dataset(None)\n",
    "\n",
    "# Display the dashboard\n",
    "template.show()"
   ]
  },
  {
   "attachments": {},
   "cell_type": "markdown",
   "metadata": {},
   "source": [
    "## Final Thoughts\n",
    "Overall, this project provided an amazing opportunity to delve into the realm of music data analysis, machine learning, and dashboarding. It was fascinating to uncover the intricate patterns within our Spotify Wrapped playlists and to conduct statistical comparisons of our music tastes. I was incredibly excited to visualize the similarities in our music tastes and gain deeper insights into our listening habits. While our classification models didn't achieve perfection, they still yielded remarkably accurate results, hinting at meaningful distinctions in the songs favored by Nirvit and myself.\n",
    "\n",
    "For those interested in conducting a similar analysis using Python, I recommend exploring my [GitHub repository](https://github.com/suppiero/spotify_classification_dash) dedicated to this project."
   ]
  },
  {
   "attachments": {},
   "cell_type": "markdown",
   "metadata": {},
   "source": [
    "## Sources\n",
    "I'd like to extend a special thank you to the wonderful data analysts who inspired me to make this project, offering invaluable ideas and sharing fantastic source code.\n",
    "* [Whose Song is it Anyway? By Lewis White.](https://lewis-r-white.github.io/posts/2023-03-13-spotify-ML-blog/)\n",
    "* [How to Create a Beautiful Python Visualization Dashboard With Panel/Hvplot. By Thu Vu Data Analytics.](https://www.youtube.com/watch?v=uhxiXOTKzfs)\n",
    "* [Predicting Song Popularity. By Alison Salerno.](https://github.com/AlisonSalerno/song-popularity-linear-regression/tree/master)\n",
    "* [App Gallery. By Panel.](https://panel.holoviz.org/gallery/index.html)"
   ]
  }
 ],
 "metadata": {
  "kernelspec": {
   "display_name": "Python 3",
   "language": "python",
   "name": "python3"
  },
  "language_info": {
   "codemirror_mode": {
    "name": "ipython",
    "version": 3
   },
   "file_extension": ".py",
   "mimetype": "text/x-python",
   "name": "python",
   "nbconvert_exporter": "python",
   "pygments_lexer": "ipython3",
   "version": "3.11.1"
  },
  "orig_nbformat": 4,
  "vscode": {
   "interpreter": {
    "hash": "aee8b7b246df8f9039afb4144a1f6fd8d2ca17a180786b69acc140d282b71a49"
   }
  }
 },
 "nbformat": 4,
 "nbformat_minor": 2
}
