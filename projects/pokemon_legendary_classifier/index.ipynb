{
  "cells": [
    {
      "cell_type": "raw",
      "metadata": {},
      "source": [
        "---\n",
        "title: \"Classifying Legendary Pokemon\"\n",
        "description: \"Predicting whether a pokemon is legendary based on their stats & attributes.\"\n",
        "author:\n",
        "  - name: Piero Trujillo and Randy Ross\n",
        "    url: https://suppiero.github.io \n",
        "    affiliation: Bachelor's of Statistics and Data Science (UCSB) \n",
        "    #affiliation-url: https://ucsb-meds.github.io\n",
        "date: 2020-12-04\n",
        "categories: [K NEAREST NEIGHBORS, DATA VISUALIZATION, PYTHON]\n",
        "citation:\n",
        "  url: https://suppiero.github.io/projects/pokemon_legendary_classifier/\n",
        "#bibliography: references.bib # fix bibliography\n",
        "format:\n",
        "  html:\n",
        "    code-fold: false\n",
        "    code-summary: \"code dropdown\"\n",
        "image: \"surprised_pikachu.png\"\n",
        "draft: false # \"true\" will mean this is a draft post so it wont show up on my site\n",
        "---"
      ],
      "id": "54a1a569"
    },
    {
      "cell_type": "markdown",
      "metadata": {},
      "source": [
        "# Abstract\n",
        "\n",
        "The focus of our project was to find a reliable way to classify legendary pokemon based on their different attributes. Many attributes of a pokemon were taken into account. These included their capture rate as well as their attack, defense, and speed stats. With our findings we could compare our results with ordinary pokemon, whose stats neighbored those of a legendary pokemon, in order to strong pokemon that would ordinarily be overlooked. Our data showed that the best classifiers for a legendary pokemon were their capture rate and defense stat. Therefore, legendary pokemon must have low capture rates and high defense stats. With this in mind, we were able to classify legendary pokemon with a success rate of 95.9%.\n",
        "\n",
        "# Introduction\n",
        "\n",
        "Our primary goal was to build a classifier to identify legendary pokemon. We wondered which statistic would be the best indicator of a legendary pokemon. By comparing the stats of both regular and legendary pokemon, we would be able to find hidden gems in the game and be closer to building a Pokemon dream team: a team of 6 Pokemon that inflicts the most damage while remaining relatively impervious to any other team of 6 Pokemon.\n",
        "\n",
        "Our motivation is that Pokemon is awesome, simple as that. As the leading franchise of all time, Pokemon holds a special place in the hearts of a lot of people. Every new generation brings a lot of fresh faces into the world of Pokemon and the pandemic has definitely given us the time and lingering nostalgia to rope us back in as we try to relive those fun times. Whether you’re an experienced trainer looking to optimize your playthrough or a newcomer ready to learn the basics, the conclusions from this data set will guide you through your Pokemon journey.\n",
        "\n",
        "For readers unaware, Pokemon is a role playing game where you explore the world as a trainer who captures different pokemon, defeat gym leaders and eventually challenge elite trainers to become a pokemon master. Legendary pokemon can only be found once in the game, making them highly coveted and a rarity. They typically have very high stats, leading them to be very strong additions to your team. The main stats we are looking at  are capture rate, attack, defense, and speed. Capture rate is an important stat because it shows you the success rate of catching a pokemon. The higher the capture rate, the easier it is to catch a pokemon. Likewise, better Pokemon will have lower catch rates so you can’t easily get an overpowered pokemon. Therefore, legendary pokemon should correlate to a lower capture rate since they are the epitome of a powerful Pokemon. The attack and defense values show a pokemon’s base stats in these fields. Attack and defense correlate with their damage and resistance to physical move types like Rock or Normal types. In addition, Pokemon also have Special Attack and Special Defense stats to show their damage and resistance to special moves, usually with types like Fire or Psychic. Speed is an especially important stat because the fastest pokemon always attacks first and a higher speed stat makes it easier to land critical hits. The dataset we are using is [The Complete Pokemon Dataset](https://www.kaggle.com/rounakbanik/pokemon) by Rounak Banik, which contains information about 802 Pokemon from the first seven generations. The data set includes the names of the Pokemon, their primary and secondary types, attack and defense, and whether it is a legendary or not, in addition to other stats.\n",
        "\n",
        "# Data and EDA\n"
      ],
      "id": "fcabe19f"
    },
    {
      "cell_type": "code",
      "metadata": {},
      "source": [
        "import numpy as np\n",
        "from datascience import *\n",
        "import random\n",
        "import matplotlib\n",
        "%matplotlib inline\n",
        "import matplotlib.pyplot as plt\n",
        "from mpl_toolkits.mplot3d import Axes3D\n",
        "plt.style.use('fivethirtyeight')\n",
        "import warnings\n",
        "warnings.simplefilter('ignore', FutureWarning)\n",
        "np.random.seed(3)\n",
        "random.seed(3)"
      ],
      "id": "49bbfeb9",
      "execution_count": null,
      "outputs": []
    },
    {
      "cell_type": "code",
      "metadata": {},
      "source": [
        "pokemon = Table.read_table(\"/Users/brizaespinoza/Downloads/pokemon.csv\")\n",
        "pokemon "
      ],
      "id": "41594b17",
      "execution_count": null,
      "outputs": []
    },
    {
      "cell_type": "markdown",
      "metadata": {},
      "source": [
        "## The Complete Pokemon Dataset - Rounak Banik\n",
        "\n",
        "https://www.kaggle.com/rounakbanik/pokemon\n",
        "\n",
        "**Ethical Considerations**\n",
        "\n",
        "- Rounak Banik collected this data from http://serebii.net/, a very reputable Pokemon fan-site, because Pokemon is very special to him and built the dataset out of passion and curiosity for the game.\n",
        "- We believe the analysis of this dataset does not cause harm to anyone because those represented in the data only exist virtually.\n",
        "- Digital beings known as Pokemon are represented in the dataset. Nothing is being over-represented because the data is focusing solely on Pokemon and not any other groups.\n",
        "- This could be considered ethically wrong if you are new to the game and want to experience it naturally.\n",
        "\n",
        "**Relevant Attributes**\n",
        "- The only data missing from the dataset is Pokemon generation 8 (released in 2019), which would bring it up to date.\n",
        "- We are attempting to classify whether or not a certain Pokemon is legendary or not.\n",
        "\t+ The variable will be either 0 or 1, where 0 means not legendary, and 1 means legendary.\n",
        "- We will use attributes attack and sp_attack, defense and sp_defense (sp = special), capture rate, hp (hit points), and speed.\n",
        "- We removed one Pokemon whose capture rate was \"30 (Meteorite)255 (Core)\", which is not a plain number.\n",
        "\n",
        "## EDA\n"
      ],
      "id": "4ce94606"
    },
    {
      "cell_type": "code",
      "metadata": {},
      "source": [
        "pokemon.scatter(\"attack\", \"defense\", group=\"is_legendary\")"
      ],
      "id": "d4cef5da",
      "execution_count": null,
      "outputs": []
    },
    {
      "cell_type": "code",
      "metadata": {},
      "source": [
        "pokemon.scatter(\"sp_attack\", \"sp_defense\", group=\"is_legendary\")"
      ],
      "id": "433f62c2",
      "execution_count": null,
      "outputs": []
    },
    {
      "cell_type": "code",
      "metadata": {},
      "source": [
        "pokemon.scatter(\"hp\", \"defense\", group=\"is_legendary\")"
      ],
      "id": "b335e7e3",
      "execution_count": null,
      "outputs": []
    },
    {
      "cell_type": "code",
      "metadata": {},
      "source": [
        "ax = plt.figure(figsize=(8,8)).add_subplot(111, projection='3d')\n",
        "ax.scatter(pokemon.column(\"attack\"),\n",
        "       \tpokemon.column(\"defense\"),\n",
        "       \tpokemon.column(\"speed\"),\n",
        "       \tc=pokemon.column(\"is_legendary\"));"
      ],
      "id": "6eacae9d",
      "execution_count": null,
      "outputs": []
    },
    {
      "cell_type": "code",
      "metadata": {},
      "source": [
        "ax = plt.figure(figsize=(8,8)).add_subplot(111, projection='3d')\n",
        "ax.scatter(pokemon.column(\"capture_rate\"),\n",
        "       \tpokemon.column(\"attack\"),\n",
        "       \tpokemon.column(\"defense\"),\n",
        "       \tc=pokemon.column(\"is_legendary\"));"
      ],
      "id": "a0fe9cba",
      "execution_count": null,
      "outputs": []
    },
    {
      "cell_type": "code",
      "metadata": {},
      "source": [
        "best_columns = pokemon.select(\"name\", \"attack\", \"defense\", \"capture_rate\", \"is_legendary\")\n",
        "\n",
        "legendaries = best_columns.where(\"is_legendary\", are.equal_to(1))\n",
        "\n",
        "capture_rate = legendaries.group(\"capture_rate\")\n",
        "attack = legendaries.group(\"attack\")\n",
        "defense = legendaries.group(\"defense\")\n",
        "\n",
        "capture_rate.show()\n",
        "# attack.show()\n",
        "# defense.show()"
      ],
      "id": "1fc2f42d",
      "execution_count": null,
      "outputs": []
    },
    {
      "cell_type": "markdown",
      "metadata": {},
      "source": [
        "The above table shows that 53 of the 70 legendary Pokemon have the lowest capture rate in the game.\n"
      ],
      "id": "ca4e43b7"
    },
    {
      "cell_type": "code",
      "metadata": {},
      "source": [
        "lowest_capture_rate = best_columns.sort(\"capture_rate\")\n",
        "lowest_capture_rate.take(range(20)).show()"
      ],
      "id": "14acb972",
      "execution_count": null,
      "outputs": []
    },
    {
      "cell_type": "markdown",
      "metadata": {},
      "source": [
        "The above table shows that only 3 of the 20 lowest capture rates are non-legendary.\n"
      ],
      "id": "bcd2d2dc"
    },
    {
      "cell_type": "code",
      "metadata": {},
      "source": [
        "highest_defense = best_columns.sort(\"defense\", descending=True)\n",
        "\n",
        "highest_defense_20 = highest_defense.take(range(20))\n",
        "highest_defense_20.show()\n",
        "highest_defense_20.group(\"is_legendary\")"
      ],
      "id": "5769e07c",
      "execution_count": null,
      "outputs": []
    },
    {
      "cell_type": "code",
      "metadata": {},
      "source": [
        "highest_attack = best_columns.sort(\"attack\", descending=True)\n",
        "\n",
        "highest_attack_20 = highest_attack.take(range(20))\n",
        "highest_attack_100 = highest_attack.take(range(100))\n",
        "highest_attack_200 = highest_attack.take(range(200))\n",
        "\n",
        "# Number of legendaries in top defense pokemon\n",
        "highest_attack_20_sum = highest_attack_20.stats().where(\"statistic\", are.equal_to(\"sum\"))[5][0]\n",
        "highest_attack_100_sum = highest_attack_100.stats().where(\"statistic\", are.equal_to(\"sum\"))[5][0]\n",
        "highest_attack_200_sum = highest_attack_200.stats().where(\"statistic\", are.equal_to(\"sum\"))[5][0]\n",
        "\n",
        "print(\"% legendary in top 20:\", (highest_attack_20_sum / 20) * 100)\n",
        "print(\"% legendary in top 100:\", (highest_attack_100_sum / 100) * 100)\n",
        "print(\"% legendary in top 200:\", (highest_attack_200_sum / 200) * 100)"
      ],
      "id": "5441186f",
      "execution_count": null,
      "outputs": []
    },
    {
      "cell_type": "markdown",
      "metadata": {},
      "source": [
        "This may be implying that when sorted by attack, more legendaries are concentrated at the top.\n"
      ],
      "id": "feaab6cd"
    },
    {
      "cell_type": "code",
      "metadata": {},
      "source": [
        "highest_defense_20 = highest_defense.take(range(20))\n",
        "highest_defense_100 = highest_defense.take(range(100))\n",
        "highest_defense_200 = highest_defense.take(range(200))\n",
        "\n",
        "# Number of legendaries in top defense pokemon\n",
        "highest_defense_20_sum = highest_defense_20.stats().where(\"statistic\", are.equal_to(\"sum\"))[5][0]\n",
        "highest_defense_100_sum = highest_defense_100.stats().where(\"statistic\", are.equal_to(\"sum\"))[5][0]\n",
        "highest_defense_200_sum = highest_defense_200.stats().where(\"statistic\", are.equal_to(\"sum\"))[5][0]\n",
        "\n",
        "print(\"% legendary in top 20:\", (highest_defense_20_sum / 20) * 100)\n",
        "print(\"% legendary in top 100:\", (highest_defense_100_sum / 100) * 100)\n",
        "print(\"% legendary in top 200:\", (highest_defense_200_sum / 200) * 100)"
      ],
      "id": "b3e4331e",
      "execution_count": null,
      "outputs": []
    },
    {
      "cell_type": "markdown",
      "metadata": {},
      "source": [
        "Unlike attack, when sorted by defense, there is not a higher concentration of legendaries at the top.\n"
      ],
      "id": "fed95c88"
    },
    {
      "cell_type": "code",
      "metadata": {},
      "source": [
        "lowest_defense = best_columns.sort(\"defense\")\n",
        "\n",
        "lowest_defense_20 = lowest_defense.take(range(20))\n",
        "lowest_defense_20.show()\n",
        "lowest_defense_20.group(\"is_legendary\")"
      ],
      "id": "935302b9",
      "execution_count": null,
      "outputs": []
    },
    {
      "cell_type": "code",
      "metadata": {},
      "source": [
        "lowest_attack = best_columns.sort(\"attack\")\n",
        "\n",
        "lowest_attack_20 = lowest_attack.take(range(20))\n",
        "lowest_attack_20.show()\n",
        "lowest_attack_20.group(\"is_legendary\")"
      ],
      "id": "f217d08f",
      "execution_count": null,
      "outputs": []
    },
    {
      "cell_type": "markdown",
      "metadata": {},
      "source": [
        "It seems that the capture rate of the Pokemon is the best indicator of whether it is legendary or not. The attack and defense of the Pokemon may also be a good indicator.\n",
        "\n",
        "# Classification\n",
        "\n",
        "## Training and testing sets\n"
      ],
      "id": "670043db"
    },
    {
      "cell_type": "code",
      "metadata": {},
      "source": [
        "pokemon_classify_columns = pokemon.select(\"attack\", \"defense\", \"capture_rate\", \"is_legendary\")\n",
        "\n",
        "pokemon_classify_columns.stats()"
      ],
      "id": "4b002d7c",
      "execution_count": null,
      "outputs": []
    },
    {
      "cell_type": "code",
      "metadata": {
        "scrolled": true
      },
      "source": [
        "all_legendaries = pokemon_classify_columns.where(\"is_legendary\", are.equal_to(1)).sample(with_replacement=False)\n",
        "non_legendaries = pokemon_classify_columns.where(\"is_legendary\", are.equal_to(0)).sample(with_replacement=False)\n",
        "\n",
        "num_legendary = all_legendaries.num_rows\n",
        "num_non_legendary = non_legendaries.num_rows\n",
        "\n",
        "num_legendary_training = int(0.667 * num_legendary)\n",
        "num_non_legendary_training = int(0.667 * num_non_legendary)\n",
        "\n",
        "\n",
        "# Take first two thirds legendary and non-legendary pokemon\n",
        "training_legendary = all_legendaries.take(np.arange(num_legendary_training))\n",
        "training_non_legendary = non_legendaries.take(np.arange(num_non_legendary_training))\n",
        "\n",
        "\n",
        "# Take last third legendary and non-legendary\n",
        "testing_legendary = all_legendaries.take(np.arange(num_legendary_training, num_legendary))\n",
        "testing_non_legendary = non_legendaries.take(np.arange(num_non_legendary_training, num_non_legendary))\n",
        "\n",
        "\n",
        "# Append training and testing legendary and non-legendary\n",
        "testing_legendary.append(testing_non_legendary)\n",
        "training_legendary.append(training_non_legendary)\n",
        "\n",
        "\n",
        "# Shuffle training and testing and assign new names\n",
        "training = training_legendary.shuffle()\n",
        "testing = testing_legendary.shuffle()\n",
        "\n",
        "training.relabel(\"is_legendary\", \"Class\")\n",
        "testing.relabel(\"is_legendary\", \"Class\")"
      ],
      "id": "15847b20",
      "execution_count": null,
      "outputs": []
    },
    {
      "cell_type": "markdown",
      "metadata": {},
      "source": [
        "We are putting two thirds of all the Pokemon into the training set, and the other third into the testing set. To make sure both sets have legendary Pokemon, first the legendary pokemon are separated from the non-legendary, and two thirds from each catagory are put into the training set, and the rest into the testing set.\n",
        "\n",
        "### Classifier\n"
      ],
      "id": "870531ef"
    },
    {
      "cell_type": "code",
      "metadata": {},
      "source": [
        "def accuracy(predictions, labels):\n",
        "\tdiff = labels - predictions\n",
        "\tnum_incorrect = np.count_nonzero(diff)\n",
        "\tnum_correct = len(labels) - num_incorrect\n",
        "\taccuracy = num_correct / len(labels)\n",
        "\treturn accuracy"
      ],
      "id": "830ce07c",
      "execution_count": null,
      "outputs": []
    },
    {
      "cell_type": "code",
      "metadata": {},
      "source": [
        "def distance_nn(point1, point2):\n",
        "  \"\"\"The distance between two arrays of numbers.\"\"\"\n",
        "  return np.sqrt(np.sum((point1 - point2)**2))\n",
        "\n",
        "def all_distances(training, point):\n",
        "  \"\"\"The distance between p (an array of numbers) and the numbers in row i of attribute_table.\"\"\"\n",
        "  attributes = training.drop('Class')\n",
        "  def distance_from_point(row):\n",
        "    return distance_nn(point, np.array(row))\n",
        "  return attributes.apply(distance_from_point)\n",
        "\n",
        "def table_with_distances(training, point):\n",
        "  \"\"\"A copy of the training table with the distance from each row to array p.\"\"\"\n",
        "  return training.with_column('Distance', all_distances(training, point))\n",
        "\n",
        "def closest(training, point, k):\n",
        "\t\"\"\"A table containing the k closest rows in the training table to array p.\"\"\"\n",
        "\twith_dists = table_with_distances(training, point)\n",
        "\tsorted_by_distance = with_dists.sort('Distance')\n",
        "\ttopk = sorted_by_distance.take(np.arange(k))\n",
        "\treturn topk\n",
        "\n",
        "def majority(topkclasses):\n",
        "  \"\"\"1 if the majority of the \"Class\" column is 1s, and 0 otherwise.\"\"\"\n",
        "  ones = topkclasses.where('Class', are.equal_to(1)).num_rows\n",
        "  zeros = topkclasses.where('Class', are.equal_to(0)).num_rows\n",
        "  if ones > zeros:\n",
        "    return 1\n",
        "  else:\n",
        "    return 0\n",
        "\n",
        "def classify(training, p, k):\n",
        "  \"\"\"Classify an example with attributes p using k-nearest neighbor classification with the given training table.\"\"\"\n",
        "  closestk = closest(training, p, k)\n",
        "  topkclasses = closestk.select('Class')\n",
        "  return majority(topkclasses)\n",
        "\n",
        "def classify_table(training, points, k):\n",
        "  \"\"\"Classify a table of unlabled points using KNN\"\"\"\n",
        "  def classify_p(p):\n",
        "    return classify(training, p, k)\n",
        "\n",
        "  classes = points.apply(classify_p)\n",
        "  return points.with_column('Class', classes)"
      ],
      "id": "2e0dc380",
      "execution_count": null,
      "outputs": []
    },
    {
      "cell_type": "markdown",
      "metadata": {},
      "source": [
        "##  Classifying Legendary Pokemon\n"
      ],
      "id": "ca74f684"
    },
    {
      "cell_type": "code",
      "metadata": {},
      "source": [
        "prediction_1 = classify_table(training, testing.drop(\"Class\"), 1)\n",
        "prediction_3 = classify_table(training, testing.drop(\"Class\"), 3)\n",
        "prediction_5 = classify_table(training, testing.drop(\"Class\"), 5)"
      ],
      "id": "b61afeec",
      "execution_count": null,
      "outputs": []
    },
    {
      "cell_type": "code",
      "metadata": {},
      "source": [
        "accuracy_1 = accuracy(prediction_1.column(\"Class\"), testing.column(\"Class\"))\n",
        "accuracy_3 = accuracy(prediction_3.column(\"Class\"), testing.column(\"Class\"))\n",
        "accuracy_5 = accuracy(prediction_5.column(\"Class\"), testing.column(\"Class\"))\n",
        "\n",
        "print(\"k=1 ->\", accuracy_1)\n",
        "print(\"k=3 ->\", accuracy_3)\n",
        "print(\"k=5 ->\", accuracy_5)"
      ],
      "id": "65f82cee",
      "execution_count": null,
      "outputs": []
    },
    {
      "cell_type": "markdown",
      "metadata": {},
      "source": [
        "### Results\n",
        "\n",
        "The classifier was run using a few different k-values for the k-nearest neighbor algorithm. Using the 1st nearest-neighbor, the accuracy was about 95%. Going to the 3 nearest neighbors, the accuracy went up to about 95.5%. With 5 nearest neighbors, the accuracy was 95.9%. Increasing the k-value just slightly increases the accuracy of the classifier.\n",
        "\n",
        "# Analysis, Results, and Interpretation\n",
        "\n",
        "We achieved our goal because we were able to correctly classify legendary pokemon with a 95.9% success rate. We ran into a few issues, such as needing to relabel certain columns of the dataset to make sure it worked with our classification algorithm, and we learned how to find and consider any ethical concerns with our topic.\n",
        "\n",
        "The classifier was run using different k-values for the k-nearest neighbor algorithm. Using the 1st nearest-neighbor, the accuracy was about 95%. Going to the three nearest neighbors, the accuracy went up to about 95.5%. With 5 nearest neighbors, the accuracy was 95.9%. Increasing the k-value slightly increases the accuracy of the classifier.\n",
        "\n",
        "These results show that legendary pokemon are very likely to have high defense stats and low capture rates. We sorted all pokemon based on capture rate and defense to find specific examples to back up our claims. First, we sorted by capture rate. Out of the top 20 pokemon with the lowest capture rate, we found that all pokemon except for the three were legendary pokemon . All of the legendary pokemon had the lowest capture rate in the game, 3. The three non-legendary pokemon in the top 20 are all part of the Metagross evolution, an extremely powerful pokemon in its own right. However, we will point out that it’s a very and you receive it as a gift in his debut generation after you have already beaten the game. Second, we sorted by defense. Although we saw that the top 20 wasn’t nearly as dominated by legendaries as sorting by capture rate, we can point out that the ordinary pokemon who made and topped the defense list also had relatively higher capture rates when compared to a legendary pokemon. For example, Steelix (non-legendary) who boasts the highest defense is at the top of the list but is about eight times more easy to catch than any of the legendary pokemon in the top 20 for capture rate. Likewise, Shuckle (non-legendary), who is second on this list, has a capture rate of 190, more than 63 times easier to catch than any of the legendary pokemon in the top 20 for capture rate. Steelix actually has the lowest capture rate out of all of the non-legendary pokemon in the top 20. In contrast, all of the legendary pokemon in the top 20 have a capture rate of 3 in the top 20 highest defense list. So that’s why it is important to look at both the capture rate and the defense stat. Our claims were solidified when we looked at the top 20 lowest ranked pokemon for defense and capture rate. There were no legendary pokemon in either of those lists. Likewise, a lot of the same pokemon were found in both of the lowest ranked lists. Examples include Spearow (30 defense, 255 capture rate), Weedle (30 defense, 255 capture rate), Feebas (20 defense, 255 capture rate), and Abra (15 defense, 200 capture rate).\n",
        "\n",
        "Thus a very basic pokemon will have a high capture rate and low defense stat while legendary pokemon will have a low capture rate and high defense stats. Therefore, defense and capture rate are the best classifiers for legendary pokemon.\n",
        "\n",
        "**Ethics**\n",
        "\n",
        "A positive result that stems from our results is that it allows you to play the game more efficiently. With knowledge of the capture rate, we know whether to use an ordinary Pokeball or more effective equipment, like an Ultraball. This way you can save your hard earned in-game money. Our results are likely to affect players who want to learn more in depth about the game, whether they are new or old players. Unless they read our results however, they are not very likely to be affected by them.\n",
        "\n",
        "Our results could have a major ethical impact. For example, we could hurt a legendary pokemon’s feelings if our classifier fails to identify it as a legendary pokemon. Pokemon is also a very enjoyable game and could lead to game addiction. Unsatisfied with the current state of the world, people find solace in the world of pokemon instead of living their life to the fullest. The hours they spend playing Pokemon could also damage their eyesight. Pokemon has also been an ethically polarizing topic for animal rights activists and organizations such as PETA. They claim pokemon are enslaved and forced to fight each other for their owner’s pleasure, similar to illegal dogfighting. On the surface, it is easy to agree with this claim, as the concept of the game is to use your pokemon to defeat other trainers and achieve glory. However, by watching the anime, there are many examples of pokemon and humans living side by side. They aren’t restricted to living in pokeballs, it's just a convenient way of living. Likewise, they are able to make decisions for themselves. Pikachu, the most famous pokemon of the entire series, actually abhors being inside a pokeball and perches on Ash’s shoulder instead. Meanwhile, there are a number of cases where pokemon leave their trainers. Ash’s Butterfree found a mate and left him to live with the rest of its species. Ash’s Primeape also chose to live in a dojo and train in order to become a P1 fighting champion, and Ash’s Charizard, arguably one of his best pokemon, originally belonged to another trainer who abandoned him for being weak. Charizard then rejected reuniting himself with his former trainer when he attempted to take him back after seeing his growth. So just because a pokemon is caught, doesn’t mean they are forced to live in captivity. In addition there are many pokemon who work side by side with their trainers. Fighting type pokemon have been known to work on construction sites with workers, and hospitals employ Chanseys and Blisseys to help nurses heal pokemon and create medicine. By looking at the franchise you can see that pokemon isn't some twisted form of slavery. The message of pokemon is to find new friends and grow together. Whether that be through competing in tournaments together or traveling the world, an everlasting bond is built.\n",
        "\n",
        "# Conclusions and Future Work\n",
        "\n",
        "Based on our data, our conclusions show that the best classifiers for legendary pokemon are capture rate and defense. We supported the results from our K Nearest Neighbors algorithm by creating multiple tables of the top 20 highest and lowest ranked pokemon for capture rate and defense. Analyzing these tables verified these claims as legendary pokemon dominated the top 20 lowest capture rate table and the non-legendary pokemon who bested the top 20 highest defense table had way higher capture rates than a legendary pokemon. With this knowledge, we were able to classify legendary pokemon with a success rate of 95.9%. Therefore, legendary pokemon will have low capture rates and high defense stats.\n",
        "\n",
        "Other questions we can address with our research is whether the size and weight of a pokemon correlates with their different attack and defense stats to see if bigger and beefier pokemon are necessarily stronger. We could also rank all of the legendary pokemon to find the best legendary across all generations. Another extension of our analysis could be to find the ordinary pokemon that ranked closely to legendary pokemon in order to find strong non-legendary pokemon. We find our results to be trustworthy since our algorithm has a high success rate. Our results can be used to help new and old players alike, allowing them to optimize their teams or learn how different pokemon statistics can help them succeed in the game. We are looking forward to making more statistical analyses to assist and entertain all players, as they look to enjoy themselves in the world of Pokemon.\n"
      ],
      "id": "edf5688e"
    }
  ],
  "metadata": {
    "kernelspec": {
      "name": "python3",
      "language": "python",
      "display_name": "Python 3 (ipykernel)"
    }
  },
  "nbformat": 4,
  "nbformat_minor": 5
}