{
  "cells": [
    {
      "cell_type": "raw",
      "metadata": {},
      "source": [
        "---\n",
        "title: \"Classifying Legendary Pokemon\"\n",
        "description: \"Predicting whether a pokemon is legendary based on their stats & attributes.\"\n",
        "author:\n",
        "  - name: Piero Trujillo and Randy Ross\n",
        "    url: https://suppiero.github.io \n",
        "    affiliation: Bachelor's of Statistics and Data Science (UCSB) \n",
        "    #affiliation-url: https://ucsb-meds.github.io\n",
        "date: 2020-12-04\n",
        "categories: [K NEAREST NEIGHBORS, PYTHON]\n",
        "citation:\n",
        "  url: https://suppiero.github.io/projects/pokemon_legendary_classifier/\n",
        "#bibliography: references.bib # fix bibliography\n",
        "format:\n",
        "  html:\n",
        "    code-fold: false\n",
        "    code-summary: \"code dropdown\"\n",
        "image: \"surprised_pikachu.png\"\n",
        "draft: false # \"true\" will mean this is a draft post so it wont show up on my site\n",
        "---"
      ],
      "id": "a8924ece"
    },
    {
      "cell_type": "markdown",
      "metadata": {},
      "source": [
        "## Abstract\n",
        "\n",
        "The focus of our project was to find a reliable way to classify legendary pokemon based on their different attributes. Many attributes of a pokemon were taken into account. These included their capture rate as well as their attack, defense, and speed stats. With our findings we could compare our results with ordinary pokemon, whose stats neighbored those of a legendary pokemon, in order to strong pokemon that would ordinarily be overlooked. Our data showed that the best classifiers for a legendary pokemon were their capture rate and defense stat. Therefore, legendary pokemon must have low capture rates and high defense stats. With this in mind, we were able to classify legendary pokemon with a success rate of 95.9%.\n",
        "\n",
        "## Introduction\n",
        "\n",
        "Our primary goal was to build a classifier to identify legendary pokemon. We wondered which statistic would be the best indicator of a legendary pokemon. By comparing the stats of both regular and legendary pokemon, we would be able to find hidden gems in the game and be closer to building a Pokemon dream team: a team of 6 Pokemon that inflicts the most damage while remaining relatively impervious to any other team of 6 Pokemon.\n",
        "\n",
        "Our motivation is that Pokemon is awesome, simple as that. As the leading franchise of all time, Pokemon holds a special place in the hearts of a lot of people. Every new generation brings a lot of fresh faces into the world of Pokemon and the pandemic has definitely given us the time and lingering nostalgia to rope us back in as we try to relive those fun times. Whether you’re an experienced trainer looking to optimize your playthrough or a newcomer ready to learn the basics, the conclusions from this data set will guide you through your Pokemon journey.\n",
        "\n",
        "For readers unaware, Pokemon is a role playing game where you explore the world as a trainer who captures different pokemon, defeat gym leaders and eventually challenge elite trainers to become a pokemon master. Legendary pokemon can only be found once in the game, making them highly coveted and a rarity. They typically have very high stats, leading them to be very strong additions to your team. The main stats we are looking at are capture rate, attack, defense, and speed. Capture rate is an important stat because it shows you the success rate of catching a pokemon. The higher the capture rate, the easier it is to catch a pokemon. Likewise, better Pokemon will have lower catch rates so you can’t easily get an overpowered pokemon. Therefore, legendary pokemon should correlate to a lower capture rate since they are the epitome of a powerful Pokemon. The attack and defense values show a pokemon’s base stats in these fields. Attack and defense correlate with their damage and resistance to physical move types like Rock or Normal types. In addition, Pokemon also have Special Attack and Special Defense stats to show their damage and resistance to special moves, usually with types like Fire or Psychic. Speed is an especially important stat because the fastest pokemon always attacks first and a higher speed stat makes it easier to land critical hits. The dataset we are using is The Complete [Pokemon Dataset by Rounak Banik](https://www.kaggle.com/datasets/rounakbanik/pokemon), which contains information about 802 Pokemon from the first seven generations. The data set includes the names of the Pokemon, their primary and secondary types, attack and defense, and whether it is a legendary or not, in addition to other stats.\n",
        "\n",
        "## Data and EDA\n"
      ],
      "id": "fcc1cde7"
    },
    {
      "cell_type": "code",
      "metadata": {},
      "source": [
        "import numpy as np\n",
        "from datascience import *\n",
        "import random \n",
        "import matplotlib\n",
        "%matplotlib inline\n",
        "import matplotlib.pyplot as plt\n",
        "from mpl_toolkits.mplot3d import Axes3D \n",
        "plt.style.use('fivethirtyeight')\n",
        "import warnings\n",
        "warnings.simplefilter('ignore', FutureWarning)\n",
        "np.random.seed(3)\n",
        "random.seed(3)"
      ],
      "id": "315e6cdc",
      "execution_count": null,
      "outputs": []
    },
    {
      "cell_type": "code",
      "metadata": {},
      "source": [
        "pokemon = Table.read_table(\"pokemon.csv\")\n",
        "pokemon"
      ],
      "id": "8cff0175",
      "execution_count": null,
      "outputs": []
    }
  ],
  "metadata": {
    "kernelspec": {
      "name": "python3",
      "language": "python",
      "display_name": "Python 3 (ipykernel)"
    }
  },
  "nbformat": 4,
  "nbformat_minor": 5
}